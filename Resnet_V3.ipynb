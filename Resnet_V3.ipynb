{
  "cells": [
    {
      "cell_type": "markdown",
      "metadata": {
        "id": "view-in-github",
        "colab_type": "text"
      },
      "source": [
        "<a href=\"https://colab.research.google.com/github/FelipeSotoG/U-Net-ResNetBlocks/blob/main/Resnet_V3.ipynb\" target=\"_parent\"><img src=\"https://colab.research.google.com/assets/colab-badge.svg\" alt=\"Open In Colab\"/></a>"
      ]
    },
    {
      "cell_type": "markdown",
      "metadata": {
        "id": "FcH2AvTh97gF"
      },
      "source": [
        "##Descarga datos\n",
        "Los datos se encuentran en el drive, por lo que usara gdown para sacarlos directamente y no tener que hacer la coneccion, ya que estamos descargando un zip."
      ]
    },
    {
      "cell_type": "code",
      "execution_count": 1,
      "metadata": {
        "colab": {
          "base_uri": "https://localhost:8080/"
        },
        "id": "t7GLXIiagwH3",
        "outputId": "f47ad87f-b6b3-472c-f35f-200b545909bb"
      },
      "outputs": [
        {
          "output_type": "stream",
          "name": "stdout",
          "text": [
            "Downloading...\n",
            "From: https://drive.google.com/uc?id=1f3hc0IdnyN60NjGoPO9Za9Vnmj9pk3zt\n",
            "To: /content/input.zip\n",
            "100% 597M/597M [00:04<00:00, 130MB/s]\n"
          ]
        }
      ],
      "source": [
        "!gdown https://drive.google.com/uc?id=1f3hc0IdnyN60NjGoPO9Za9Vnmj9pk3zt"
      ]
    },
    {
      "cell_type": "code",
      "execution_count": 2,
      "metadata": {
        "id": "uq8I6BfRhogZ"
      },
      "outputs": [],
      "source": [
        "!unzip -q input.zip"
      ]
    },
    {
      "cell_type": "code",
      "execution_count": 3,
      "metadata": {
        "id": "H9Y2Q3Bce47L"
      },
      "outputs": [],
      "source": [
        "IMG_WIDTH = 128\n",
        "IMG_HEIGHT = 128\n",
        "IMG_CHANNELS = 1"
      ]
    },
    {
      "cell_type": "code",
      "execution_count": 4,
      "metadata": {
        "id": "_jqAPlaMKtpg"
      },
      "outputs": [],
      "source": [
        "import nibabel as nib\n",
        "import os\n",
        "import numpy as np\n",
        "from nibabel.testing import data_path\n",
        "import matplotlib.pyplot as plt\n",
        "import cv2\n",
        "import torch"
      ]
    },
    {
      "cell_type": "code",
      "execution_count": 5,
      "metadata": {
        "id": "hmJoArAEd41C"
      },
      "outputs": [],
      "source": [
        "import imageio as iio\n",
        "import glob\n",
        "from skimage.transform import resize\n",
        "src=\"/content/input/train\"\n",
        "imag=\"/images/\"\n",
        "X=np.zeros((len(glob.glob(src+imag+\"*.png\")),IMG_WIDTH,IMG_HEIGHT,1))\n",
        "for i,x in enumerate(sorted(glob.glob(src+imag+\"*.png\"))):\n",
        "  X[i]=resize(iio.imread(x),(IMG_WIDTH,IMG_HEIGHT,1),mode=\"constant\",preserve_range=True)\n",
        "mas=\"/masks/\"\n",
        "Y=np.zeros((len(glob.glob(src+mas+\"*.png\")),IMG_WIDTH,IMG_HEIGHT,1))\n",
        "for i,x in enumerate(sorted(glob.glob(src+mas+\"*.png\"))):\n",
        "  Y[i]=resize(iio.imread(x),(IMG_WIDTH,IMG_HEIGHT,1),mode=\"constant\",preserve_range=True)/255"
      ]
    },
    {
      "cell_type": "markdown",
      "source": [
        "##Borrar directorio /input en caso de error"
      ],
      "metadata": {
        "id": "3NcX5DC3VvAR"
      }
    },
    {
      "cell_type": "code",
      "source": [
        "!rm -r /content/input"
      ],
      "metadata": {
        "id": "-QywVJIaZjHC"
      },
      "execution_count": null,
      "outputs": []
    },
    {
      "cell_type": "markdown",
      "metadata": {
        "id": "L6IAoTKTuO5B"
      },
      "source": [
        "##Train Test Split"
      ]
    },
    {
      "cell_type": "code",
      "execution_count": 6,
      "metadata": {
        "id": "ub5XKwbdAQ32"
      },
      "outputs": [],
      "source": [
        "from sklearn.model_selection import train_test_split\n",
        "X_train, X_test, Y_train, Y_test = train_test_split(\n",
        "    X, Y, test_size=0.3, random_state=2)"
      ]
    },
    {
      "cell_type": "markdown",
      "metadata": {
        "id": "P6CambWxdEwn"
      },
      "source": [
        "##Resnet"
      ]
    },
    {
      "cell_type": "code",
      "source": [
        "def DiceMetric(y_true, y_pred):\n",
        "  smooth=1e-6 \n",
        "  gama=2\n",
        "  y_true, y_pred = tf.cast(\n",
        "      y_true, dtype=tf.float32), tf.cast(y_pred, tf.float32)\n",
        "  nominator = 2 * \\\n",
        "      tf.reduce_sum(tf.multiply(y_pred, y_true)) + smooth\n",
        "  denominator = tf.reduce_sum(\n",
        "      y_pred ** gama) + tf.reduce_sum(y_true ** gama) + smooth\n",
        "  result = tf.divide(nominator, denominator)\n",
        "  return result\n",
        "def DiceLoss(y_true, y_pred):\n",
        "      result= 1- DiceMetric(y_true, y_pred)\n",
        "      return result"
      ],
      "metadata": {
        "id": "Urgfb0zMWlz-"
      },
      "execution_count": 7,
      "outputs": []
    },
    {
      "cell_type": "code",
      "source": [
        "def conv_block(X,f,d=0.1,group=1):\n",
        "  c = tf.keras.layers.Conv2D(f[0], (2, 2), activation='relu', kernel_initializer='he_normal', padding='same',groups=group)(X)\n",
        "  c = tf.keras.layers.BatchNormalization(axis=3)(c)\n",
        "  c = tf.keras.layers.Dropout(d)(c)\n",
        "  c = tf.keras.layers.Conv2D(f[1], (2, 2), kernel_initializer='he_normal', padding='same')(c)\n",
        "  c = tf.keras.layers.BatchNormalization(axis=3)(c)\n",
        "  s = tf.keras.layers.Conv2D(f[1], (2, 2), kernel_initializer='he_normal', padding='same')(X)\n",
        "  s = tf.keras.layers.BatchNormalization(axis=3)(s)\n",
        "  c = tf.keras.layers.Add()([c,s])\n",
        "  c = tf.keras.layers.ReLU()(c)\n",
        "  return c"
      ],
      "metadata": {
        "id": "MDQHBprOXZXG"
      },
      "execution_count": 18,
      "outputs": []
    },
    {
      "cell_type": "code",
      "execution_count": 9,
      "metadata": {
        "colab": {
          "base_uri": "https://localhost:8080/"
        },
        "id": "GJgrBPxjiV-c",
        "outputId": "f79f9570-4d59-49f2-b6d1-0b10995646d7"
      },
      "outputs": [
        {
          "output_type": "stream",
          "name": "stdout",
          "text": [
            "Model: \"model\"\n",
            "__________________________________________________________________________________________________\n",
            " Layer (type)                   Output Shape         Param #     Connected to                     \n",
            "==================================================================================================\n",
            " input_1 (InputLayer)           [(None, 128, 128, 1  0           []                               \n",
            "                                )]                                                                \n",
            "                                                                                                  \n",
            " lambda (Lambda)                (None, 128, 128, 1)  0           ['input_1[0][0]']                \n",
            "                                                                                                  \n",
            " conv2d (Conv2D)                (None, 128, 128, 16  80          ['lambda[0][0]']                 \n",
            "                                )                                                                 \n",
            "                                                                                                  \n",
            " dropout (Dropout)              (None, 128, 128, 16  0           ['conv2d[0][0]']                 \n",
            "                                )                                                                 \n",
            "                                                                                                  \n",
            " conv2d_1 (Conv2D)              (None, 128, 128, 16  1040        ['dropout[0][0]']                \n",
            "                                )                                                                 \n",
            "                                                                                                  \n",
            " conv2d_2 (Conv2D)              (None, 128, 128, 16  80          ['lambda[0][0]']                 \n",
            "                                )                                                                 \n",
            "                                                                                                  \n",
            " add (Add)                      (None, 128, 128, 16  0           ['conv2d_1[0][0]',               \n",
            "                                )                                 'conv2d_2[0][0]']               \n",
            "                                                                                                  \n",
            " re_lu (ReLU)                   (None, 128, 128, 16  0           ['add[0][0]']                    \n",
            "                                )                                                                 \n",
            "                                                                                                  \n",
            " max_pooling2d (MaxPooling2D)   (None, 64, 64, 16)   0           ['re_lu[0][0]']                  \n",
            "                                                                                                  \n",
            " conv2d_3 (Conv2D)              (None, 64, 64, 32)   2080        ['max_pooling2d[0][0]']          \n",
            "                                                                                                  \n",
            " dropout_1 (Dropout)            (None, 64, 64, 32)   0           ['conv2d_3[0][0]']               \n",
            "                                                                                                  \n",
            " conv2d_4 (Conv2D)              (None, 64, 64, 32)   4128        ['dropout_1[0][0]']              \n",
            "                                                                                                  \n",
            " conv2d_5 (Conv2D)              (None, 64, 64, 32)   2080        ['max_pooling2d[0][0]']          \n",
            "                                                                                                  \n",
            " add_1 (Add)                    (None, 64, 64, 32)   0           ['conv2d_4[0][0]',               \n",
            "                                                                  'conv2d_5[0][0]']               \n",
            "                                                                                                  \n",
            " re_lu_1 (ReLU)                 (None, 64, 64, 32)   0           ['add_1[0][0]']                  \n",
            "                                                                                                  \n",
            " max_pooling2d_1 (MaxPooling2D)  (None, 32, 32, 32)  0           ['re_lu_1[0][0]']                \n",
            "                                                                                                  \n",
            " conv2d_6 (Conv2D)              (None, 32, 32, 64)   8256        ['max_pooling2d_1[0][0]']        \n",
            "                                                                                                  \n",
            " dropout_2 (Dropout)            (None, 32, 32, 64)   0           ['conv2d_6[0][0]']               \n",
            "                                                                                                  \n",
            " conv2d_7 (Conv2D)              (None, 32, 32, 64)   16448       ['dropout_2[0][0]']              \n",
            "                                                                                                  \n",
            " conv2d_8 (Conv2D)              (None, 32, 32, 64)   8256        ['max_pooling2d_1[0][0]']        \n",
            "                                                                                                  \n",
            " add_2 (Add)                    (None, 32, 32, 64)   0           ['conv2d_7[0][0]',               \n",
            "                                                                  'conv2d_8[0][0]']               \n",
            "                                                                                                  \n",
            " re_lu_2 (ReLU)                 (None, 32, 32, 64)   0           ['add_2[0][0]']                  \n",
            "                                                                                                  \n",
            " max_pooling2d_2 (MaxPooling2D)  (None, 16, 16, 64)  0           ['re_lu_2[0][0]']                \n",
            "                                                                                                  \n",
            " conv2d_9 (Conv2D)              (None, 16, 16, 128)  32896       ['max_pooling2d_2[0][0]']        \n",
            "                                                                                                  \n",
            " dropout_3 (Dropout)            (None, 16, 16, 128)  0           ['conv2d_9[0][0]']               \n",
            "                                                                                                  \n",
            " conv2d_10 (Conv2D)             (None, 16, 16, 128)  65664       ['dropout_3[0][0]']              \n",
            "                                                                                                  \n",
            " conv2d_11 (Conv2D)             (None, 16, 16, 128)  32896       ['max_pooling2d_2[0][0]']        \n",
            "                                                                                                  \n",
            " add_3 (Add)                    (None, 16, 16, 128)  0           ['conv2d_10[0][0]',              \n",
            "                                                                  'conv2d_11[0][0]']              \n",
            "                                                                                                  \n",
            " re_lu_3 (ReLU)                 (None, 16, 16, 128)  0           ['add_3[0][0]']                  \n",
            "                                                                                                  \n",
            " max_pooling2d_3 (MaxPooling2D)  (None, 8, 8, 128)   0           ['re_lu_3[0][0]']                \n",
            "                                                                                                  \n",
            " conv2d_12 (Conv2D)             (None, 8, 8, 256)    131328      ['max_pooling2d_3[0][0]']        \n",
            "                                                                                                  \n",
            " dropout_4 (Dropout)            (None, 8, 8, 256)    0           ['conv2d_12[0][0]']              \n",
            "                                                                                                  \n",
            " conv2d_13 (Conv2D)             (None, 8, 8, 256)    262400      ['dropout_4[0][0]']              \n",
            "                                                                                                  \n",
            " conv2d_14 (Conv2D)             (None, 8, 8, 256)    131328      ['max_pooling2d_3[0][0]']        \n",
            "                                                                                                  \n",
            " add_4 (Add)                    (None, 8, 8, 256)    0           ['conv2d_13[0][0]',              \n",
            "                                                                  'conv2d_14[0][0]']              \n",
            "                                                                                                  \n",
            " re_lu_4 (ReLU)                 (None, 8, 8, 256)    0           ['add_4[0][0]']                  \n",
            "                                                                                                  \n",
            " conv2d_transpose (Conv2DTransp  (None, 16, 16, 128)  131200     ['re_lu_4[0][0]']                \n",
            " ose)                                                                                             \n",
            "                                                                                                  \n",
            " concatenate (Concatenate)      (None, 16, 16, 256)  0           ['conv2d_transpose[0][0]',       \n",
            "                                                                  're_lu_3[0][0]']                \n",
            "                                                                                                  \n",
            " conv2d_15 (Conv2D)             (None, 16, 16, 128)  131200      ['concatenate[0][0]']            \n",
            "                                                                                                  \n",
            " dropout_5 (Dropout)            (None, 16, 16, 128)  0           ['conv2d_15[0][0]']              \n",
            "                                                                                                  \n",
            " conv2d_16 (Conv2D)             (None, 16, 16, 128)  65664       ['dropout_5[0][0]']              \n",
            "                                                                                                  \n",
            " conv2d_17 (Conv2D)             (None, 16, 16, 128)  131200      ['concatenate[0][0]']            \n",
            "                                                                                                  \n",
            " add_5 (Add)                    (None, 16, 16, 128)  0           ['conv2d_16[0][0]',              \n",
            "                                                                  'conv2d_17[0][0]']              \n",
            "                                                                                                  \n",
            " re_lu_5 (ReLU)                 (None, 16, 16, 128)  0           ['add_5[0][0]']                  \n",
            "                                                                                                  \n",
            " conv2d_transpose_1 (Conv2DTran  (None, 32, 32, 64)  32832       ['re_lu_5[0][0]']                \n",
            " spose)                                                                                           \n",
            "                                                                                                  \n",
            " concatenate_1 (Concatenate)    (None, 32, 32, 128)  0           ['conv2d_transpose_1[0][0]',     \n",
            "                                                                  're_lu_2[0][0]']                \n",
            "                                                                                                  \n",
            " conv2d_18 (Conv2D)             (None, 32, 32, 64)   32832       ['concatenate_1[0][0]']          \n",
            "                                                                                                  \n",
            " dropout_6 (Dropout)            (None, 32, 32, 64)   0           ['conv2d_18[0][0]']              \n",
            "                                                                                                  \n",
            " conv2d_19 (Conv2D)             (None, 32, 32, 64)   16448       ['dropout_6[0][0]']              \n",
            "                                                                                                  \n",
            " conv2d_20 (Conv2D)             (None, 32, 32, 64)   32832       ['concatenate_1[0][0]']          \n",
            "                                                                                                  \n",
            " add_6 (Add)                    (None, 32, 32, 64)   0           ['conv2d_19[0][0]',              \n",
            "                                                                  'conv2d_20[0][0]']              \n",
            "                                                                                                  \n",
            " re_lu_6 (ReLU)                 (None, 32, 32, 64)   0           ['add_6[0][0]']                  \n",
            "                                                                                                  \n",
            " conv2d_transpose_2 (Conv2DTran  (None, 64, 64, 32)  8224        ['re_lu_6[0][0]']                \n",
            " spose)                                                                                           \n",
            "                                                                                                  \n",
            " concatenate_2 (Concatenate)    (None, 64, 64, 64)   0           ['conv2d_transpose_2[0][0]',     \n",
            "                                                                  're_lu_1[0][0]']                \n",
            "                                                                                                  \n",
            " conv2d_21 (Conv2D)             (None, 64, 64, 32)   8224        ['concatenate_2[0][0]']          \n",
            "                                                                                                  \n",
            " dropout_7 (Dropout)            (None, 64, 64, 32)   0           ['conv2d_21[0][0]']              \n",
            "                                                                                                  \n",
            " conv2d_22 (Conv2D)             (None, 64, 64, 32)   4128        ['dropout_7[0][0]']              \n",
            "                                                                                                  \n",
            " conv2d_23 (Conv2D)             (None, 64, 64, 32)   8224        ['concatenate_2[0][0]']          \n",
            "                                                                                                  \n",
            " add_7 (Add)                    (None, 64, 64, 32)   0           ['conv2d_22[0][0]',              \n",
            "                                                                  'conv2d_23[0][0]']              \n",
            "                                                                                                  \n",
            " re_lu_7 (ReLU)                 (None, 64, 64, 32)   0           ['add_7[0][0]']                  \n",
            "                                                                                                  \n",
            " conv2d_transpose_3 (Conv2DTran  (None, 128, 128, 16  2064       ['re_lu_7[0][0]']                \n",
            " spose)                         )                                                                 \n",
            "                                                                                                  \n",
            " concatenate_3 (Concatenate)    (None, 128, 128, 32  0           ['conv2d_transpose_3[0][0]',     \n",
            "                                )                                 're_lu[0][0]']                  \n",
            "                                                                                                  \n",
            " conv2d_24 (Conv2D)             (None, 128, 128, 16  2064        ['concatenate_3[0][0]']          \n",
            "                                )                                                                 \n",
            "                                                                                                  \n",
            " dropout_8 (Dropout)            (None, 128, 128, 16  0           ['conv2d_24[0][0]']              \n",
            "                                )                                                                 \n",
            "                                                                                                  \n",
            " conv2d_25 (Conv2D)             (None, 128, 128, 16  1040        ['dropout_8[0][0]']              \n",
            "                                )                                                                 \n",
            "                                                                                                  \n",
            " conv2d_26 (Conv2D)             (None, 128, 128, 16  2064        ['concatenate_3[0][0]']          \n",
            "                                )                                                                 \n",
            "                                                                                                  \n",
            " add_8 (Add)                    (None, 128, 128, 16  0           ['conv2d_25[0][0]',              \n",
            "                                )                                 'conv2d_26[0][0]']              \n",
            "                                                                                                  \n",
            " re_lu_8 (ReLU)                 (None, 128, 128, 16  0           ['add_8[0][0]']                  \n",
            "                                )                                                                 \n",
            "                                                                                                  \n",
            " conv2d_27 (Conv2D)             (None, 128, 128, 1)  17          ['re_lu_8[0][0]']                \n",
            "                                                                                                  \n",
            "==================================================================================================\n",
            "Total params: 1,309,217\n",
            "Trainable params: 1,309,217\n",
            "Non-trainable params: 0\n",
            "__________________________________________________________________________________________________\n"
          ]
        }
      ],
      "source": [
        "import tensorflow as tf\n",
        "\n",
        "IMG_WIDTH = 128\n",
        "IMG_HEIGHT = 128\n",
        "IMG_CHANNELS = 1\n",
        "\n",
        "\n",
        "#Build the model\n",
        "inputs = tf.keras.layers.Input((IMG_HEIGHT, IMG_WIDTH, IMG_CHANNELS))\n",
        "s = tf.keras.layers.Lambda(lambda x: x / 255)(inputs)\n",
        "#s= inputs\n",
        "#Contraction path\n",
        "c1 = conv_block(s,[16,16])\n",
        "p1 = tf.keras.layers.MaxPooling2D((2, 2))(c1)\n",
        "\n",
        "\n",
        "c2 = conv_block(p1,[32,32])\n",
        "p2 = tf.keras.layers.MaxPooling2D((2, 2))(c2)\n",
        "\n",
        "c3 = conv_block(p2,[64,64])\n",
        "p3 = tf.keras.layers.MaxPooling2D((2, 2))(c3)\n",
        " \n",
        "c4 = conv_block(p3,[128,128])\n",
        "p4 = tf.keras.layers.MaxPooling2D(pool_size=(2, 2))(c4)\n",
        " \n",
        "c5 = conv_block(p4,[256,256])\n",
        "\n",
        "#Expansive path \n",
        "u6 = tf.keras.layers.Conv2DTranspose(128, (2, 2), strides=(2, 2), padding='same')(c5)\n",
        "u6 = tf.keras.layers.concatenate([u6, c4])\n",
        "c6 = conv_block(u6,[128,128])\n",
        " \n",
        "u7 = tf.keras.layers.Conv2DTranspose(64, (2, 2), strides=(2, 2), padding='same')(c6)\n",
        "u7 = tf.keras.layers.concatenate([u7, c3])\n",
        "c7 = conv_block(u7,[64,64])\n",
        " \n",
        "u8 = tf.keras.layers.Conv2DTranspose(32, (2, 2), strides=(2, 2), padding='same')(c7)\n",
        "u8 = tf.keras.layers.concatenate([u8, c2])\n",
        "c8 = conv_block(u8,[32,32])\n",
        "\n",
        "u9 = tf.keras.layers.Conv2DTranspose(16, (2, 2), strides=(2, 2), padding='same')(c8)\n",
        "u9 = tf.keras.layers.concatenate([u9, c1], axis=3)\n",
        "c9 = conv_block(u9,[16,16])\n",
        " \n",
        "outputs = tf.keras.layers.Conv2D(1, (1, 1), activation='sigmoid')(c9)\n",
        " \n",
        "model = tf.keras.Model(inputs=[inputs], outputs=[outputs])\n",
        "model.compile(optimizer='adam', loss='binary_crossentropy', metrics=['accuracy',DiceMetric])\n",
        "model.summary()"
      ]
    },
    {
      "cell_type": "markdown",
      "source": [
        "###Resnet con DiceLoss"
      ],
      "metadata": {
        "id": "g7LGF3KYjell"
      }
    },
    {
      "cell_type": "code",
      "source": [
        "import tensorflow as tf\n",
        "\n",
        "IMG_WIDTH = 128\n",
        "IMG_HEIGHT = 128\n",
        "IMG_CHANNELS = 1\n",
        "\n",
        "\n",
        "#Build the model\n",
        "inputs = tf.keras.layers.Input((IMG_HEIGHT, IMG_WIDTH, IMG_CHANNELS))\n",
        "s = tf.keras.layers.Lambda(lambda x: x / 255)(inputs)\n",
        "#s= inputs\n",
        "#Contraction path\n",
        "c1 = conv_block(s,[16,16])\n",
        "p1 = tf.keras.layers.MaxPooling2D((2, 2))(c1)\n",
        "\n",
        "\n",
        "c2 = conv_block(p1,[32,32])\n",
        "p2 = tf.keras.layers.MaxPooling2D((2, 2))(c2)\n",
        "\n",
        "c3 = conv_block(p2,[64,64])\n",
        "p3 = tf.keras.layers.MaxPooling2D((2, 2))(c3)\n",
        " \n",
        "c4 = conv_block(p3,[128,128])\n",
        "p4 = tf.keras.layers.MaxPooling2D(pool_size=(2, 2))(c4)\n",
        " \n",
        "c5 = conv_block(p4,[256,256])\n",
        "\n",
        "#Expansive path \n",
        "u6 = tf.keras.layers.Conv2DTranspose(128, (2, 2), strides=(2, 2), padding='same')(c5)\n",
        "u6 = tf.keras.layers.concatenate([u6, c4])\n",
        "c6 = conv_block(u6,[128,128])\n",
        " \n",
        "u7 = tf.keras.layers.Conv2DTranspose(64, (2, 2), strides=(2, 2), padding='same')(c6)\n",
        "u7 = tf.keras.layers.concatenate([u7, c3])\n",
        "c7 = conv_block(u7,[64,64])\n",
        " \n",
        "u8 = tf.keras.layers.Conv2DTranspose(32, (2, 2), strides=(2, 2), padding='same')(c7)\n",
        "u8 = tf.keras.layers.concatenate([u8, c2])\n",
        "c8 = conv_block(u8,[32,32])\n",
        "\n",
        "u9 = tf.keras.layers.Conv2DTranspose(16, (2, 2), strides=(2, 2), padding='same')(c8)\n",
        "u9 = tf.keras.layers.concatenate([u9, c1], axis=3)\n",
        "c9 = conv_block(u9,[16,16])\n",
        " \n",
        "outputs = tf.keras.layers.Conv2D(1, (1, 1), activation='sigmoid')(c9)\n",
        " \n",
        "model = tf.keras.Model(inputs=[inputs], outputs=[outputs])\n",
        "model.compile(optimizer='adam', loss=DiceLoss, metrics=['accuracy',DiceMetric])\n",
        "#model.compile(optimizer='adam', loss=DiceLoss, metrics=['accuracy',tf.keras.metrics.MeanIoU(num_classes=2)])\n",
        "model.summary()"
      ],
      "metadata": {
        "colab": {
          "base_uri": "https://localhost:8080/"
        },
        "id": "emBx361Fi-GN",
        "outputId": "19b3608e-4617-476f-cf2a-cd7d105ea378"
      },
      "execution_count": 15,
      "outputs": [
        {
          "output_type": "stream",
          "name": "stdout",
          "text": [
            "Model: \"model_11\"\n",
            "__________________________________________________________________________________________________\n",
            " Layer (type)                   Output Shape         Param #     Connected to                     \n",
            "==================================================================================================\n",
            " input_2 (InputLayer)           [(None, 128, 128, 1  0           []                               \n",
            "                                )]                                                                \n",
            "                                                                                                  \n",
            " lambda_1 (Lambda)              (None, 128, 128, 1)  0           ['input_2[0][0]']                \n",
            "                                                                                                  \n",
            " conv2d_28 (Conv2D)             (None, 128, 128, 16  80          ['lambda_1[0][0]']               \n",
            "                                )                                                                 \n",
            "                                                                                                  \n",
            " dropout_9 (Dropout)            (None, 128, 128, 16  0           ['conv2d_28[0][0]']              \n",
            "                                )                                                                 \n",
            "                                                                                                  \n",
            " conv2d_29 (Conv2D)             (None, 128, 128, 16  1040        ['dropout_9[0][0]']              \n",
            "                                )                                                                 \n",
            "                                                                                                  \n",
            " conv2d_30 (Conv2D)             (None, 128, 128, 16  80          ['lambda_1[0][0]']               \n",
            "                                )                                                                 \n",
            "                                                                                                  \n",
            " add_9 (Add)                    (None, 128, 128, 16  0           ['conv2d_29[0][0]',              \n",
            "                                )                                 'conv2d_30[0][0]']              \n",
            "                                                                                                  \n",
            " re_lu_9 (ReLU)                 (None, 128, 128, 16  0           ['add_9[0][0]']                  \n",
            "                                )                                                                 \n",
            "                                                                                                  \n",
            " max_pooling2d_4 (MaxPooling2D)  (None, 64, 64, 16)  0           ['re_lu_9[0][0]']                \n",
            "                                                                                                  \n",
            " conv2d_31 (Conv2D)             (None, 64, 64, 32)   2080        ['max_pooling2d_4[0][0]']        \n",
            "                                                                                                  \n",
            " dropout_10 (Dropout)           (None, 64, 64, 32)   0           ['conv2d_31[0][0]']              \n",
            "                                                                                                  \n",
            " conv2d_32 (Conv2D)             (None, 64, 64, 32)   4128        ['dropout_10[0][0]']             \n",
            "                                                                                                  \n",
            " conv2d_33 (Conv2D)             (None, 64, 64, 32)   2080        ['max_pooling2d_4[0][0]']        \n",
            "                                                                                                  \n",
            " add_10 (Add)                   (None, 64, 64, 32)   0           ['conv2d_32[0][0]',              \n",
            "                                                                  'conv2d_33[0][0]']              \n",
            "                                                                                                  \n",
            " re_lu_10 (ReLU)                (None, 64, 64, 32)   0           ['add_10[0][0]']                 \n",
            "                                                                                                  \n",
            " max_pooling2d_5 (MaxPooling2D)  (None, 32, 32, 32)  0           ['re_lu_10[0][0]']               \n",
            "                                                                                                  \n",
            " conv2d_34 (Conv2D)             (None, 32, 32, 64)   8256        ['max_pooling2d_5[0][0]']        \n",
            "                                                                                                  \n",
            " dropout_11 (Dropout)           (None, 32, 32, 64)   0           ['conv2d_34[0][0]']              \n",
            "                                                                                                  \n",
            " conv2d_35 (Conv2D)             (None, 32, 32, 64)   16448       ['dropout_11[0][0]']             \n",
            "                                                                                                  \n",
            " conv2d_36 (Conv2D)             (None, 32, 32, 64)   8256        ['max_pooling2d_5[0][0]']        \n",
            "                                                                                                  \n",
            " add_11 (Add)                   (None, 32, 32, 64)   0           ['conv2d_35[0][0]',              \n",
            "                                                                  'conv2d_36[0][0]']              \n",
            "                                                                                                  \n",
            " re_lu_11 (ReLU)                (None, 32, 32, 64)   0           ['add_11[0][0]']                 \n",
            "                                                                                                  \n",
            " max_pooling2d_6 (MaxPooling2D)  (None, 16, 16, 64)  0           ['re_lu_11[0][0]']               \n",
            "                                                                                                  \n",
            " conv2d_37 (Conv2D)             (None, 16, 16, 128)  32896       ['max_pooling2d_6[0][0]']        \n",
            "                                                                                                  \n",
            " dropout_12 (Dropout)           (None, 16, 16, 128)  0           ['conv2d_37[0][0]']              \n",
            "                                                                                                  \n",
            " conv2d_38 (Conv2D)             (None, 16, 16, 128)  65664       ['dropout_12[0][0]']             \n",
            "                                                                                                  \n",
            " conv2d_39 (Conv2D)             (None, 16, 16, 128)  32896       ['max_pooling2d_6[0][0]']        \n",
            "                                                                                                  \n",
            " add_12 (Add)                   (None, 16, 16, 128)  0           ['conv2d_38[0][0]',              \n",
            "                                                                  'conv2d_39[0][0]']              \n",
            "                                                                                                  \n",
            " re_lu_12 (ReLU)                (None, 16, 16, 128)  0           ['add_12[0][0]']                 \n",
            "                                                                                                  \n",
            " max_pooling2d_7 (MaxPooling2D)  (None, 8, 8, 128)   0           ['re_lu_12[0][0]']               \n",
            "                                                                                                  \n",
            " conv2d_40 (Conv2D)             (None, 8, 8, 256)    131328      ['max_pooling2d_7[0][0]']        \n",
            "                                                                                                  \n",
            " dropout_13 (Dropout)           (None, 8, 8, 256)    0           ['conv2d_40[0][0]']              \n",
            "                                                                                                  \n",
            " conv2d_41 (Conv2D)             (None, 8, 8, 256)    262400      ['dropout_13[0][0]']             \n",
            "                                                                                                  \n",
            " conv2d_42 (Conv2D)             (None, 8, 8, 256)    131328      ['max_pooling2d_7[0][0]']        \n",
            "                                                                                                  \n",
            " add_13 (Add)                   (None, 8, 8, 256)    0           ['conv2d_41[0][0]',              \n",
            "                                                                  'conv2d_42[0][0]']              \n",
            "                                                                                                  \n",
            " re_lu_13 (ReLU)                (None, 8, 8, 256)    0           ['add_13[0][0]']                 \n",
            "                                                                                                  \n",
            " conv2d_transpose_4 (Conv2DTran  (None, 16, 16, 128)  131200     ['re_lu_13[0][0]']               \n",
            " spose)                                                                                           \n",
            "                                                                                                  \n",
            " concatenate_4 (Concatenate)    (None, 16, 16, 256)  0           ['conv2d_transpose_4[0][0]',     \n",
            "                                                                  're_lu_12[0][0]']               \n",
            "                                                                                                  \n",
            " conv2d_43 (Conv2D)             (None, 16, 16, 128)  131200      ['concatenate_4[0][0]']          \n",
            "                                                                                                  \n",
            " dropout_14 (Dropout)           (None, 16, 16, 128)  0           ['conv2d_43[0][0]']              \n",
            "                                                                                                  \n",
            " conv2d_44 (Conv2D)             (None, 16, 16, 128)  65664       ['dropout_14[0][0]']             \n",
            "                                                                                                  \n",
            " conv2d_45 (Conv2D)             (None, 16, 16, 128)  131200      ['concatenate_4[0][0]']          \n",
            "                                                                                                  \n",
            " add_14 (Add)                   (None, 16, 16, 128)  0           ['conv2d_44[0][0]',              \n",
            "                                                                  'conv2d_45[0][0]']              \n",
            "                                                                                                  \n",
            " re_lu_14 (ReLU)                (None, 16, 16, 128)  0           ['add_14[0][0]']                 \n",
            "                                                                                                  \n",
            " conv2d_transpose_5 (Conv2DTran  (None, 32, 32, 64)  32832       ['re_lu_14[0][0]']               \n",
            " spose)                                                                                           \n",
            "                                                                                                  \n",
            " concatenate_5 (Concatenate)    (None, 32, 32, 128)  0           ['conv2d_transpose_5[0][0]',     \n",
            "                                                                  're_lu_11[0][0]']               \n",
            "                                                                                                  \n",
            " conv2d_46 (Conv2D)             (None, 32, 32, 64)   32832       ['concatenate_5[0][0]']          \n",
            "                                                                                                  \n",
            " dropout_15 (Dropout)           (None, 32, 32, 64)   0           ['conv2d_46[0][0]']              \n",
            "                                                                                                  \n",
            " conv2d_47 (Conv2D)             (None, 32, 32, 64)   16448       ['dropout_15[0][0]']             \n",
            "                                                                                                  \n",
            " conv2d_48 (Conv2D)             (None, 32, 32, 64)   32832       ['concatenate_5[0][0]']          \n",
            "                                                                                                  \n",
            " add_15 (Add)                   (None, 32, 32, 64)   0           ['conv2d_47[0][0]',              \n",
            "                                                                  'conv2d_48[0][0]']              \n",
            "                                                                                                  \n",
            " re_lu_15 (ReLU)                (None, 32, 32, 64)   0           ['add_15[0][0]']                 \n",
            "                                                                                                  \n",
            " conv2d_transpose_6 (Conv2DTran  (None, 64, 64, 32)  8224        ['re_lu_15[0][0]']               \n",
            " spose)                                                                                           \n",
            "                                                                                                  \n",
            " concatenate_6 (Concatenate)    (None, 64, 64, 64)   0           ['conv2d_transpose_6[0][0]',     \n",
            "                                                                  're_lu_10[0][0]']               \n",
            "                                                                                                  \n",
            " conv2d_49 (Conv2D)             (None, 64, 64, 32)   8224        ['concatenate_6[0][0]']          \n",
            "                                                                                                  \n",
            " dropout_16 (Dropout)           (None, 64, 64, 32)   0           ['conv2d_49[0][0]']              \n",
            "                                                                                                  \n",
            " conv2d_50 (Conv2D)             (None, 64, 64, 32)   4128        ['dropout_16[0][0]']             \n",
            "                                                                                                  \n",
            " conv2d_51 (Conv2D)             (None, 64, 64, 32)   8224        ['concatenate_6[0][0]']          \n",
            "                                                                                                  \n",
            " add_16 (Add)                   (None, 64, 64, 32)   0           ['conv2d_50[0][0]',              \n",
            "                                                                  'conv2d_51[0][0]']              \n",
            "                                                                                                  \n",
            " re_lu_16 (ReLU)                (None, 64, 64, 32)   0           ['add_16[0][0]']                 \n",
            "                                                                                                  \n",
            " conv2d_transpose_7 (Conv2DTran  (None, 128, 128, 16  2064       ['re_lu_16[0][0]']               \n",
            " spose)                         )                                                                 \n",
            "                                                                                                  \n",
            " concatenate_7 (Concatenate)    (None, 128, 128, 32  0           ['conv2d_transpose_7[0][0]',     \n",
            "                                )                                 're_lu_9[0][0]']                \n",
            "                                                                                                  \n",
            " conv2d_52 (Conv2D)             (None, 128, 128, 16  2064        ['concatenate_7[0][0]']          \n",
            "                                )                                                                 \n",
            "                                                                                                  \n",
            " dropout_17 (Dropout)           (None, 128, 128, 16  0           ['conv2d_52[0][0]']              \n",
            "                                )                                                                 \n",
            "                                                                                                  \n",
            " conv2d_53 (Conv2D)             (None, 128, 128, 16  1040        ['dropout_17[0][0]']             \n",
            "                                )                                                                 \n",
            "                                                                                                  \n",
            " conv2d_54 (Conv2D)             (None, 128, 128, 16  2064        ['concatenate_7[0][0]']          \n",
            "                                )                                                                 \n",
            "                                                                                                  \n",
            " add_17 (Add)                   (None, 128, 128, 16  0           ['conv2d_53[0][0]',              \n",
            "                                )                                 'conv2d_54[0][0]']              \n",
            "                                                                                                  \n",
            " re_lu_17 (ReLU)                (None, 128, 128, 16  0           ['add_17[0][0]']                 \n",
            "                                )                                                                 \n",
            "                                                                                                  \n",
            " conv2d_55 (Conv2D)             (None, 128, 128, 1)  17          ['re_lu_17[0][0]']               \n",
            "                                                                                                  \n",
            "==================================================================================================\n",
            "Total params: 1,309,217\n",
            "Trainable params: 1,309,217\n",
            "Non-trainable params: 0\n",
            "__________________________________________________________________________________________________\n"
          ]
        }
      ]
    },
    {
      "cell_type": "markdown",
      "metadata": {
        "id": "4JFyLMRezeWO"
      },
      "source": [
        "##Model Fit"
      ]
    },
    {
      "cell_type": "code",
      "execution_count": null,
      "metadata": {
        "colab": {
          "base_uri": "https://localhost:8080/"
        },
        "id": "kCB8atJ1zda4",
        "outputId": "67b09f7e-c332-4e50-a6dc-4a3274f2f13d"
      },
      "outputs": [
        {
          "output_type": "stream",
          "name": "stdout",
          "text": [
            "Epoch 1/25\n",
            "124/124 [==============================] - 9s 47ms/step - loss: 0.0579 - accuracy: 0.9843 - DiceMetric: 0.0874 - val_loss: 0.0422 - val_accuracy: 0.9855 - val_DiceMetric: 0.2027\n",
            "Epoch 2/25\n",
            "124/124 [==============================] - 5s 42ms/step - loss: 0.0302 - accuracy: 0.9871 - DiceMetric: 0.2034 - val_loss: 0.0312 - val_accuracy: 0.9854 - val_DiceMetric: 0.3571\n",
            "Epoch 3/25\n",
            "124/124 [==============================] - 5s 42ms/step - loss: 0.0245 - accuracy: 0.9872 - DiceMetric: 0.3734 - val_loss: 0.0297 - val_accuracy: 0.9861 - val_DiceMetric: 0.5375\n",
            "Epoch 4/25\n",
            "124/124 [==============================] - 5s 42ms/step - loss: 0.0191 - accuracy: 0.9877 - DiceMetric: 0.5579 - val_loss: 0.0178 - val_accuracy: 0.9868 - val_DiceMetric: 0.6626\n",
            "Epoch 5/25\n",
            "124/124 [==============================] - 5s 42ms/step - loss: 0.0143 - accuracy: 0.9884 - DiceMetric: 0.7061 - val_loss: 0.0153 - val_accuracy: 0.9872 - val_DiceMetric: 0.7720\n",
            "Epoch 6/25\n",
            "124/124 [==============================] - 5s 42ms/step - loss: 0.0124 - accuracy: 0.9887 - DiceMetric: 0.7723 - val_loss: 0.0138 - val_accuracy: 0.9875 - val_DiceMetric: 0.7710\n",
            "Epoch 7/25\n",
            "124/124 [==============================] - 5s 42ms/step - loss: 0.0109 - accuracy: 0.9889 - DiceMetric: 0.8159 - val_loss: 0.0142 - val_accuracy: 0.9875 - val_DiceMetric: 0.7653\n",
            "Epoch 8/25\n",
            "124/124 [==============================] - 6s 48ms/step - loss: 0.0095 - accuracy: 0.9891 - DiceMetric: 0.8457 - val_loss: 0.0137 - val_accuracy: 0.9863 - val_DiceMetric: 0.8196\n",
            "Epoch 9/25\n",
            "124/124 [==============================] - 5s 42ms/step - loss: 0.0096 - accuracy: 0.9890 - DiceMetric: 0.8446 - val_loss: 0.0104 - val_accuracy: 0.9879 - val_DiceMetric: 0.8609\n",
            "Epoch 10/25\n",
            "124/124 [==============================] - 5s 42ms/step - loss: 0.0089 - accuracy: 0.9891 - DiceMetric: 0.8630 - val_loss: 0.0109 - val_accuracy: 0.9875 - val_DiceMetric: 0.8566\n",
            "Epoch 11/25\n",
            "124/124 [==============================] - 5s 42ms/step - loss: 0.0082 - accuracy: 0.9892 - DiceMetric: 0.8737 - val_loss: 0.0099 - val_accuracy: 0.9880 - val_DiceMetric: 0.8662\n",
            "Epoch 12/25\n",
            "124/124 [==============================] - 5s 42ms/step - loss: 0.0077 - accuracy: 0.9893 - DiceMetric: 0.8884 - val_loss: 0.0105 - val_accuracy: 0.9876 - val_DiceMetric: 0.8624\n",
            "Epoch 13/25\n",
            "124/124 [==============================] - 5s 42ms/step - loss: 0.0076 - accuracy: 0.9893 - DiceMetric: 0.8939 - val_loss: 0.0096 - val_accuracy: 0.9878 - val_DiceMetric: 0.8772\n",
            "Epoch 14/25\n",
            "124/124 [==============================] - 5s 42ms/step - loss: 0.0071 - accuracy: 0.9893 - DiceMetric: 0.9034 - val_loss: 0.0095 - val_accuracy: 0.9878 - val_DiceMetric: 0.8830\n",
            "Epoch 15/25\n",
            "124/124 [==============================] - 5s 42ms/step - loss: 0.0069 - accuracy: 0.9894 - DiceMetric: 0.9015 - val_loss: 0.0094 - val_accuracy: 0.9879 - val_DiceMetric: 0.8830\n",
            "Epoch 16/25\n",
            "124/124 [==============================] - 5s 44ms/step - loss: 0.0068 - accuracy: 0.9894 - DiceMetric: 0.9111 - val_loss: 0.0092 - val_accuracy: 0.9877 - val_DiceMetric: 0.8928\n",
            "Epoch 17/25\n",
            "124/124 [==============================] - 5s 42ms/step - loss: 0.0067 - accuracy: 0.9894 - DiceMetric: 0.9120 - val_loss: 0.0086 - val_accuracy: 0.9881 - val_DiceMetric: 0.8961\n",
            "Epoch 18/25\n",
            "124/124 [==============================] - 5s 42ms/step - loss: 0.0065 - accuracy: 0.9894 - DiceMetric: 0.9152 - val_loss: 0.0085 - val_accuracy: 0.9881 - val_DiceMetric: 0.8983\n",
            "Epoch 19/25\n",
            "124/124 [==============================] - 5s 42ms/step - loss: 0.0065 - accuracy: 0.9894 - DiceMetric: 0.9185 - val_loss: 0.0084 - val_accuracy: 0.9881 - val_DiceMetric: 0.9014\n",
            "Epoch 20/25\n",
            "124/124 [==============================] - 5s 42ms/step - loss: 0.0064 - accuracy: 0.9894 - DiceMetric: 0.9200 - val_loss: 0.0086 - val_accuracy: 0.9880 - val_DiceMetric: 0.8974\n",
            "Epoch 21/25\n",
            "124/124 [==============================] - 5s 42ms/step - loss: 0.0062 - accuracy: 0.9894 - DiceMetric: 0.9255 - val_loss: 0.0083 - val_accuracy: 0.9881 - val_DiceMetric: 0.9025\n",
            "Epoch 22/25\n",
            "124/124 [==============================] - 5s 43ms/step - loss: 0.0061 - accuracy: 0.9895 - DiceMetric: 0.9195 - val_loss: 0.0089 - val_accuracy: 0.9880 - val_DiceMetric: 0.8961\n",
            "Epoch 23/25\n",
            "124/124 [==============================] - 5s 42ms/step - loss: 0.0060 - accuracy: 0.9895 - DiceMetric: 0.9291 - val_loss: 0.0085 - val_accuracy: 0.9882 - val_DiceMetric: 0.8996\n",
            "Epoch 24/25\n",
            "124/124 [==============================] - 5s 42ms/step - loss: 0.0059 - accuracy: 0.9895 - DiceMetric: 0.9299 - val_loss: 0.0084 - val_accuracy: 0.9881 - val_DiceMetric: 0.9062\n",
            "Epoch 25/25\n",
            "124/124 [==============================] - 5s 42ms/step - loss: 0.0057 - accuracy: 0.9895 - DiceMetric: 0.9352 - val_loss: 0.0080 - val_accuracy: 0.9881 - val_DiceMetric: 0.9113\n"
          ]
        },
        {
          "output_type": "execute_result",
          "data": {
            "text/plain": [
              "<keras.callbacks.History at 0x7effc8e775d0>"
            ]
          },
          "metadata": {},
          "execution_count": 39
        }
      ],
      "source": [
        "model.fit(X_train,Y_train,batch_size=16,epochs=25,validation_split=0.2)"
      ]
    },
    {
      "cell_type": "code",
      "execution_count": null,
      "metadata": {
        "colab": {
          "base_uri": "https://localhost:8080/"
        },
        "id": "b0yz227RzmyI",
        "outputId": "815f5caf-6e4a-4f05-9352-5b935afa0bc6"
      },
      "outputs": [
        {
          "output_type": "stream",
          "name": "stdout",
          "text": [
            "Score for fold 0: loss of 0.08832569420337677; accuracy of 98.95649552345276%\n",
            "['loss', 'accuracy', 'mean_io_u_10']\n"
          ]
        }
      ],
      "source": [
        "scores= model.evaluate(X_test, Y_test, verbose=0)\n",
        "print(f'Score for fold {0}: {model.metrics_names[0]} of {scores[0]}; {model.metrics_names[1]} of {scores[1]*100}%')\n",
        "print(model.metrics_names)"
      ]
    },
    {
      "cell_type": "code",
      "source": [
        "print(model.metrics_names)"
      ],
      "metadata": {
        "colab": {
          "base_uri": "https://localhost:8080/"
        },
        "id": "oud92q0zgO7x",
        "outputId": "e77e0fe0-001a-48d3-9aa1-bedfbf3869f0"
      },
      "execution_count": null,
      "outputs": [
        {
          "output_type": "stream",
          "name": "stdout",
          "text": [
            "['loss', 'accuracy', 'mean_io_u_3']\n"
          ]
        }
      ]
    },
    {
      "cell_type": "markdown",
      "metadata": {
        "id": "jFP-3gQ9BO8f"
      },
      "source": [
        "##Testing"
      ]
    },
    {
      "cell_type": "code",
      "execution_count": null,
      "metadata": {
        "id": "5P0-RG0wjzA6"
      },
      "outputs": [],
      "source": [
        "Ypred=model.predict(X_test)"
      ]
    },
    {
      "cell_type": "code",
      "execution_count": null,
      "metadata": {
        "colab": {
          "base_uri": "https://localhost:8080/",
          "height": 518
        },
        "id": "J1ra2EoVycvl",
        "outputId": "958ad945-3f98-4d36-838e-36009b2c0438"
      },
      "outputs": [
        {
          "output_type": "display_data",
          "data": {
            "text/plain": [
              "<Figure size 432x288 with 1 Axes>"
            ],
            "image/png": "[encoded data removed]"
          },
          "metadata": {
            "needs_background": "light"
          }
        },
        {
          "output_type": "display_data",
          "data": {
            "text/plain": [
              "<Figure size 432x288 with 1 Axes>"
            ],
            "image/png": "[encoded data removed]"
          },
          "metadata": {
            "needs_background": "light"
          }
        }
      ],
      "source": [
        "plt.imshow(np.reshape(Ypred[160],(128,128)), cmap=plt.cm.gray)\n",
        "plt.show()\n",
        "plt.imshow(np.reshape(Y_test[160],(128,128)), cmap=plt.cm.gray)\n",
        "plt.show()"
      ]
    },
    {
      "cell_type": "code",
      "execution_count": null,
      "metadata": {
        "id": "ikB_eI_ZmVtq"
      },
      "outputs": [],
      "source": [
        "def dice(true_mask, pred_mask):\n",
        "    \"\"\"\n",
        "        Computes the Dice coefficient.\n",
        "        Args:\n",
        "            true_mask : Array of arbitrary shape.\n",
        "            pred_mask : Array with the same shape than true_mask.  \n",
        "        \n",
        "        Returns:\n",
        "            A scalar representing the Dice coefficient between the two segmentations. \n",
        "        \n",
        "    \"\"\"\n",
        "    non_seg_score=1.0\n",
        "    if type(pred_mask) != np.ndarray:\n",
        "      t = torch.Tensor([0.5])\n",
        "      pred_mask=(pred_mask > t)\n",
        "    else:\n",
        "      pred_mask[pred_mask>=0.5]=1\n",
        "      pred_mask[pred_mask<0.5]=0\n",
        "\n",
        "    # If both segmentations are all zero, the dice will be 1. (Developer decision)\n",
        "    im_sum = true_mask.sum() + pred_mask.sum()\n",
        "    if im_sum == 0:\n",
        "        return non_seg_score\n",
        "\n",
        "    # Compute Dice coefficient\n",
        "    intersection = np.logical_and(true_mask, pred_mask)\n",
        "    return 2. * intersection.sum() / im_sum"
      ]
    },
    {
      "cell_type": "code",
      "execution_count": null,
      "metadata": {
        "colab": {
          "base_uri": "https://localhost:8080/"
        },
        "id": "beBVFzRQmXI-",
        "outputId": "02444cdb-fc4d-4157-c29e-df82d7b118f1"
      },
      "outputs": [
        {
          "output_type": "execute_result",
          "data": {
            "text/plain": [
              "0.9978291742992644"
            ]
          },
          "metadata": {},
          "execution_count": 32
        }
      ],
      "source": [
        "diceaux=dice(Y_test[160],Ypred[160])\n",
        "diceaux"
      ]
    },
    {
      "cell_type": "markdown",
      "metadata": {
        "id": "lc2Sj8PPuJBv"
      },
      "source": [
        "## Model Fit Kfold"
      ]
    },
    {
      "cell_type": "code",
      "execution_count": 11,
      "metadata": {
        "id": "Fh7g3mmhuNPV"
      },
      "outputs": [],
      "source": [
        "from sklearn.model_selection import train_test_split\n",
        "from sklearn.model_selection import KFold\n",
        "from sklearn.model_selection import cross_val_score\n",
        "from numpy import mean\n",
        "from numpy import absolute\n",
        "from numpy import sqrt\n",
        "import pandas as pd"
      ]
    },
    {
      "cell_type": "code",
      "execution_count": 12,
      "metadata": {
        "id": "kj7ESdJAuOaW"
      },
      "outputs": [],
      "source": [
        "cv = KFold(n_splits=5, random_state=1, shuffle=True)"
      ]
    },
    {
      "cell_type": "markdown",
      "source": [
        "25 epochs"
      ],
      "metadata": {
        "id": "erWVgdGfhXKu"
      }
    },
    {
      "cell_type": "code",
      "execution_count": 16,
      "metadata": {
        "colab": {
          "base_uri": "https://localhost:8080/"
        },
        "id": "D7gaF3LTvOU-",
        "outputId": "94e8ba91-2a99-43ae-cd9d-8267899bee80"
      },
      "outputs": [
        {
          "output_type": "stream",
          "name": "stdout",
          "text": [
            "Score for fold 1: loss of 0.03169049322605133; accuracy of 98.88818264007568% DiceMetric of 81.13412857055664%\n",
            "Score for fold 2: loss of 0.05697642266750336; accuracy of 98.77420663833618% DiceMetric of 80.60377240180969%\n",
            "Score for fold 3: loss of 0.04808513820171356; accuracy of 98.83422255516052% DiceMetric of 77.65244841575623%\n",
            "Score for fold 4: loss of 0.04073647782206535; accuracy of 98.84380102157593% DiceMetric of 82.94441103935242%\n",
            "Score for fold 5: loss of 0.03971032425761223; accuracy of 98.89516830444336% DiceMetric of 80.16857504844666%\n"
          ]
        }
      ],
      "source": [
        "VALIDATION_ACCURACY = []\n",
        "VALIDAITON_LOSS = []\n",
        "nfold=1\n",
        "for train_index, val_index in cv.split(X,Y):\n",
        "  model = tf.keras.Model(inputs=[inputs], outputs=[outputs])\n",
        "  model.compile(optimizer='adam', loss='binary_crossentropy', metrics=['accuracy',DiceMetric])\n",
        "\n",
        "  X_fold=X[train_index,:,:]\n",
        "  Y_fold=Y[train_index,:,:]\n",
        "  \n",
        "  model.fit(X_fold,Y_fold,batch_size=16,epochs=25,validation_split=0.2,verbose=0)\n",
        "\n",
        "  Xtest_fold=X[val_index,:,:]\n",
        "  Ytest_fold=Y[val_index,:,:]\n",
        "  scores= model.evaluate(Xtest_fold, Ytest_fold, verbose=0)\n",
        "  print(f'Score for fold {nfold}: {model.metrics_names[0]} of {scores[0]}; {model.metrics_names[1]} of {scores[1]*100}% {model.metrics_names[2]} of {scores[2]*100}%')\n",
        "  nfold+=1"
      ]
    },
    {
      "cell_type": "markdown",
      "source": [
        "50 epochs"
      ],
      "metadata": {
        "id": "uOWim3VxhZsj"
      }
    },
    {
      "cell_type": "code",
      "source": [
        "VALIDATION_ACCURACY = []\n",
        "VALIDAITON_LOSS = []\n",
        "nfold=1\n",
        "for train_index, val_index in cv.split(X,Y):\n",
        "  model = tf.keras.Model(inputs=[inputs], outputs=[outputs])\n",
        "  model.compile(optimizer='adam', loss='binary_crossentropy', metrics=['accuracy',DiceMetric])\n",
        "\n",
        "  X_fold=X[train_index,:,:]\n",
        "  Y_fold=Y[train_index,:,:]\n",
        "  \n",
        "  model.fit(X_fold,Y_fold,batch_size=16,epochs=50,validation_split=0.2,verbose=0)\n",
        "\n",
        "  Xtest_fold=X[val_index,:,:]\n",
        "  Ytest_fold=Y[val_index,:,:]\n",
        "  scores= model.evaluate(Xtest_fold, Ytest_fold, verbose=0)\n",
        "  print(f'Score for fold {nfold}: {model.metrics_names[0]} of {scores[0]}; {model.metrics_names[1]} of {scores[1]*100}% {model.metrics_names[2]} of {scores[2]*100}%')\n",
        "  nfold+=1"
      ],
      "metadata": {
        "colab": {
          "base_uri": "https://localhost:8080/"
        },
        "id": "QN7om-UlhbP9",
        "outputId": "26ce910a-05db-48a4-dea5-e40be4779271"
      },
      "execution_count": 17,
      "outputs": [
        {
          "output_type": "stream",
          "name": "stdout",
          "text": [
            "Score for fold 1: loss of 0.061366092413663864; accuracy of 98.90604019165039% DiceMetric of 83.41569304466248%\n",
            "Score for fold 2: loss of 0.062007687985897064; accuracy of 98.7769067287445% DiceMetric of 83.26606154441833%\n",
            "Score for fold 3: loss of 0.062724769115448; accuracy of 98.84358048439026% DiceMetric of 80.5332899093628%\n",
            "Score for fold 4: loss of 0.05765148252248764; accuracy of 98.84655475616455% DiceMetric of 83.72251987457275%\n",
            "Score for fold 5: loss of 0.05145386606454849; accuracy of 98.89457821846008% DiceMetric of 81.14192485809326%\n"
          ]
        }
      ]
    }
  ],
  "metadata": {
    "accelerator": "GPU",
    "colab": {
      "name": "Resnet V3.ipynb",
      "provenance": [],
      "authorship_tag": "ABX9TyM5vlgqL/2rbAaZf3TaaxSM",
      "include_colab_link": true
    },
    "gpuClass": "standard",
    "kernelspec": {
      "display_name": "Python 3",
      "name": "python3"
    },
    "language_info": {
      "name": "python"
    }
  },
  "nbformat": 4,
  "nbformat_minor": 0
}