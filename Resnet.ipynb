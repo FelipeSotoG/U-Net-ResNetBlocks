{
  "nbformat": 4,
  "nbformat_minor": 0,
  "metadata": {
    "colab": {
      "name": "Resnet.ipynb",
      "provenance": [],
      "authorship_tag": "ABX9TyM6/V7eLi/h5oID470wdo+8",
      "include_colab_link": true
    },
    "kernelspec": {
      "name": "python3",
      "display_name": "Python 3"
    },
    "language_info": {
      "name": "python"
    },
    "accelerator": "GPU",
    "gpuClass": "standard"
  },
  "cells": [
    {
      "cell_type": "markdown",
      "metadata": {
        "id": "view-in-github",
        "colab_type": "text"
      },
      "source": [
        "<a href=\"https://colab.research.google.com/github/FelipeSotoG/U-Net-ResNetBlocks/blob/main/Resnet.ipynb\" target=\"_parent\"><img src=\"https://colab.research.google.com/assets/colab-badge.svg\" alt=\"Open In Colab\"/></a>"
      ]
    },
    {
      "cell_type": "markdown",
      "metadata": {
        "id": "FcH2AvTh97gF"
      },
      "source": [
        "##Descarga datos\n",
        "Los datos se encuentran en el drive, por lo que usara gdown para sacarlos directamente y no tener que hacer la coneccion, ya que estamos descargando un zip."
      ]
    },
    {
      "cell_type": "code",
      "execution_count": 1,
      "metadata": {
        "colab": {
          "base_uri": "https://localhost:8080/"
        },
        "id": "t7GLXIiagwH3",
        "outputId": "341793f0-4363-44a8-8a52-bfed82bef95a"
      },
      "outputs": [
        {
          "output_type": "stream",
          "name": "stdout",
          "text": [
            "Downloading...\n",
            "From: https://drive.google.com/uc?id=1f3hc0IdnyN60NjGoPO9Za9Vnmj9pk3zt\n",
            "To: /content/input.zip\n",
            "100% 597M/597M [00:04<00:00, 120MB/s]\n"
          ]
        }
      ],
      "source": [
        "!gdown https://drive.google.com/uc?id=1f3hc0IdnyN60NjGoPO9Za9Vnmj9pk3zt"
      ]
    },
    {
      "cell_type": "code",
      "execution_count": 2,
      "metadata": {
        "id": "uq8I6BfRhogZ"
      },
      "outputs": [],
      "source": [
        "!unzip -q input.zip"
      ]
    },
    {
      "cell_type": "code",
      "execution_count": 3,
      "metadata": {
        "id": "H9Y2Q3Bce47L"
      },
      "outputs": [],
      "source": [
        "IMG_WIDTH = 128\n",
        "IMG_HEIGHT = 128\n",
        "IMG_CHANNELS = 1"
      ]
    },
    {
      "cell_type": "code",
      "execution_count": 4,
      "metadata": {
        "id": "_jqAPlaMKtpg"
      },
      "outputs": [],
      "source": [
        "import nibabel as nib\n",
        "import os\n",
        "import numpy as np\n",
        "from nibabel.testing import data_path\n",
        "import matplotlib.pyplot as plt\n",
        "import cv2"
      ]
    },
    {
      "cell_type": "code",
      "execution_count": 5,
      "metadata": {
        "id": "hmJoArAEd41C"
      },
      "outputs": [],
      "source": [
        "import imageio as iio\n",
        "import glob\n",
        "from skimage.transform import resize\n",
        "src=\"/content/input/train\"\n",
        "imag=\"/images/\"\n",
        "X=np.zeros((len(glob.glob(src+imag+\"*.png\")),IMG_WIDTH,IMG_HEIGHT,1))\n",
        "for i,x in enumerate(sorted(glob.glob(src+imag+\"*.png\"))):\n",
        "  X[i]=resize(iio.imread(x),(IMG_WIDTH,IMG_HEIGHT,1),mode=\"constant\",preserve_range=True)\n",
        "mas=\"/masks/\"\n",
        "Y=np.zeros((len(glob.glob(src+mas+\"*.png\")),IMG_WIDTH,IMG_HEIGHT,1))\n",
        "for i,x in enumerate(sorted(glob.glob(src+mas+\"*.png\"))):\n",
        "  Y[i]=resize(iio.imread(x),(IMG_WIDTH,IMG_HEIGHT,1),mode=\"constant\",preserve_range=True)/255"
      ]
    },
    {
      "cell_type": "markdown",
      "source": [
        "##Borrar directorio /input en caso de error"
      ],
      "metadata": {
        "id": "3NcX5DC3VvAR"
      }
    },
    {
      "cell_type": "code",
      "source": [
        "!rm -r /content/input"
      ],
      "metadata": {
        "id": "-QywVJIaZjHC"
      },
      "execution_count": null,
      "outputs": []
    },
    {
      "cell_type": "markdown",
      "metadata": {
        "id": "L6IAoTKTuO5B"
      },
      "source": [
        "##Train Test Split"
      ]
    },
    {
      "cell_type": "code",
      "execution_count": 6,
      "metadata": {
        "id": "ub5XKwbdAQ32"
      },
      "outputs": [],
      "source": [
        "from sklearn.model_selection import train_test_split\n",
        "X_train, X_test, Y_train, Y_test = train_test_split(\n",
        "    X, Y, test_size=0.3, random_state=2)"
      ]
    },
    {
      "cell_type": "markdown",
      "source": [
        "##Resnet"
      ],
      "metadata": {
        "id": "P6CambWxdEwn"
      }
    },
    {
      "cell_type": "code",
      "source": [
        "def DiceMetric(y_true, y_pred):\n",
        "  smooth=1e-6 \n",
        "  gama=2\n",
        "  y_true, y_pred = tf.cast(\n",
        "      y_true, dtype=tf.float32), tf.cast(y_pred, tf.float32)\n",
        "  nominator = 2 * \\\n",
        "      tf.reduce_sum(tf.multiply(y_pred, y_true)) + smooth\n",
        "  denominator = tf.reduce_sum(\n",
        "      y_pred ** gama) + tf.reduce_sum(y_true ** gama) + smooth\n",
        "  result = tf.divide(nominator, denominator)\n",
        "  return result\n",
        "def DiceLoss(y_true, y_pred):\n",
        "      result= 1- DiceMetric(y_true, y_pred)\n",
        "      return result"
      ],
      "metadata": {
        "id": "Urgfb0zMWlz-"
      },
      "execution_count": 7,
      "outputs": []
    },
    {
      "cell_type": "code",
      "source": [
        "def conv_e_block(X,f,d=0.1,group=1):\n",
        "  c = tf.keras.layers.Conv2D(f[0], (1, 1), activation='relu', kernel_initializer='he_normal', padding='same')(X)\n",
        "  c = tf.keras.layers.BatchNormalization(axis=3)(c)\n",
        "  c = tf.keras.layers.Dropout(d)(c)\n",
        "  c = tf.keras.layers.Conv2D(f[1], (3, 3), activation='relu', kernel_initializer='he_normal', padding='same',groups=group)(c)\n",
        "  c = tf.keras.layers.BatchNormalization(axis=3)(c)\n",
        "  c = tf.keras.layers.Dropout(d)(c)\n",
        "  c = tf.keras.layers.Conv2D(f[2], (1, 1), kernel_initializer='he_normal', padding='same')(c)\n",
        "  c = tf.keras.layers.BatchNormalization(axis=3)(c)\n",
        "  s = tf.keras.layers.Conv2D(f[2], (1, 1), kernel_initializer='he_normal', padding='same')(X)\n",
        "  s = tf.keras.layers.BatchNormalization(axis=3)(s)\n",
        "  c = tf.keras.layers.ReLU()(c)\n",
        "  return (c,s)"
      ],
      "metadata": {
        "id": "QrTMap7feMSc"
      },
      "execution_count": 8,
      "outputs": []
    },
    {
      "cell_type": "code",
      "execution_count": 9,
      "metadata": {
        "id": "wkYpNCf-ezrY"
      },
      "outputs": [],
      "source": [
        "def conv_block(X,f,d=0.1,group=1):\n",
        "  c = tf.keras.layers.Conv2D(f[0], (1, 1), activation='relu', kernel_initializer='he_normal', padding='same')(X)\n",
        "  c = tf.keras.layers.BatchNormalization(axis=3)(c)\n",
        "  c = tf.keras.layers.Dropout(d)(c)\n",
        "  c = tf.keras.layers.Conv2D(f[1], (3, 3), activation='relu', kernel_initializer='he_normal', padding='same',groups=group)(c)\n",
        "  c = tf.keras.layers.BatchNormalization(axis=3)(c)\n",
        "  c = tf.keras.layers.Dropout(d)(c)\n",
        "  c = tf.keras.layers.Conv2D(f[2], (1, 1), kernel_initializer='he_normal', padding='same')(c)\n",
        "  c = tf.keras.layers.BatchNormalization(axis=3)(c)\n",
        "  s = tf.keras.layers.Conv2D(f[2], (1, 1), kernel_initializer='he_normal', padding='same')(X)\n",
        "  s = tf.keras.layers.BatchNormalization(axis=3)(s)\n",
        "  c = tf.keras.layers.Add()([s,c])\n",
        "  c = tf.keras.layers.ReLU()(c)\n",
        "  return c"
      ]
    },
    {
      "cell_type": "code",
      "source": [
        "def conv_u_block(X,f,I,d=0.1,group=1):\n",
        "  c = tf.keras.layers.Conv2D(f[0], (1, 1), activation='relu', kernel_initializer='he_normal', padding='same')(X)\n",
        "  c = tf.keras.layers.BatchNormalization(axis=3)(c)\n",
        "  c = tf.keras.layers.Dropout(d)(c)\n",
        "  c = tf.keras.layers.Conv2D(f[1], (3, 3), activation='relu', kernel_initializer='he_normal', padding='same',groups=group)(c)\n",
        "  c = tf.keras.layers.BatchNormalization(axis=3)(c)\n",
        "  c = tf.keras.layers.Dropout(d)(c)\n",
        "  c = tf.keras.layers.Conv2D(f[2], (1, 1), kernel_initializer='he_normal', padding='same')(c)\n",
        "  c = tf.keras.layers.BatchNormalization(axis=3)(c)\n",
        "  c = tf.keras.layers.Add()([I,c])\n",
        "  c = tf.keras.layers.ReLU()(c)\n",
        "  return c"
      ],
      "metadata": {
        "id": "JTMBUM6DfO9a"
      },
      "execution_count": 10,
      "outputs": []
    },
    {
      "cell_type": "code",
      "source": [
        "import tensorflow as tf\n",
        "\n",
        "IMG_WIDTH = 128\n",
        "IMG_HEIGHT = 128\n",
        "IMG_CHANNELS = 1\n",
        "\n",
        "\n",
        "#Build the model\n",
        "inputs = tf.keras.layers.Input((IMG_HEIGHT, IMG_WIDTH, IMG_CHANNELS))\n",
        "s = tf.keras.layers.Lambda(lambda x: x / 255)(inputs)\n",
        "\n",
        "#Contraction path\n",
        "c1,z1 = conv_e_block(s,[8,8,16])\n",
        "p1 = tf.keras.layers.MaxPooling2D((2, 2))(c1)\n",
        "\n",
        "c2,z2 = conv_e_block(c1,[16,16,32])\n",
        "p2 = tf.keras.layers.MaxPooling2D((2, 2))(c2)\n",
        " \n",
        "c3,z3 = conv_e_block(c2,[32,32,64],0.2)\n",
        "p3 = tf.keras.layers.MaxPooling2D((2, 2))(c3)\n",
        " \n",
        "c4,z4 = conv_e_block(c3,[64,64,128],0.2)\n",
        "p4 = tf.keras.layers.MaxPooling2D(pool_size=(2, 2))(c4)\n",
        " \n",
        "c5 = conv_block(p4,[128,128,256],0.3)\n",
        "\n",
        "\n",
        "#Expansive path \n",
        "u6 = tf.keras.layers.Conv2DTranspose(128, (2, 2), strides=(2, 2), padding='same')(c5)\n",
        "c6 = conv_u_block(u6,[64,64,128],z4,0.2)\n",
        " \n",
        "u7 = tf.keras.layers.Conv2DTranspose(64, (2, 2), strides=(1, 1), padding='same')(c6)\n",
        "c7 = conv_u_block(u7,[32,32,64],z3,0.2)\n",
        "\n",
        "\n",
        "u8 = tf.keras.layers.Conv2DTranspose(32, (2, 2), strides=(1, 1), padding='same')(c7)\n",
        "c8 = conv_u_block(u8,[16,16,32],z2)\n",
        "\n",
        "u9 = tf.keras.layers.Conv2DTranspose(16, (2, 2), strides=(1, 1), padding='same')(c8)\n",
        "c9 = conv_u_block(u9,[8,8,16],z1)\n",
        " \n",
        "outputs = tf.keras.layers.Conv2D(1, (1, 1), activation='sigmoid')(c9)\n",
        " \n",
        "model = tf.keras.Model(inputs=[inputs], outputs=[outputs])\n",
        "model.compile(optimizer='adam', loss='binary_crossentropy', metrics=['accuracy',DiceMetric])\n",
        "model.summary()"
      ],
      "metadata": {
        "colab": {
          "base_uri": "https://localhost:8080/"
        },
        "id": "pgI54ahHeta-",
        "outputId": "38d70ab6-5d68-4181-bc33-dfee8918a0e3"
      },
      "execution_count": 12,
      "outputs": [
        {
          "output_type": "stream",
          "name": "stdout",
          "text": [
            "Model: \"model_1\"\n",
            "__________________________________________________________________________________________________\n",
            " Layer (type)                   Output Shape         Param #     Connected to                     \n",
            "==================================================================================================\n",
            " input_2 (InputLayer)           [(None, 128, 128, 1  0           []                               \n",
            "                                )]                                                                \n",
            "                                                                                                  \n",
            " lambda_1 (Lambda)              (None, 128, 128, 1)  0           ['input_2[0][0]']                \n",
            "                                                                                                  \n",
            " conv2d_33 (Conv2D)             (None, 128, 128, 8)  16          ['lambda_1[0][0]']               \n",
            "                                                                                                  \n",
            " batch_normalization_32 (BatchN  (None, 128, 128, 8)  32         ['conv2d_33[0][0]']              \n",
            " ormalization)                                                                                    \n",
            "                                                                                                  \n",
            " dropout_18 (Dropout)           (None, 128, 128, 8)  0           ['batch_normalization_32[0][0]'] \n",
            "                                                                                                  \n",
            " conv2d_34 (Conv2D)             (None, 128, 128, 8)  584         ['dropout_18[0][0]']             \n",
            "                                                                                                  \n",
            " batch_normalization_33 (BatchN  (None, 128, 128, 8)  32         ['conv2d_34[0][0]']              \n",
            " ormalization)                                                                                    \n",
            "                                                                                                  \n",
            " dropout_19 (Dropout)           (None, 128, 128, 8)  0           ['batch_normalization_33[0][0]'] \n",
            "                                                                                                  \n",
            " conv2d_35 (Conv2D)             (None, 128, 128, 16  144         ['dropout_19[0][0]']             \n",
            "                                )                                                                 \n",
            "                                                                                                  \n",
            " batch_normalization_34 (BatchN  (None, 128, 128, 16  64         ['conv2d_35[0][0]']              \n",
            " ormalization)                  )                                                                 \n",
            "                                                                                                  \n",
            " re_lu_9 (ReLU)                 (None, 128, 128, 16  0           ['batch_normalization_34[0][0]'] \n",
            "                                )                                                                 \n",
            "                                                                                                  \n",
            " conv2d_37 (Conv2D)             (None, 128, 128, 16  272         ['re_lu_9[0][0]']                \n",
            "                                )                                                                 \n",
            "                                                                                                  \n",
            " batch_normalization_36 (BatchN  (None, 128, 128, 16  64         ['conv2d_37[0][0]']              \n",
            " ormalization)                  )                                                                 \n",
            "                                                                                                  \n",
            " dropout_20 (Dropout)           (None, 128, 128, 16  0           ['batch_normalization_36[0][0]'] \n",
            "                                )                                                                 \n",
            "                                                                                                  \n",
            " conv2d_38 (Conv2D)             (None, 128, 128, 16  2320        ['dropout_20[0][0]']             \n",
            "                                )                                                                 \n",
            "                                                                                                  \n",
            " batch_normalization_37 (BatchN  (None, 128, 128, 16  64         ['conv2d_38[0][0]']              \n",
            " ormalization)                  )                                                                 \n",
            "                                                                                                  \n",
            " dropout_21 (Dropout)           (None, 128, 128, 16  0           ['batch_normalization_37[0][0]'] \n",
            "                                )                                                                 \n",
            "                                                                                                  \n",
            " conv2d_39 (Conv2D)             (None, 128, 128, 32  544         ['dropout_21[0][0]']             \n",
            "                                )                                                                 \n",
            "                                                                                                  \n",
            " batch_normalization_38 (BatchN  (None, 128, 128, 32  128        ['conv2d_39[0][0]']              \n",
            " ormalization)                  )                                                                 \n",
            "                                                                                                  \n",
            " re_lu_10 (ReLU)                (None, 128, 128, 32  0           ['batch_normalization_38[0][0]'] \n",
            "                                )                                                                 \n",
            "                                                                                                  \n",
            " conv2d_41 (Conv2D)             (None, 128, 128, 32  1056        ['re_lu_10[0][0]']               \n",
            "                                )                                                                 \n",
            "                                                                                                  \n",
            " batch_normalization_40 (BatchN  (None, 128, 128, 32  128        ['conv2d_41[0][0]']              \n",
            " ormalization)                  )                                                                 \n",
            "                                                                                                  \n",
            " dropout_22 (Dropout)           (None, 128, 128, 32  0           ['batch_normalization_40[0][0]'] \n",
            "                                )                                                                 \n",
            "                                                                                                  \n",
            " conv2d_42 (Conv2D)             (None, 128, 128, 32  9248        ['dropout_22[0][0]']             \n",
            "                                )                                                                 \n",
            "                                                                                                  \n",
            " batch_normalization_41 (BatchN  (None, 128, 128, 32  128        ['conv2d_42[0][0]']              \n",
            " ormalization)                  )                                                                 \n",
            "                                                                                                  \n",
            " dropout_23 (Dropout)           (None, 128, 128, 32  0           ['batch_normalization_41[0][0]'] \n",
            "                                )                                                                 \n",
            "                                                                                                  \n",
            " conv2d_43 (Conv2D)             (None, 128, 128, 64  2112        ['dropout_23[0][0]']             \n",
            "                                )                                                                 \n",
            "                                                                                                  \n",
            " batch_normalization_42 (BatchN  (None, 128, 128, 64  256        ['conv2d_43[0][0]']              \n",
            " ormalization)                  )                                                                 \n",
            "                                                                                                  \n",
            " re_lu_11 (ReLU)                (None, 128, 128, 64  0           ['batch_normalization_42[0][0]'] \n",
            "                                )                                                                 \n",
            "                                                                                                  \n",
            " conv2d_45 (Conv2D)             (None, 128, 128, 64  4160        ['re_lu_11[0][0]']               \n",
            "                                )                                                                 \n",
            "                                                                                                  \n",
            " batch_normalization_44 (BatchN  (None, 128, 128, 64  256        ['conv2d_45[0][0]']              \n",
            " ormalization)                  )                                                                 \n",
            "                                                                                                  \n",
            " dropout_24 (Dropout)           (None, 128, 128, 64  0           ['batch_normalization_44[0][0]'] \n",
            "                                )                                                                 \n",
            "                                                                                                  \n",
            " conv2d_46 (Conv2D)             (None, 128, 128, 64  36928       ['dropout_24[0][0]']             \n",
            "                                )                                                                 \n",
            "                                                                                                  \n",
            " batch_normalization_45 (BatchN  (None, 128, 128, 64  256        ['conv2d_46[0][0]']              \n",
            " ormalization)                  )                                                                 \n",
            "                                                                                                  \n",
            " dropout_25 (Dropout)           (None, 128, 128, 64  0           ['batch_normalization_45[0][0]'] \n",
            "                                )                                                                 \n",
            "                                                                                                  \n",
            " conv2d_47 (Conv2D)             (None, 128, 128, 12  8320        ['dropout_25[0][0]']             \n",
            "                                8)                                                                \n",
            "                                                                                                  \n",
            " batch_normalization_46 (BatchN  (None, 128, 128, 12  512        ['conv2d_47[0][0]']              \n",
            " ormalization)                  8)                                                                \n",
            "                                                                                                  \n",
            " re_lu_12 (ReLU)                (None, 128, 128, 12  0           ['batch_normalization_46[0][0]'] \n",
            "                                8)                                                                \n",
            "                                                                                                  \n",
            " max_pooling2d_7 (MaxPooling2D)  (None, 64, 64, 128)  0          ['re_lu_12[0][0]']               \n",
            "                                                                                                  \n",
            " conv2d_49 (Conv2D)             (None, 64, 64, 128)  16512       ['max_pooling2d_7[0][0]']        \n",
            "                                                                                                  \n",
            " batch_normalization_48 (BatchN  (None, 64, 64, 128)  512        ['conv2d_49[0][0]']              \n",
            " ormalization)                                                                                    \n",
            "                                                                                                  \n",
            " dropout_26 (Dropout)           (None, 64, 64, 128)  0           ['batch_normalization_48[0][0]'] \n",
            "                                                                                                  \n",
            " conv2d_50 (Conv2D)             (None, 64, 64, 128)  147584      ['dropout_26[0][0]']             \n",
            "                                                                                                  \n",
            " batch_normalization_49 (BatchN  (None, 64, 64, 128)  512        ['conv2d_50[0][0]']              \n",
            " ormalization)                                                                                    \n",
            "                                                                                                  \n",
            " dropout_27 (Dropout)           (None, 64, 64, 128)  0           ['batch_normalization_49[0][0]'] \n",
            "                                                                                                  \n",
            " conv2d_52 (Conv2D)             (None, 64, 64, 256)  33024       ['max_pooling2d_7[0][0]']        \n",
            "                                                                                                  \n",
            " conv2d_51 (Conv2D)             (None, 64, 64, 256)  33024       ['dropout_27[0][0]']             \n",
            "                                                                                                  \n",
            " batch_normalization_51 (BatchN  (None, 64, 64, 256)  1024       ['conv2d_52[0][0]']              \n",
            " ormalization)                                                                                    \n",
            "                                                                                                  \n",
            " batch_normalization_50 (BatchN  (None, 64, 64, 256)  1024       ['conv2d_51[0][0]']              \n",
            " ormalization)                                                                                    \n",
            "                                                                                                  \n",
            " add_5 (Add)                    (None, 64, 64, 256)  0           ['batch_normalization_51[0][0]', \n",
            "                                                                  'batch_normalization_50[0][0]'] \n",
            "                                                                                                  \n",
            " re_lu_13 (ReLU)                (None, 64, 64, 256)  0           ['add_5[0][0]']                  \n",
            "                                                                                                  \n",
            " conv2d_transpose_4 (Conv2DTran  (None, 128, 128, 12  131200     ['re_lu_13[0][0]']               \n",
            " spose)                         8)                                                                \n",
            "                                                                                                  \n",
            " conv2d_53 (Conv2D)             (None, 128, 128, 64  8256        ['conv2d_transpose_4[0][0]']     \n",
            "                                )                                                                 \n",
            "                                                                                                  \n",
            " batch_normalization_52 (BatchN  (None, 128, 128, 64  256        ['conv2d_53[0][0]']              \n",
            " ormalization)                  )                                                                 \n",
            "                                                                                                  \n",
            " dropout_28 (Dropout)           (None, 128, 128, 64  0           ['batch_normalization_52[0][0]'] \n",
            "                                )                                                                 \n",
            "                                                                                                  \n",
            " conv2d_54 (Conv2D)             (None, 128, 128, 64  36928       ['dropout_28[0][0]']             \n",
            "                                )                                                                 \n",
            "                                                                                                  \n",
            " batch_normalization_53 (BatchN  (None, 128, 128, 64  256        ['conv2d_54[0][0]']              \n",
            " ormalization)                  )                                                                 \n",
            "                                                                                                  \n",
            " dropout_29 (Dropout)           (None, 128, 128, 64  0           ['batch_normalization_53[0][0]'] \n",
            "                                )                                                                 \n",
            "                                                                                                  \n",
            " conv2d_48 (Conv2D)             (None, 128, 128, 12  8320        ['re_lu_11[0][0]']               \n",
            "                                8)                                                                \n",
            "                                                                                                  \n",
            " conv2d_55 (Conv2D)             (None, 128, 128, 12  8320        ['dropout_29[0][0]']             \n",
            "                                8)                                                                \n",
            "                                                                                                  \n",
            " batch_normalization_47 (BatchN  (None, 128, 128, 12  512        ['conv2d_48[0][0]']              \n",
            " ormalization)                  8)                                                                \n",
            "                                                                                                  \n",
            " batch_normalization_54 (BatchN  (None, 128, 128, 12  512        ['conv2d_55[0][0]']              \n",
            " ormalization)                  8)                                                                \n",
            "                                                                                                  \n",
            " add_6 (Add)                    (None, 128, 128, 12  0           ['batch_normalization_47[0][0]', \n",
            "                                8)                                'batch_normalization_54[0][0]'] \n",
            "                                                                                                  \n",
            " re_lu_14 (ReLU)                (None, 128, 128, 12  0           ['add_6[0][0]']                  \n",
            "                                8)                                                                \n",
            "                                                                                                  \n",
            " conv2d_transpose_5 (Conv2DTran  (None, 128, 128, 64  32832      ['re_lu_14[0][0]']               \n",
            " spose)                         )                                                                 \n",
            "                                                                                                  \n",
            " conv2d_56 (Conv2D)             (None, 128, 128, 32  2080        ['conv2d_transpose_5[0][0]']     \n",
            "                                )                                                                 \n",
            "                                                                                                  \n",
            " batch_normalization_55 (BatchN  (None, 128, 128, 32  128        ['conv2d_56[0][0]']              \n",
            " ormalization)                  )                                                                 \n",
            "                                                                                                  \n",
            " dropout_30 (Dropout)           (None, 128, 128, 32  0           ['batch_normalization_55[0][0]'] \n",
            "                                )                                                                 \n",
            "                                                                                                  \n",
            " conv2d_57 (Conv2D)             (None, 128, 128, 32  9248        ['dropout_30[0][0]']             \n",
            "                                )                                                                 \n",
            "                                                                                                  \n",
            " batch_normalization_56 (BatchN  (None, 128, 128, 32  128        ['conv2d_57[0][0]']              \n",
            " ormalization)                  )                                                                 \n",
            "                                                                                                  \n",
            " dropout_31 (Dropout)           (None, 128, 128, 32  0           ['batch_normalization_56[0][0]'] \n",
            "                                )                                                                 \n",
            "                                                                                                  \n",
            " conv2d_44 (Conv2D)             (None, 128, 128, 64  2112        ['re_lu_10[0][0]']               \n",
            "                                )                                                                 \n",
            "                                                                                                  \n",
            " conv2d_58 (Conv2D)             (None, 128, 128, 64  2112        ['dropout_31[0][0]']             \n",
            "                                )                                                                 \n",
            "                                                                                                  \n",
            " batch_normalization_43 (BatchN  (None, 128, 128, 64  256        ['conv2d_44[0][0]']              \n",
            " ormalization)                  )                                                                 \n",
            "                                                                                                  \n",
            " batch_normalization_57 (BatchN  (None, 128, 128, 64  256        ['conv2d_58[0][0]']              \n",
            " ormalization)                  )                                                                 \n",
            "                                                                                                  \n",
            " add_7 (Add)                    (None, 128, 128, 64  0           ['batch_normalization_43[0][0]', \n",
            "                                )                                 'batch_normalization_57[0][0]'] \n",
            "                                                                                                  \n",
            " re_lu_15 (ReLU)                (None, 128, 128, 64  0           ['add_7[0][0]']                  \n",
            "                                )                                                                 \n",
            "                                                                                                  \n",
            " conv2d_transpose_6 (Conv2DTran  (None, 128, 128, 32  8224       ['re_lu_15[0][0]']               \n",
            " spose)                         )                                                                 \n",
            "                                                                                                  \n",
            " conv2d_59 (Conv2D)             (None, 128, 128, 16  528         ['conv2d_transpose_6[0][0]']     \n",
            "                                )                                                                 \n",
            "                                                                                                  \n",
            " batch_normalization_58 (BatchN  (None, 128, 128, 16  64         ['conv2d_59[0][0]']              \n",
            " ormalization)                  )                                                                 \n",
            "                                                                                                  \n",
            " dropout_32 (Dropout)           (None, 128, 128, 16  0           ['batch_normalization_58[0][0]'] \n",
            "                                )                                                                 \n",
            "                                                                                                  \n",
            " conv2d_60 (Conv2D)             (None, 128, 128, 16  2320        ['dropout_32[0][0]']             \n",
            "                                )                                                                 \n",
            "                                                                                                  \n",
            " batch_normalization_59 (BatchN  (None, 128, 128, 16  64         ['conv2d_60[0][0]']              \n",
            " ormalization)                  )                                                                 \n",
            "                                                                                                  \n",
            " dropout_33 (Dropout)           (None, 128, 128, 16  0           ['batch_normalization_59[0][0]'] \n",
            "                                )                                                                 \n",
            "                                                                                                  \n",
            " conv2d_40 (Conv2D)             (None, 128, 128, 32  544         ['re_lu_9[0][0]']                \n",
            "                                )                                                                 \n",
            "                                                                                                  \n",
            " conv2d_61 (Conv2D)             (None, 128, 128, 32  544         ['dropout_33[0][0]']             \n",
            "                                )                                                                 \n",
            "                                                                                                  \n",
            " batch_normalization_39 (BatchN  (None, 128, 128, 32  128        ['conv2d_40[0][0]']              \n",
            " ormalization)                  )                                                                 \n",
            "                                                                                                  \n",
            " batch_normalization_60 (BatchN  (None, 128, 128, 32  128        ['conv2d_61[0][0]']              \n",
            " ormalization)                  )                                                                 \n",
            "                                                                                                  \n",
            " add_8 (Add)                    (None, 128, 128, 32  0           ['batch_normalization_39[0][0]', \n",
            "                                )                                 'batch_normalization_60[0][0]'] \n",
            "                                                                                                  \n",
            " re_lu_16 (ReLU)                (None, 128, 128, 32  0           ['add_8[0][0]']                  \n",
            "                                )                                                                 \n",
            "                                                                                                  \n",
            " conv2d_transpose_7 (Conv2DTran  (None, 128, 128, 16  2064       ['re_lu_16[0][0]']               \n",
            " spose)                         )                                                                 \n",
            "                                                                                                  \n",
            " conv2d_62 (Conv2D)             (None, 128, 128, 8)  136         ['conv2d_transpose_7[0][0]']     \n",
            "                                                                                                  \n",
            " batch_normalization_61 (BatchN  (None, 128, 128, 8)  32         ['conv2d_62[0][0]']              \n",
            " ormalization)                                                                                    \n",
            "                                                                                                  \n",
            " dropout_34 (Dropout)           (None, 128, 128, 8)  0           ['batch_normalization_61[0][0]'] \n",
            "                                                                                                  \n",
            " conv2d_63 (Conv2D)             (None, 128, 128, 8)  584         ['dropout_34[0][0]']             \n",
            "                                                                                                  \n",
            " batch_normalization_62 (BatchN  (None, 128, 128, 8)  32         ['conv2d_63[0][0]']              \n",
            " ormalization)                                                                                    \n",
            "                                                                                                  \n",
            " dropout_35 (Dropout)           (None, 128, 128, 8)  0           ['batch_normalization_62[0][0]'] \n",
            "                                                                                                  \n",
            " conv2d_36 (Conv2D)             (None, 128, 128, 16  32          ['lambda_1[0][0]']               \n",
            "                                )                                                                 \n",
            "                                                                                                  \n",
            " conv2d_64 (Conv2D)             (None, 128, 128, 16  144         ['dropout_35[0][0]']             \n",
            "                                )                                                                 \n",
            "                                                                                                  \n",
            " batch_normalization_35 (BatchN  (None, 128, 128, 16  64         ['conv2d_36[0][0]']              \n",
            " ormalization)                  )                                                                 \n",
            "                                                                                                  \n",
            " batch_normalization_63 (BatchN  (None, 128, 128, 16  64         ['conv2d_64[0][0]']              \n",
            " ormalization)                  )                                                                 \n",
            "                                                                                                  \n",
            " add_9 (Add)                    (None, 128, 128, 16  0           ['batch_normalization_35[0][0]', \n",
            "                                )                                 'batch_normalization_63[0][0]'] \n",
            "                                                                                                  \n",
            " re_lu_17 (ReLU)                (None, 128, 128, 16  0           ['add_9[0][0]']                  \n",
            "                                )                                                                 \n",
            "                                                                                                  \n",
            " conv2d_65 (Conv2D)             (None, 128, 128, 1)  17          ['re_lu_17[0][0]']               \n",
            "                                                                                                  \n",
            "==================================================================================================\n",
            "Total params: 560,265\n",
            "Trainable params: 556,329\n",
            "Non-trainable params: 3,936\n",
            "__________________________________________________________________________________________________\n"
          ]
        }
      ]
    },
    {
      "cell_type": "markdown",
      "source": [
        "##Model Fit"
      ],
      "metadata": {
        "id": "4JFyLMRezeWO"
      }
    },
    {
      "cell_type": "code",
      "source": [
        "model.fit(X_train,Y_train,batch_size=16,epochs=25,validation_split=0.2)"
      ],
      "metadata": {
        "colab": {
          "base_uri": "https://localhost:8080/"
        },
        "id": "kCB8atJ1zda4",
        "outputId": "020777aa-ebae-4952-b1a7-1d68dc7e636a"
      },
      "execution_count": 13,
      "outputs": [
        {
          "output_type": "stream",
          "name": "stdout",
          "text": [
            "Epoch 1/25\n",
            "124/124 [==============================] - 42s 199ms/step - loss: 0.1867 - accuracy: 0.9482 - DiceMetric: 0.1254 - val_loss: 0.1328 - val_accuracy: 0.9854 - val_DiceMetric: 0.1695\n",
            "Epoch 2/25\n",
            "124/124 [==============================] - 22s 179ms/step - loss: 0.0577 - accuracy: 0.9870 - DiceMetric: 0.2270 - val_loss: 0.0659 - val_accuracy: 0.9855 - val_DiceMetric: 0.2629\n",
            "Epoch 3/25\n",
            "124/124 [==============================] - 22s 179ms/step - loss: 0.0365 - accuracy: 0.9871 - DiceMetric: 0.4277 - val_loss: 0.0342 - val_accuracy: 0.9852 - val_DiceMetric: 0.5061\n",
            "Epoch 4/25\n",
            "124/124 [==============================] - 22s 179ms/step - loss: 0.0271 - accuracy: 0.9873 - DiceMetric: 0.5306 - val_loss: 0.0309 - val_accuracy: 0.9839 - val_DiceMetric: 0.5500\n",
            "Epoch 5/25\n",
            "124/124 [==============================] - 22s 179ms/step - loss: 0.0227 - accuracy: 0.9874 - DiceMetric: 0.5844 - val_loss: 0.0233 - val_accuracy: 0.9866 - val_DiceMetric: 0.6061\n",
            "Epoch 6/25\n",
            "124/124 [==============================] - 22s 180ms/step - loss: 0.0204 - accuracy: 0.9875 - DiceMetric: 0.6155 - val_loss: 0.0193 - val_accuracy: 0.9866 - val_DiceMetric: 0.6769\n",
            "Epoch 7/25\n",
            "124/124 [==============================] - 22s 179ms/step - loss: 0.0182 - accuracy: 0.9878 - DiceMetric: 0.6631 - val_loss: 0.0170 - val_accuracy: 0.9871 - val_DiceMetric: 0.7217\n",
            "Epoch 8/25\n",
            "124/124 [==============================] - 22s 179ms/step - loss: 0.0170 - accuracy: 0.9879 - DiceMetric: 0.6855 - val_loss: 0.0175 - val_accuracy: 0.9871 - val_DiceMetric: 0.7093\n",
            "Epoch 9/25\n",
            "124/124 [==============================] - 22s 179ms/step - loss: 0.0169 - accuracy: 0.9878 - DiceMetric: 0.6831 - val_loss: 0.0169 - val_accuracy: 0.9862 - val_DiceMetric: 0.7319\n",
            "Epoch 10/25\n",
            "124/124 [==============================] - 22s 179ms/step - loss: 0.0177 - accuracy: 0.9876 - DiceMetric: 0.6550 - val_loss: 0.0169 - val_accuracy: 0.9865 - val_DiceMetric: 0.7322\n",
            "Epoch 11/25\n",
            "124/124 [==============================] - 22s 179ms/step - loss: 0.0153 - accuracy: 0.9880 - DiceMetric: 0.7261 - val_loss: 0.0152 - val_accuracy: 0.9868 - val_DiceMetric: 0.7705\n",
            "Epoch 12/25\n",
            "124/124 [==============================] - 22s 178ms/step - loss: 0.0144 - accuracy: 0.9881 - DiceMetric: 0.7448 - val_loss: 0.0153 - val_accuracy: 0.9865 - val_DiceMetric: 0.7804\n",
            "Epoch 13/25\n",
            "124/124 [==============================] - 22s 179ms/step - loss: 0.0137 - accuracy: 0.9882 - DiceMetric: 0.7609 - val_loss: 0.0146 - val_accuracy: 0.9871 - val_DiceMetric: 0.7990\n",
            "Epoch 14/25\n",
            "124/124 [==============================] - 22s 179ms/step - loss: 0.0133 - accuracy: 0.9883 - DiceMetric: 0.7675 - val_loss: 0.0154 - val_accuracy: 0.9875 - val_DiceMetric: 0.7849\n",
            "Epoch 15/25\n",
            "124/124 [==============================] - 22s 178ms/step - loss: 0.0132 - accuracy: 0.9884 - DiceMetric: 0.7736 - val_loss: 0.0142 - val_accuracy: 0.9866 - val_DiceMetric: 0.7994\n",
            "Epoch 16/25\n",
            "124/124 [==============================] - 22s 178ms/step - loss: 0.0127 - accuracy: 0.9884 - DiceMetric: 0.7840 - val_loss: 0.0138 - val_accuracy: 0.9868 - val_DiceMetric: 0.8049\n",
            "Epoch 17/25\n",
            "124/124 [==============================] - 22s 178ms/step - loss: 0.0122 - accuracy: 0.9885 - DiceMetric: 0.7994 - val_loss: 0.0133 - val_accuracy: 0.9875 - val_DiceMetric: 0.8147\n",
            "Epoch 18/25\n",
            "124/124 [==============================] - 22s 179ms/step - loss: 0.0119 - accuracy: 0.9886 - DiceMetric: 0.8053 - val_loss: 0.0133 - val_accuracy: 0.9875 - val_DiceMetric: 0.8164\n",
            "Epoch 19/25\n",
            "124/124 [==============================] - 22s 179ms/step - loss: 0.0117 - accuracy: 0.9886 - DiceMetric: 0.8042 - val_loss: 0.0151 - val_accuracy: 0.9876 - val_DiceMetric: 0.7920\n",
            "Epoch 20/25\n",
            "124/124 [==============================] - 22s 179ms/step - loss: 0.0121 - accuracy: 0.9885 - DiceMetric: 0.7921 - val_loss: 0.0130 - val_accuracy: 0.9875 - val_DiceMetric: 0.8178\n",
            "Epoch 21/25\n",
            "124/124 [==============================] - 22s 179ms/step - loss: 0.0116 - accuracy: 0.9886 - DiceMetric: 0.8042 - val_loss: 0.0125 - val_accuracy: 0.9874 - val_DiceMetric: 0.8289\n",
            "Epoch 22/25\n",
            "124/124 [==============================] - 22s 179ms/step - loss: 0.0115 - accuracy: 0.9886 - DiceMetric: 0.8063 - val_loss: 0.0135 - val_accuracy: 0.9873 - val_DiceMetric: 0.7958\n",
            "Epoch 23/25\n",
            "124/124 [==============================] - 22s 178ms/step - loss: 0.0112 - accuracy: 0.9887 - DiceMetric: 0.8141 - val_loss: 0.0136 - val_accuracy: 0.9875 - val_DiceMetric: 0.8123\n",
            "Epoch 24/25\n",
            "124/124 [==============================] - 22s 179ms/step - loss: 0.0111 - accuracy: 0.9886 - DiceMetric: 0.8160 - val_loss: 0.0153 - val_accuracy: 0.9872 - val_DiceMetric: 0.7896\n",
            "Epoch 25/25\n",
            "124/124 [==============================] - 22s 179ms/step - loss: 0.0112 - accuracy: 0.9887 - DiceMetric: 0.8191 - val_loss: 0.0125 - val_accuracy: 0.9877 - val_DiceMetric: 0.8174\n"
          ]
        },
        {
          "output_type": "execute_result",
          "data": {
            "text/plain": [
              "<keras.callbacks.History at 0x7f6aa02c02d0>"
            ]
          },
          "metadata": {},
          "execution_count": 13
        }
      ]
    },
    {
      "cell_type": "code",
      "source": [
        "scores= model.evaluate(X_test, Y_test, verbose=0)\n",
        "print(f'Score for fold {0}: {model.metrics_names[0]} of {scores[0]}; {model.metrics_names[1]} of {scores[1]*100}%')"
      ],
      "metadata": {
        "colab": {
          "base_uri": "https://localhost:8080/"
        },
        "id": "b0yz227RzmyI",
        "outputId": "22756fd2-f2bb-4089-d046-938996561c95"
      },
      "execution_count": null,
      "outputs": [
        {
          "output_type": "stream",
          "name": "stdout",
          "text": [
            "Score for fold 0: loss of 0.013260588981211185; accuracy of 98.9195168018341%\n"
          ]
        }
      ]
    },
    {
      "cell_type": "markdown",
      "source": [
        "##Testing"
      ],
      "metadata": {
        "id": "jFP-3gQ9BO8f"
      }
    },
    {
      "cell_type": "code",
      "execution_count": null,
      "metadata": {
        "id": "5P0-RG0wjzA6"
      },
      "outputs": [],
      "source": [
        "Ypred=model.predict(X_test)"
      ]
    },
    {
      "cell_type": "code",
      "execution_count": null,
      "metadata": {
        "colab": {
          "base_uri": "https://localhost:8080/",
          "height": 518
        },
        "id": "J1ra2EoVycvl",
        "outputId": "a2b44f0f-e16c-4a48-d668-6deb3e7d7589"
      },
      "outputs": [
        {
          "output_type": "display_data",
          "data": {
            "text/plain": [
              "<Figure size 432x288 with 1 Axes>"
            ],
            "image/png": "[encoded data removed]"
          },
          "metadata": {
            "needs_background": "light"
          }
        },
        {
          "output_type": "display_data",
          "data": {
            "text/plain": [
              "<Figure size 432x288 with 1 Axes>"
            ],
            "image/png": "[encoded data removed]"
          },
          "metadata": {
            "needs_background": "light"
          }
        }
      ],
      "source": [
        "plt.imshow(np.reshape(Ypred[160],(128,128)), cmap=plt.cm.gray)\n",
        "plt.show()\n",
        "plt.imshow(np.reshape(Y_test[160],(128,128)), cmap=plt.cm.gray)\n",
        "plt.show()"
      ]
    },
    {
      "cell_type": "code",
      "execution_count": null,
      "metadata": {
        "id": "ikB_eI_ZmVtq"
      },
      "outputs": [],
      "source": [
        "def dice(true_mask, pred_mask, non_seg_score=1.0):\n",
        "    \"\"\"\n",
        "        Computes the Dice coefficient.\n",
        "        Args:\n",
        "            true_mask : Array of arbitrary shape.\n",
        "            pred_mask : Array with the same shape than true_mask.  \n",
        "        \n",
        "        Returns:\n",
        "            A scalar representing the Dice coefficient between the two segmentations. \n",
        "        \n",
        "    \"\"\"\n",
        "    assert true_mask.shape == pred_mask.shape\n",
        "\n",
        "    true_mask = np.asarray(true_mask).astype(bool)\n",
        "    pred_mask = np.asarray(pred_mask).astype(bool)\n",
        "\n",
        "    # If both segmentations are all zero, the dice will be 1. (Developer decision)\n",
        "    im_sum = true_mask.sum() + pred_mask.sum()\n",
        "    if im_sum == 0:\n",
        "        return non_seg_score\n",
        "\n",
        "    # Compute Dice coefficient\n",
        "    intersection = np.logical_and(true_mask, pred_mask)\n",
        "    return 2. * intersection.sum() / im_sum"
      ]
    },
    {
      "cell_type": "code",
      "execution_count": null,
      "metadata": {
        "colab": {
          "base_uri": "https://localhost:8080/"
        },
        "id": "beBVFzRQmXI-",
        "outputId": "07cfdf0b-9569-4330-c032-a2f125b48e48"
      },
      "outputs": [
        {
          "output_type": "execute_result",
          "data": {
            "text/plain": [
              "0.07394345500499618"
            ]
          },
          "metadata": {},
          "execution_count": 18
        }
      ],
      "source": [
        "diceaux=dice(Y_test[160],Ypred[160])\n",
        "diceaux"
      ]
    },
    {
      "cell_type": "markdown",
      "source": [
        "## Model Fit Kfold"
      ],
      "metadata": {
        "id": "lc2Sj8PPuJBv"
      }
    },
    {
      "cell_type": "code",
      "source": [
        "from sklearn.model_selection import train_test_split\n",
        "from sklearn.model_selection import KFold\n",
        "from sklearn.model_selection import cross_val_score\n",
        "from numpy import mean\n",
        "from numpy import absolute\n",
        "from numpy import sqrt\n",
        "import pandas as pd"
      ],
      "metadata": {
        "id": "Fh7g3mmhuNPV"
      },
      "execution_count": 14,
      "outputs": []
    },
    {
      "cell_type": "code",
      "source": [
        "cv = KFold(n_splits=5, random_state=1, shuffle=True)"
      ],
      "metadata": {
        "id": "kj7ESdJAuOaW"
      },
      "execution_count": 15,
      "outputs": []
    },
    {
      "cell_type": "markdown",
      "source": [
        "25 epochs"
      ],
      "metadata": {
        "id": "MMoOw7t4c3Cl"
      }
    },
    {
      "cell_type": "code",
      "source": [
        "VALIDATION_ACCURACY = []\n",
        "VALIDAITON_LOSS = []\n",
        "nfold=1\n",
        "for train_index, val_index in cv.split(X,Y):\n",
        "  model = tf.keras.Model(inputs=[inputs], outputs=[outputs])\n",
        "  model.compile(optimizer='adam', loss='binary_crossentropy', metrics=['accuracy',DiceMetric])\n",
        "\n",
        "  X_fold=X[train_index,:,:]\n",
        "  Y_fold=Y[train_index,:,:]\n",
        "  \n",
        "  model.fit(X_fold,Y_fold,batch_size=16,epochs=25,validation_split=0.2,verbose=0)\n",
        "\n",
        "  Xtest_fold=X[val_index,:,:]\n",
        "  Ytest_fold=Y[val_index,:,:]\n",
        "  scores= model.evaluate(Xtest_fold, Ytest_fold, verbose=0)\n",
        "  print(f'Score for fold {nfold}: {model.metrics_names[0]} of {scores[0]}; {model.metrics_names[1]} of {scores[1]*100}% {model.metrics_names[2]} of {scores[2]*100}%')\n",
        "  nfold+=1"
      ],
      "metadata": {
        "colab": {
          "base_uri": "https://localhost:8080/"
        },
        "id": "D7gaF3LTvOU-",
        "outputId": "52a85544-6d46-4a94-a4a7-afe8b762cbbd"
      },
      "execution_count": 16,
      "outputs": [
        {
          "output_type": "stream",
          "name": "stdout",
          "text": [
            "Score for fold 1: loss of 0.014021586626768112; accuracy of 98.92089366912842% DiceMetric of 83.75591039657593%\n",
            "Score for fold 2: loss of 0.019117744639515877; accuracy of 98.81448745727539% DiceMetric of 84.43223834037781%\n",
            "Score for fold 3: loss of 0.01881265453994274; accuracy of 98.86800646781921% DiceMetric of 81.77867531776428%\n",
            "Score for fold 4: loss of 0.016339754685759544; accuracy of 98.87001514434814% DiceMetric of 83.96406173706055%\n",
            "Score for fold 5: loss of 0.01778031513094902; accuracy of 98.91332983970642% DiceMetric of 83.52100849151611%\n"
          ]
        }
      ]
    },
    {
      "cell_type": "markdown",
      "source": [
        "50 epochs"
      ],
      "metadata": {
        "id": "1xW8vkk3c0rN"
      }
    },
    {
      "cell_type": "code",
      "source": [
        "VALIDATION_ACCURACY = []\n",
        "VALIDAITON_LOSS = []\n",
        "nfold=1\n",
        "for train_index, val_index in cv.split(X,Y):\n",
        "  model = tf.keras.Model(inputs=[inputs], outputs=[outputs])\n",
        "  model.compile(optimizer='adam', loss='binary_crossentropy', metrics=['accuracy',DiceMetric])\n",
        "\n",
        "  X_fold=X[train_index,:,:]\n",
        "  Y_fold=Y[train_index,:,:]\n",
        "  \n",
        "  model.fit(X_fold,Y_fold,batch_size=16,epochs=50,validation_split=0.2,verbose=0)\n",
        "\n",
        "  Xtest_fold=X[val_index,:,:]\n",
        "  Ytest_fold=Y[val_index,:,:]\n",
        "  scores= model.evaluate(Xtest_fold, Ytest_fold, verbose=0)\n",
        "  print(f'Score for fold {nfold}: {model.metrics_names[0]} of {scores[0]}; {model.metrics_names[1]} of {scores[1]*100}% {model.metrics_names[2]} of {scores[2]*100}%')\n",
        "  nfold+=1"
      ],
      "metadata": {
        "colab": {
          "base_uri": "https://localhost:8080/"
        },
        "id": "ljMT8Ak4cz6R",
        "outputId": "59e52835-111e-4537-8d7a-9673ba0017b8"
      },
      "execution_count": 17,
      "outputs": [
        {
          "output_type": "stream",
          "name": "stdout",
          "text": [
            "Score for fold 1: loss of 0.020024169236421585; accuracy of 98.9259123802185% DiceMetric of 83.23488235473633%\n",
            "Score for fold 2: loss of 0.027436159551143646; accuracy of 98.80136251449585% DiceMetric of 78.62027883529663%\n",
            "Score for fold 3: loss of 0.027285216376185417; accuracy of 98.84647130966187% DiceMetric of 76.36862397193909%\n",
            "Score for fold 4: loss of 0.02436514012515545; accuracy of 98.84511828422546% DiceMetric of 74.79293942451477%\n",
            "Score for fold 5: loss of 0.02152051404118538; accuracy of 98.88449311256409% DiceMetric of 80.96136450767517%\n"
          ]
        }
      ]
    }
  ]
}