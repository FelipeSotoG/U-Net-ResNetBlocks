{
  "cells": [
    {
      "cell_type": "markdown",
      "metadata": {
        "id": "view-in-github",
        "colab_type": "text"
      },
      "source": [
        "<a href=\"https://colab.research.google.com/github/FelipeSotoG/U-Net-ResNetBlocks/blob/main/Attention_Resnet_SDP_Attention.ipynb\" target=\"_parent\"><img src=\"https://colab.research.google.com/assets/colab-badge.svg\" alt=\"Open In Colab\"/></a>"
      ]
    },
    {
      "cell_type": "markdown",
      "metadata": {
        "id": "FcH2AvTh97gF"
      },
      "source": [
        "##Descarga datos\n",
        "Los datos se encuentran en el drive, por lo que usara gdown para sacarlos directamente y no tener que hacer la coneccion, ya que estamos descargando un zip."
      ]
    },
    {
      "cell_type": "code",
      "execution_count": 1,
      "metadata": {
        "colab": {
          "base_uri": "https://localhost:8080/"
        },
        "id": "t7GLXIiagwH3",
        "outputId": "3a6c93db-e3df-4017-e478-be2566c396ab"
      },
      "outputs": [
        {
          "output_type": "stream",
          "name": "stdout",
          "text": [
            "Downloading...\n",
            "From: https://drive.google.com/uc?id=1f3hc0IdnyN60NjGoPO9Za9Vnmj9pk3zt\n",
            "To: /content/input.zip\n",
            "100% 597M/597M [00:05<00:00, 105MB/s]\n"
          ]
        }
      ],
      "source": [
        "!gdown https://drive.google.com/uc?id=1f3hc0IdnyN60NjGoPO9Za9Vnmj9pk3zt"
      ]
    },
    {
      "cell_type": "code",
      "execution_count": 2,
      "metadata": {
        "id": "uq8I6BfRhogZ"
      },
      "outputs": [],
      "source": [
        "!unzip -q input.zip"
      ]
    },
    {
      "cell_type": "code",
      "execution_count": 3,
      "metadata": {
        "id": "H9Y2Q3Bce47L"
      },
      "outputs": [],
      "source": [
        "IMG_WIDTH = 128\n",
        "IMG_HEIGHT = 128\n",
        "IMG_CHANNELS = 1"
      ]
    },
    {
      "cell_type": "code",
      "execution_count": 4,
      "metadata": {
        "id": "_jqAPlaMKtpg"
      },
      "outputs": [],
      "source": [
        "import nibabel as nib\n",
        "import os\n",
        "import numpy as np\n",
        "from nibabel.testing import data_path\n",
        "import matplotlib.pyplot as plt\n",
        "import cv2\n",
        "import torch"
      ]
    },
    {
      "cell_type": "code",
      "execution_count": 5,
      "metadata": {
        "id": "hmJoArAEd41C"
      },
      "outputs": [],
      "source": [
        "import imageio as iio\n",
        "import glob\n",
        "from skimage.transform import resize\n",
        "src=\"/content/input/train\"\n",
        "imag=\"/images/\"\n",
        "X=np.zeros((len(glob.glob(src+imag+\"*.png\")),IMG_WIDTH,IMG_HEIGHT,1))\n",
        "for i,x in enumerate(sorted(glob.glob(src+imag+\"*.png\"))):\n",
        "  X[i]=resize(iio.imread(x),(IMG_WIDTH,IMG_HEIGHT,1),mode=\"constant\",preserve_range=True)\n",
        "mas=\"/masks/\"\n",
        "Y=np.zeros((len(glob.glob(src+mas+\"*.png\")),IMG_WIDTH,IMG_HEIGHT,1))\n",
        "for i,x in enumerate(sorted(glob.glob(src+mas+\"*.png\"))):\n",
        "  Y[i]=resize(iio.imread(x),(IMG_WIDTH,IMG_HEIGHT,1),mode=\"constant\",preserve_range=True)/255"
      ]
    },
    {
      "cell_type": "markdown",
      "source": [
        "##Borrar directorio /input en caso de error"
      ],
      "metadata": {
        "id": "3NcX5DC3VvAR"
      }
    },
    {
      "cell_type": "code",
      "source": [
        "!rm -r /content/input"
      ],
      "metadata": {
        "id": "-QywVJIaZjHC"
      },
      "execution_count": null,
      "outputs": []
    },
    {
      "cell_type": "markdown",
      "metadata": {
        "id": "L6IAoTKTuO5B"
      },
      "source": [
        "##Train Test Split"
      ]
    },
    {
      "cell_type": "code",
      "execution_count": 6,
      "metadata": {
        "id": "ub5XKwbdAQ32"
      },
      "outputs": [],
      "source": [
        "from sklearn.model_selection import train_test_split\n",
        "X_train, X_test, Y_train, Y_test = train_test_split(\n",
        "    X, Y, test_size=0.3, random_state=2)"
      ]
    },
    {
      "cell_type": "markdown",
      "metadata": {
        "id": "P6CambWxdEwn"
      },
      "source": [
        "##Resnet"
      ]
    },
    {
      "cell_type": "code",
      "source": [
        "from keras.layers import Layer\n",
        "import keras.backend as K\n",
        "import torch.nn as nn"
      ],
      "metadata": {
        "id": "FlAI4R5nZPxD"
      },
      "execution_count": 7,
      "outputs": []
    },
    {
      "cell_type": "code",
      "source": [
        "def DiceMetric(y_true, y_pred):\n",
        "  smooth=1e-6 \n",
        "  gama=2\n",
        "  y_true, y_pred = tf.cast(\n",
        "      y_true, dtype=tf.float32), tf.cast(y_pred, tf.float32)\n",
        "  nominator = 2 * \\\n",
        "      tf.reduce_sum(tf.multiply(y_pred, y_true)) + smooth\n",
        "  denominator = tf.reduce_sum(\n",
        "      y_pred ** gama) + tf.reduce_sum(y_true ** gama) + smooth\n",
        "  result = tf.divide(nominator, denominator)\n",
        "  return result\n",
        "def DiceLoss(y_true, y_pred):\n",
        "      result= 1- DiceMetric(y_true, y_pred)\n",
        "      return result"
      ],
      "metadata": {
        "id": "Urgfb0zMWlz-"
      },
      "execution_count": 8,
      "outputs": []
    },
    {
      "cell_type": "code",
      "source": [
        "def conv_block(X,f,d=0.1,group=1):\n",
        "  c = tf.keras.layers.Conv2D(f[0], (2, 2), activation='relu', kernel_initializer='he_normal', padding='same',groups=group)(X)\n",
        "  c = tf.keras.layers.BatchNormalization(axis=3)(c)\n",
        "  c = tf.keras.layers.Dropout(d)(c)\n",
        "  c = tf.keras.layers.Conv2D(f[1], (2, 2), kernel_initializer='he_normal', padding='same', groups=group)(c)\n",
        "  c = tf.keras.layers.BatchNormalization(axis=3)(c)\n",
        "  s = tf.keras.layers.Conv2D(f[1], (2, 2), kernel_initializer='he_normal', padding='same')(X)\n",
        "  s = tf.keras.layers.BatchNormalization(axis=3)(s)\n",
        "  c = tf.keras.layers.Add()([c,s])\n",
        "  c = tf.keras.layers.ReLU()(c)\n",
        "  return c,s"
      ],
      "metadata": {
        "id": "MDQHBprOXZXG"
      },
      "execution_count": 9,
      "outputs": []
    },
    {
      "cell_type": "markdown",
      "source": [
        "Intentos fallidos de attention\n",
        "\n",
        "El problema es que hacerles muchas capas de neuronas, o hacerles muchos calculos de atencion, hace que se demore mas y se pierde precicion."
      ],
      "metadata": {
        "id": "MV5Ug-N_usjJ"
      }
    },
    {
      "cell_type": "code",
      "source": [
        "def attentionblock(Q,V):\n",
        "  v=tf.keras.layers.Dense(Q.shape[-1])(Q)\n",
        "  k=tf.keras.layers.Dense(Q.shape[-1])(Q)\n",
        "  q=tf.keras.layers.Dense(Q.shape[-1])(Q) \n",
        "  Q=tf.keras.layers.Attention()([q,v,k])\n",
        "  v=tf.keras.layers.Dense(V.shape[-1])(V)\n",
        "  k=tf.keras.layers.Dense(V.shape[-1])(V)\n",
        "  q=tf.keras.layers.Dense(V.shape[-1])(V) \n",
        "  V=tf.keras.layers.Attention()([q,v,k])\n",
        "  V = tf.keras.layers.Conv2DTranspose(Q.shape[-1], (2, 2), strides=(2, 2), padding='same')(V)\n",
        "  v=tf.keras.layers.Dense(Q.shape[-1])(V)\n",
        "  k=tf.keras.layers.Dense(Q.shape[-1])(Q)\n",
        "  q=tf.keras.layers.Dense(Q.shape[-1])(Q) \n",
        "  out=tf.keras.layers.Attention()([q,v,k])\n",
        "  return out\n"
      ],
      "metadata": {
        "id": "JIcOYohZOezi"
      },
      "execution_count": 52,
      "outputs": []
    },
    {
      "cell_type": "code",
      "source": [
        "def attentionblock(Q,V): \n",
        "  Q=tf.keras.layers.Attention()([Q,Q,Q])\n",
        "  V=tf.keras.layers.Attention()([V,V,V])\n",
        "  V = tf.keras.layers.Conv2DTranspose(Q.shape[-1], (2, 2), strides=(2, 2), padding='same')(V) \n",
        "  out=tf.keras.layers.Attention()([Q,V,V])\n",
        "  return out"
      ],
      "metadata": {
        "id": "j3G9_fgSdlsd"
      },
      "execution_count": 67,
      "outputs": []
    },
    {
      "cell_type": "markdown",
      "source": [
        "Bloque de atencion que funciono mejor"
      ],
      "metadata": {
        "id": "wQRG9euUu47T"
      }
    },
    {
      "cell_type": "code",
      "source": [
        "def attentionblock(Q,V): \n",
        "  V = tf.keras.layers.Conv2DTranspose(Q.shape[-1], (2, 2), strides=(2, 2), padding='same')(V) \n",
        "  out=tf.keras.layers.Attention()([Q,V,V])\n",
        "  return out"
      ],
      "metadata": {
        "id": "XW4JysTrfOv9"
      },
      "execution_count": 72,
      "outputs": []
    },
    {
      "cell_type": "code",
      "execution_count": 73,
      "metadata": {
        "colab": {
          "base_uri": "https://localhost:8080/"
        },
        "id": "GJgrBPxjiV-c",
        "outputId": "7f72dc2b-6f91-4a2f-c718-13aa88d8340b"
      },
      "outputs": [
        {
          "output_type": "stream",
          "name": "stdout",
          "text": [
            "Model: \"model_9\"\n",
            "__________________________________________________________________________________________________\n",
            " Layer (type)                   Output Shape         Param #     Connected to                     \n",
            "==================================================================================================\n",
            " input_27 (InputLayer)          [(None, 128, 128, 1  0           []                               \n",
            "                                )]                                                                \n",
            "                                                                                                  \n",
            " lambda_26 (Lambda)             (None, 128, 128, 1)  0           ['input_27[0][0]']               \n",
            "                                                                                                  \n",
            " conv2d_507 (Conv2D)            (None, 128, 128, 16  80          ['lambda_26[0][0]']              \n",
            "                                )                                                                 \n",
            "                                                                                                  \n",
            " batch_normalization_498 (Batch  (None, 128, 128, 16  64         ['conv2d_507[0][0]']             \n",
            " Normalization)                 )                                                                 \n",
            "                                                                                                  \n",
            " dropout_166 (Dropout)          (None, 128, 128, 16  0           ['batch_normalization_498[0][0]']\n",
            "                                )                                                                 \n",
            "                                                                                                  \n",
            " conv2d_508 (Conv2D)            (None, 128, 128, 16  1040        ['dropout_166[0][0]']            \n",
            "                                )                                                                 \n",
            "                                                                                                  \n",
            " conv2d_509 (Conv2D)            (None, 128, 128, 16  80          ['lambda_26[0][0]']              \n",
            "                                )                                                                 \n",
            "                                                                                                  \n",
            " batch_normalization_499 (Batch  (None, 128, 128, 16  64         ['conv2d_508[0][0]']             \n",
            " Normalization)                 )                                                                 \n",
            "                                                                                                  \n",
            " batch_normalization_500 (Batch  (None, 128, 128, 16  64         ['conv2d_509[0][0]']             \n",
            " Normalization)                 )                                                                 \n",
            "                                                                                                  \n",
            " add_166 (Add)                  (None, 128, 128, 16  0           ['batch_normalization_499[0][0]',\n",
            "                                )                                 'batch_normalization_500[0][0]']\n",
            "                                                                                                  \n",
            " re_lu_166 (ReLU)               (None, 128, 128, 16  0           ['add_166[0][0]']                \n",
            "                                )                                                                 \n",
            "                                                                                                  \n",
            " max_pooling2d_104 (MaxPooling2  (None, 64, 64, 16)  0           ['re_lu_166[0][0]']              \n",
            " D)                                                                                               \n",
            "                                                                                                  \n",
            " conv2d_510 (Conv2D)            (None, 64, 64, 32)   2080        ['max_pooling2d_104[0][0]']      \n",
            "                                                                                                  \n",
            " batch_normalization_501 (Batch  (None, 64, 64, 32)  128         ['conv2d_510[0][0]']             \n",
            " Normalization)                                                                                   \n",
            "                                                                                                  \n",
            " dropout_167 (Dropout)          (None, 64, 64, 32)   0           ['batch_normalization_501[0][0]']\n",
            "                                                                                                  \n",
            " conv2d_511 (Conv2D)            (None, 64, 64, 32)   4128        ['dropout_167[0][0]']            \n",
            "                                                                                                  \n",
            " conv2d_512 (Conv2D)            (None, 64, 64, 32)   2080        ['max_pooling2d_104[0][0]']      \n",
            "                                                                                                  \n",
            " batch_normalization_502 (Batch  (None, 64, 64, 32)  128         ['conv2d_511[0][0]']             \n",
            " Normalization)                                                                                   \n",
            "                                                                                                  \n",
            " batch_normalization_503 (Batch  (None, 64, 64, 32)  128         ['conv2d_512[0][0]']             \n",
            " Normalization)                                                                                   \n",
            "                                                                                                  \n",
            " add_167 (Add)                  (None, 64, 64, 32)   0           ['batch_normalization_502[0][0]',\n",
            "                                                                  'batch_normalization_503[0][0]']\n",
            "                                                                                                  \n",
            " re_lu_167 (ReLU)               (None, 64, 64, 32)   0           ['add_167[0][0]']                \n",
            "                                                                                                  \n",
            " max_pooling2d_105 (MaxPooling2  (None, 32, 32, 32)  0           ['re_lu_167[0][0]']              \n",
            " D)                                                                                               \n",
            "                                                                                                  \n",
            " conv2d_513 (Conv2D)            (None, 32, 32, 64)   8256        ['max_pooling2d_105[0][0]']      \n",
            "                                                                                                  \n",
            " batch_normalization_504 (Batch  (None, 32, 32, 64)  256         ['conv2d_513[0][0]']             \n",
            " Normalization)                                                                                   \n",
            "                                                                                                  \n",
            " dropout_168 (Dropout)          (None, 32, 32, 64)   0           ['batch_normalization_504[0][0]']\n",
            "                                                                                                  \n",
            " conv2d_514 (Conv2D)            (None, 32, 32, 64)   16448       ['dropout_168[0][0]']            \n",
            "                                                                                                  \n",
            " conv2d_515 (Conv2D)            (None, 32, 32, 64)   8256        ['max_pooling2d_105[0][0]']      \n",
            "                                                                                                  \n",
            " batch_normalization_505 (Batch  (None, 32, 32, 64)  256         ['conv2d_514[0][0]']             \n",
            " Normalization)                                                                                   \n",
            "                                                                                                  \n",
            " batch_normalization_506 (Batch  (None, 32, 32, 64)  256         ['conv2d_515[0][0]']             \n",
            " Normalization)                                                                                   \n",
            "                                                                                                  \n",
            " add_168 (Add)                  (None, 32, 32, 64)   0           ['batch_normalization_505[0][0]',\n",
            "                                                                  'batch_normalization_506[0][0]']\n",
            "                                                                                                  \n",
            " re_lu_168 (ReLU)               (None, 32, 32, 64)   0           ['add_168[0][0]']                \n",
            "                                                                                                  \n",
            " max_pooling2d_106 (MaxPooling2  (None, 16, 16, 64)  0           ['re_lu_168[0][0]']              \n",
            " D)                                                                                               \n",
            "                                                                                                  \n",
            " conv2d_516 (Conv2D)            (None, 16, 16, 128)  32896       ['max_pooling2d_106[0][0]']      \n",
            "                                                                                                  \n",
            " batch_normalization_507 (Batch  (None, 16, 16, 128)  512        ['conv2d_516[0][0]']             \n",
            " Normalization)                                                                                   \n",
            "                                                                                                  \n",
            " dropout_169 (Dropout)          (None, 16, 16, 128)  0           ['batch_normalization_507[0][0]']\n",
            "                                                                                                  \n",
            " conv2d_517 (Conv2D)            (None, 16, 16, 128)  65664       ['dropout_169[0][0]']            \n",
            "                                                                                                  \n",
            " conv2d_518 (Conv2D)            (None, 16, 16, 128)  32896       ['max_pooling2d_106[0][0]']      \n",
            "                                                                                                  \n",
            " batch_normalization_508 (Batch  (None, 16, 16, 128)  512        ['conv2d_517[0][0]']             \n",
            " Normalization)                                                                                   \n",
            "                                                                                                  \n",
            " batch_normalization_509 (Batch  (None, 16, 16, 128)  512        ['conv2d_518[0][0]']             \n",
            " Normalization)                                                                                   \n",
            "                                                                                                  \n",
            " add_169 (Add)                  (None, 16, 16, 128)  0           ['batch_normalization_508[0][0]',\n",
            "                                                                  'batch_normalization_509[0][0]']\n",
            "                                                                                                  \n",
            " re_lu_169 (ReLU)               (None, 16, 16, 128)  0           ['add_169[0][0]']                \n",
            "                                                                                                  \n",
            " max_pooling2d_107 (MaxPooling2  (None, 8, 8, 128)   0           ['re_lu_169[0][0]']              \n",
            " D)                                                                                               \n",
            "                                                                                                  \n",
            " conv2d_519 (Conv2D)            (None, 8, 8, 256)    131328      ['max_pooling2d_107[0][0]']      \n",
            "                                                                                                  \n",
            " batch_normalization_510 (Batch  (None, 8, 8, 256)   1024        ['conv2d_519[0][0]']             \n",
            " Normalization)                                                                                   \n",
            "                                                                                                  \n",
            " dropout_170 (Dropout)          (None, 8, 8, 256)    0           ['batch_normalization_510[0][0]']\n",
            "                                                                                                  \n",
            " conv2d_520 (Conv2D)            (None, 8, 8, 256)    262400      ['dropout_170[0][0]']            \n",
            "                                                                                                  \n",
            " conv2d_521 (Conv2D)            (None, 8, 8, 256)    131328      ['max_pooling2d_107[0][0]']      \n",
            "                                                                                                  \n",
            " batch_normalization_511 (Batch  (None, 8, 8, 256)   1024        ['conv2d_520[0][0]']             \n",
            " Normalization)                                                                                   \n",
            "                                                                                                  \n",
            " batch_normalization_512 (Batch  (None, 8, 8, 256)   1024        ['conv2d_521[0][0]']             \n",
            " Normalization)                                                                                   \n",
            "                                                                                                  \n",
            " add_170 (Add)                  (None, 8, 8, 256)    0           ['batch_normalization_511[0][0]',\n",
            "                                                                  'batch_normalization_512[0][0]']\n",
            "                                                                                                  \n",
            " re_lu_170 (ReLU)               (None, 8, 8, 256)    0           ['add_170[0][0]']                \n",
            "                                                                                                  \n",
            " conv2d_transpose_60 (Conv2DTra  (None, 16, 16, 128)  131200     ['batch_normalization_512[0][0]']\n",
            " nspose)                                                                                          \n",
            "                                                                                                  \n",
            " conv2d_transpose_61 (Conv2DTra  (None, 16, 16, 128)  131200     ['re_lu_170[0][0]']              \n",
            " nspose)                                                                                          \n",
            "                                                                                                  \n",
            " attention_70 (Attention)       (None, 16, 16, 128)  0           ['batch_normalization_509[0][0]',\n",
            "                                                                  'conv2d_transpose_60[0][0]',    \n",
            "                                                                  'conv2d_transpose_60[0][0]']    \n",
            "                                                                                                  \n",
            " concatenate_38 (Concatenate)   (None, 16, 16, 256)  0           ['conv2d_transpose_61[0][0]',    \n",
            "                                                                  'attention_70[0][0]']           \n",
            "                                                                                                  \n",
            " conv2d_522 (Conv2D)            (None, 16, 16, 128)  131200      ['concatenate_38[0][0]']         \n",
            "                                                                                                  \n",
            " batch_normalization_513 (Batch  (None, 16, 16, 128)  512        ['conv2d_522[0][0]']             \n",
            " Normalization)                                                                                   \n",
            "                                                                                                  \n",
            " dropout_171 (Dropout)          (None, 16, 16, 128)  0           ['batch_normalization_513[0][0]']\n",
            "                                                                                                  \n",
            " conv2d_523 (Conv2D)            (None, 16, 16, 128)  65664       ['dropout_171[0][0]']            \n",
            "                                                                                                  \n",
            " conv2d_524 (Conv2D)            (None, 16, 16, 128)  131200      ['concatenate_38[0][0]']         \n",
            "                                                                                                  \n",
            " batch_normalization_514 (Batch  (None, 16, 16, 128)  512        ['conv2d_523[0][0]']             \n",
            " Normalization)                                                                                   \n",
            "                                                                                                  \n",
            " batch_normalization_515 (Batch  (None, 16, 16, 128)  512        ['conv2d_524[0][0]']             \n",
            " Normalization)                                                                                   \n",
            "                                                                                                  \n",
            " add_171 (Add)                  (None, 16, 16, 128)  0           ['batch_normalization_514[0][0]',\n",
            "                                                                  'batch_normalization_515[0][0]']\n",
            "                                                                                                  \n",
            " re_lu_171 (ReLU)               (None, 16, 16, 128)  0           ['add_171[0][0]']                \n",
            "                                                                                                  \n",
            " conv2d_transpose_62 (Conv2DTra  (None, 32, 32, 64)  32832       ['batch_normalization_515[0][0]']\n",
            " nspose)                                                                                          \n",
            "                                                                                                  \n",
            " conv2d_transpose_63 (Conv2DTra  (None, 32, 32, 64)  32832       ['re_lu_171[0][0]']              \n",
            " nspose)                                                                                          \n",
            "                                                                                                  \n",
            " attention_71 (Attention)       (None, 32, 32, 64)   0           ['batch_normalization_506[0][0]',\n",
            "                                                                  'conv2d_transpose_62[0][0]',    \n",
            "                                                                  'conv2d_transpose_62[0][0]']    \n",
            "                                                                                                  \n",
            " concatenate_39 (Concatenate)   (None, 32, 32, 128)  0           ['conv2d_transpose_63[0][0]',    \n",
            "                                                                  'attention_71[0][0]']           \n",
            "                                                                                                  \n",
            " conv2d_525 (Conv2D)            (None, 32, 32, 64)   32832       ['concatenate_39[0][0]']         \n",
            "                                                                                                  \n",
            " batch_normalization_516 (Batch  (None, 32, 32, 64)  256         ['conv2d_525[0][0]']             \n",
            " Normalization)                                                                                   \n",
            "                                                                                                  \n",
            " dropout_172 (Dropout)          (None, 32, 32, 64)   0           ['batch_normalization_516[0][0]']\n",
            "                                                                                                  \n",
            " conv2d_526 (Conv2D)            (None, 32, 32, 64)   16448       ['dropout_172[0][0]']            \n",
            "                                                                                                  \n",
            " conv2d_527 (Conv2D)            (None, 32, 32, 64)   32832       ['concatenate_39[0][0]']         \n",
            "                                                                                                  \n",
            " batch_normalization_517 (Batch  (None, 32, 32, 64)  256         ['conv2d_526[0][0]']             \n",
            " Normalization)                                                                                   \n",
            "                                                                                                  \n",
            " batch_normalization_518 (Batch  (None, 32, 32, 64)  256         ['conv2d_527[0][0]']             \n",
            " Normalization)                                                                                   \n",
            "                                                                                                  \n",
            " add_172 (Add)                  (None, 32, 32, 64)   0           ['batch_normalization_517[0][0]',\n",
            "                                                                  'batch_normalization_518[0][0]']\n",
            "                                                                                                  \n",
            " re_lu_172 (ReLU)               (None, 32, 32, 64)   0           ['add_172[0][0]']                \n",
            "                                                                                                  \n",
            " conv2d_transpose_64 (Conv2DTra  (None, 64, 64, 32)  8224        ['batch_normalization_518[0][0]']\n",
            " nspose)                                                                                          \n",
            "                                                                                                  \n",
            " conv2d_transpose_65 (Conv2DTra  (None, 64, 64, 32)  8224        ['re_lu_172[0][0]']              \n",
            " nspose)                                                                                          \n",
            "                                                                                                  \n",
            " attention_72 (Attention)       (None, 64, 64, 32)   0           ['batch_normalization_503[0][0]',\n",
            "                                                                  'conv2d_transpose_64[0][0]',    \n",
            "                                                                  'conv2d_transpose_64[0][0]']    \n",
            "                                                                                                  \n",
            " concatenate_40 (Concatenate)   (None, 64, 64, 64)   0           ['conv2d_transpose_65[0][0]',    \n",
            "                                                                  'attention_72[0][0]']           \n",
            "                                                                                                  \n",
            " conv2d_528 (Conv2D)            (None, 64, 64, 32)   8224        ['concatenate_40[0][0]']         \n",
            "                                                                                                  \n",
            " batch_normalization_519 (Batch  (None, 64, 64, 32)  128         ['conv2d_528[0][0]']             \n",
            " Normalization)                                                                                   \n",
            "                                                                                                  \n",
            " dropout_173 (Dropout)          (None, 64, 64, 32)   0           ['batch_normalization_519[0][0]']\n",
            "                                                                                                  \n",
            " conv2d_529 (Conv2D)            (None, 64, 64, 32)   4128        ['dropout_173[0][0]']            \n",
            "                                                                                                  \n",
            " conv2d_530 (Conv2D)            (None, 64, 64, 32)   8224        ['concatenate_40[0][0]']         \n",
            "                                                                                                  \n",
            " batch_normalization_520 (Batch  (None, 64, 64, 32)  128         ['conv2d_529[0][0]']             \n",
            " Normalization)                                                                                   \n",
            "                                                                                                  \n",
            " batch_normalization_521 (Batch  (None, 64, 64, 32)  128         ['conv2d_530[0][0]']             \n",
            " Normalization)                                                                                   \n",
            "                                                                                                  \n",
            " add_173 (Add)                  (None, 64, 64, 32)   0           ['batch_normalization_520[0][0]',\n",
            "                                                                  'batch_normalization_521[0][0]']\n",
            "                                                                                                  \n",
            " re_lu_173 (ReLU)               (None, 64, 64, 32)   0           ['add_173[0][0]']                \n",
            "                                                                                                  \n",
            " conv2d_transpose_66 (Conv2DTra  (None, 128, 128, 16  2064       ['batch_normalization_521[0][0]']\n",
            " nspose)                        )                                                                 \n",
            "                                                                                                  \n",
            " conv2d_transpose_67 (Conv2DTra  (None, 128, 128, 16  2064       ['re_lu_173[0][0]']              \n",
            " nspose)                        )                                                                 \n",
            "                                                                                                  \n",
            " attention_73 (Attention)       (None, 128, 128, 16  0           ['batch_normalization_500[0][0]',\n",
            "                                )                                 'conv2d_transpose_66[0][0]',    \n",
            "                                                                  'conv2d_transpose_66[0][0]']    \n",
            "                                                                                                  \n",
            " concatenate_41 (Concatenate)   (None, 128, 128, 32  0           ['conv2d_transpose_67[0][0]',    \n",
            "                                )                                 'attention_73[0][0]']           \n",
            "                                                                                                  \n",
            " conv2d_531 (Conv2D)            (None, 128, 128, 16  2064        ['concatenate_41[0][0]']         \n",
            "                                )                                                                 \n",
            "                                                                                                  \n",
            " batch_normalization_522 (Batch  (None, 128, 128, 16  64         ['conv2d_531[0][0]']             \n",
            " Normalization)                 )                                                                 \n",
            "                                                                                                  \n",
            " dropout_174 (Dropout)          (None, 128, 128, 16  0           ['batch_normalization_522[0][0]']\n",
            "                                )                                                                 \n",
            "                                                                                                  \n",
            " conv2d_532 (Conv2D)            (None, 128, 128, 16  1040        ['dropout_174[0][0]']            \n",
            "                                )                                                                 \n",
            "                                                                                                  \n",
            " conv2d_533 (Conv2D)            (None, 128, 128, 16  2064        ['concatenate_41[0][0]']         \n",
            "                                )                                                                 \n",
            "                                                                                                  \n",
            " batch_normalization_523 (Batch  (None, 128, 128, 16  64         ['conv2d_532[0][0]']             \n",
            " Normalization)                 )                                                                 \n",
            "                                                                                                  \n",
            " batch_normalization_524 (Batch  (None, 128, 128, 16  64         ['conv2d_533[0][0]']             \n",
            " Normalization)                 )                                                                 \n",
            "                                                                                                  \n",
            " add_174 (Add)                  (None, 128, 128, 16  0           ['batch_normalization_523[0][0]',\n",
            "                                )                                 'batch_normalization_524[0][0]']\n",
            "                                                                                                  \n",
            " re_lu_174 (ReLU)               (None, 128, 128, 16  0           ['add_174[0][0]']                \n",
            "                                )                                                                 \n",
            "                                                                                                  \n",
            " conv2d_534 (Conv2D)            (None, 128, 128, 1)  17          ['re_lu_174[0][0]']              \n",
            "                                                                                                  \n",
            "==================================================================================================\n",
            "Total params: 1,492,369\n",
            "Trainable params: 1,487,953\n",
            "Non-trainable params: 4,416\n",
            "__________________________________________________________________________________________________\n"
          ]
        }
      ],
      "source": [
        "import tensorflow as tf\n",
        "\n",
        "IMG_WIDTH = 128\n",
        "IMG_HEIGHT = 128\n",
        "IMG_CHANNELS = 1\n",
        "nheads=16\n",
        "\n",
        "#Build the model\n",
        "inputs = tf.keras.layers.Input((IMG_HEIGHT, IMG_WIDTH, IMG_CHANNELS))\n",
        "s = tf.keras.layers.Lambda(lambda x: x / 255)(inputs)\n",
        "#s= inputs\n",
        "#Contraction path\n",
        "c1,z1 = conv_block(s,[16,16])\n",
        "p1 = tf.keras.layers.MaxPooling2D((2, 2))(c1)\n",
        "\n",
        "\n",
        "c2,z2 = conv_block(p1,[32,32])\n",
        "p2 = tf.keras.layers.MaxPooling2D((2, 2))(c2)\n",
        "\n",
        "c3,z3 = conv_block(p2,[64,64],0.2)\n",
        "p3 = tf.keras.layers.MaxPooling2D((2, 2))(c3)\n",
        " \n",
        "c4,z4 = conv_block(p3,[128,128],0.2)\n",
        "p4 = tf.keras.layers.MaxPooling2D(pool_size=(2, 2))(c4)\n",
        " \n",
        "c5,z5 = conv_block(p4,[256,256],0.3)\n",
        "\n",
        "#Expansive path \n",
        "m1=attentionblock(z4,z5)\n",
        "u6 = tf.keras.layers.Conv2DTranspose(128, (2, 2), strides=(2, 2), padding='same')(c5)\n",
        "u6 = tf.keras.layers.concatenate([u6, m1])\n",
        "c6,z6 = conv_block(u6,[128,128],0.2)\n",
        "\n",
        "m2=attentionblock(z3,z6)\n",
        "u7 = tf.keras.layers.Conv2DTranspose(64, (2, 2), strides=(2, 2), padding='same')(c6)\n",
        "u7 = tf.keras.layers.concatenate([u7, m2])\n",
        "c7,z7 = conv_block(u7,[64,64],0.2)\n",
        "\n",
        "m3=attentionblock(z2,z7)\n",
        "u8 = tf.keras.layers.Conv2DTranspose(32, (2, 2), strides=(2, 2), padding='same')(c7)\n",
        "u8 = tf.keras.layers.concatenate([u8, m3])\n",
        "c8,z8 = conv_block(u8,[32,32])\n",
        "\n",
        "m4=attentionblock(z1,z8) \n",
        "u9 = tf.keras.layers.Conv2DTranspose(16, (2, 2), strides=(2, 2), padding='same')(c8)\n",
        "u9 = tf.keras.layers.concatenate([u9, m4], axis=3)\n",
        "c9,_ = conv_block(u9,[16,16])\n",
        " \n",
        "outputs = tf.keras.layers.Conv2D(1, (1, 1), activation='sigmoid')(c9)\n",
        " \n",
        "model = tf.keras.Model(inputs=[inputs], outputs=[outputs])\n",
        "model.compile(optimizer='adam', loss='binary_crossentropy', metrics=['accuracy',DiceMetric])\n",
        "model.summary()"
      ]
    },
    {
      "cell_type": "markdown",
      "metadata": {
        "id": "4JFyLMRezeWO"
      },
      "source": [
        "##Model Fit"
      ]
    },
    {
      "cell_type": "code",
      "execution_count": 74,
      "metadata": {
        "colab": {
          "base_uri": "https://localhost:8080/"
        },
        "id": "kCB8atJ1zda4",
        "outputId": "93f1a4d0-21f4-4673-fdfc-3bbcc2c2cd1a"
      },
      "outputs": [
        {
          "output_type": "stream",
          "name": "stdout",
          "text": [
            "Epoch 1/25\n",
            "99/99 [==============================] - 12s 86ms/step - loss: 0.2117 - accuracy: 0.9600 - DiceMetric: 0.1085 - val_loss: 0.1421 - val_accuracy: 0.9855 - val_DiceMetric: 0.0977\n",
            "Epoch 2/25\n",
            "99/99 [==============================] - 8s 78ms/step - loss: 0.0697 - accuracy: 0.9871 - DiceMetric: 0.2143 - val_loss: 0.0735 - val_accuracy: 0.9855 - val_DiceMetric: 0.0782\n",
            "Epoch 3/25\n",
            "99/99 [==============================] - 8s 78ms/step - loss: 0.0411 - accuracy: 0.9878 - DiceMetric: 0.4494 - val_loss: 0.0578 - val_accuracy: 0.9855 - val_DiceMetric: 0.0462\n",
            "Epoch 4/25\n",
            "99/99 [==============================] - 8s 78ms/step - loss: 0.0283 - accuracy: 0.9882 - DiceMetric: 0.6081 - val_loss: 0.0486 - val_accuracy: 0.9855 - val_DiceMetric: 0.0638\n",
            "Epoch 5/25\n",
            "99/99 [==============================] - 8s 78ms/step - loss: 0.0216 - accuracy: 0.9884 - DiceMetric: 0.7063 - val_loss: 0.0380 - val_accuracy: 0.9857 - val_DiceMetric: 0.2433\n",
            "Epoch 6/25\n",
            "99/99 [==============================] - 8s 78ms/step - loss: 0.0176 - accuracy: 0.9886 - DiceMetric: 0.7681 - val_loss: 0.0238 - val_accuracy: 0.9869 - val_DiceMetric: 0.6286\n",
            "Epoch 7/25\n",
            "99/99 [==============================] - 8s 78ms/step - loss: 0.0150 - accuracy: 0.9888 - DiceMetric: 0.8014 - val_loss: 0.0211 - val_accuracy: 0.9867 - val_DiceMetric: 0.7034\n",
            "Epoch 8/25\n",
            "99/99 [==============================] - 8s 78ms/step - loss: 0.0137 - accuracy: 0.9888 - DiceMetric: 0.8151 - val_loss: 0.0152 - val_accuracy: 0.9871 - val_DiceMetric: 0.8149\n",
            "Epoch 9/25\n",
            "99/99 [==============================] - 8s 78ms/step - loss: 0.0124 - accuracy: 0.9889 - DiceMetric: 0.8342 - val_loss: 0.0149 - val_accuracy: 0.9873 - val_DiceMetric: 0.8048\n",
            "Epoch 10/25\n",
            "99/99 [==============================] - 8s 79ms/step - loss: 0.0112 - accuracy: 0.9890 - DiceMetric: 0.8528 - val_loss: 0.0141 - val_accuracy: 0.9872 - val_DiceMetric: 0.8316\n",
            "Epoch 11/25\n",
            "99/99 [==============================] - 8s 78ms/step - loss: 0.0106 - accuracy: 0.9890 - DiceMetric: 0.8555 - val_loss: 0.0140 - val_accuracy: 0.9868 - val_DiceMetric: 0.8431\n",
            "Epoch 12/25\n",
            "99/99 [==============================] - 8s 78ms/step - loss: 0.0100 - accuracy: 0.9891 - DiceMetric: 0.8658 - val_loss: 0.0121 - val_accuracy: 0.9874 - val_DiceMetric: 0.8560\n",
            "Epoch 13/25\n",
            "99/99 [==============================] - 8s 78ms/step - loss: 0.0095 - accuracy: 0.9891 - DiceMetric: 0.8745 - val_loss: 0.0122 - val_accuracy: 0.9872 - val_DiceMetric: 0.8578\n",
            "Epoch 14/25\n",
            "99/99 [==============================] - 8s 78ms/step - loss: 0.0092 - accuracy: 0.9891 - DiceMetric: 0.8793 - val_loss: 0.0113 - val_accuracy: 0.9875 - val_DiceMetric: 0.8651\n",
            "Epoch 15/25\n",
            "99/99 [==============================] - 8s 78ms/step - loss: 0.0088 - accuracy: 0.9892 - DiceMetric: 0.8829 - val_loss: 0.0113 - val_accuracy: 0.9878 - val_DiceMetric: 0.8457\n",
            "Epoch 16/25\n",
            "99/99 [==============================] - 8s 78ms/step - loss: 0.0088 - accuracy: 0.9892 - DiceMetric: 0.8825 - val_loss: 0.0116 - val_accuracy: 0.9875 - val_DiceMetric: 0.8576\n",
            "Epoch 17/25\n",
            "99/99 [==============================] - 8s 80ms/step - loss: 0.0086 - accuracy: 0.9892 - DiceMetric: 0.8866 - val_loss: 0.0116 - val_accuracy: 0.9879 - val_DiceMetric: 0.8441\n",
            "Epoch 18/25\n",
            "99/99 [==============================] - 8s 79ms/step - loss: 0.0084 - accuracy: 0.9892 - DiceMetric: 0.8899 - val_loss: 0.0102 - val_accuracy: 0.9878 - val_DiceMetric: 0.8724\n",
            "Epoch 19/25\n",
            "99/99 [==============================] - 8s 78ms/step - loss: 0.0079 - accuracy: 0.9893 - DiceMetric: 0.8990 - val_loss: 0.0098 - val_accuracy: 0.9879 - val_DiceMetric: 0.8779\n",
            "Epoch 20/25\n",
            "99/99 [==============================] - 8s 79ms/step - loss: 0.0080 - accuracy: 0.9892 - DiceMetric: 0.8957 - val_loss: 0.0108 - val_accuracy: 0.9875 - val_DiceMetric: 0.8647\n",
            "Epoch 21/25\n",
            "99/99 [==============================] - 8s 78ms/step - loss: 0.0077 - accuracy: 0.9893 - DiceMetric: 0.9001 - val_loss: 0.0092 - val_accuracy: 0.9879 - val_DiceMetric: 0.8891\n",
            "Epoch 22/25\n",
            "99/99 [==============================] - 8s 79ms/step - loss: 0.0074 - accuracy: 0.9893 - DiceMetric: 0.9081 - val_loss: 0.0099 - val_accuracy: 0.9877 - val_DiceMetric: 0.8802\n",
            "Epoch 23/25\n",
            "99/99 [==============================] - 8s 78ms/step - loss: 0.0076 - accuracy: 0.9893 - DiceMetric: 0.9018 - val_loss: 0.0100 - val_accuracy: 0.9879 - val_DiceMetric: 0.8721\n",
            "Epoch 24/25\n",
            "99/99 [==============================] - 8s 78ms/step - loss: 0.0073 - accuracy: 0.9893 - DiceMetric: 0.9075 - val_loss: 0.0092 - val_accuracy: 0.9879 - val_DiceMetric: 0.8903\n",
            "Epoch 25/25\n",
            "99/99 [==============================] - 8s 79ms/step - loss: 0.0071 - accuracy: 0.9893 - DiceMetric: 0.9136 - val_loss: 0.0091 - val_accuracy: 0.9880 - val_DiceMetric: 0.8896\n"
          ]
        },
        {
          "output_type": "execute_result",
          "data": {
            "text/plain": [
              "<keras.callbacks.History at 0x7fd01b4686d0>"
            ]
          },
          "metadata": {},
          "execution_count": 74
        }
      ],
      "source": [
        "model.fit(X_train,Y_train,batch_size=20,epochs=25,validation_split=0.2)"
      ]
    },
    {
      "cell_type": "code",
      "execution_count": 77,
      "metadata": {
        "id": "b0yz227RzmyI",
        "colab": {
          "base_uri": "https://localhost:8080/"
        },
        "outputId": "8f03beea-92b9-4209-a4a4-9bd55060843f"
      },
      "outputs": [
        {
          "output_type": "stream",
          "name": "stdout",
          "text": [
            "Score for fold 0: loss of 0.007760524749755859; accuracy of 98.95282983779907% DiceMetric of 89.5677924156189%\n",
            "['loss', 'accuracy', 'DiceMetric']\n"
          ]
        }
      ],
      "source": [
        "scores= model.evaluate(X_test, Y_test, verbose=0)\n",
        "print(f'Score for fold {0}: {model.metrics_names[0]} of {scores[0]}; {model.metrics_names[1]} of {scores[1]*100}% {model.metrics_names[2]} of {scores[2]*100}%')\n",
        "print(model.metrics_names)"
      ]
    },
    {
      "cell_type": "code",
      "source": [
        "print(model.metrics_names)"
      ],
      "metadata": {
        "id": "oud92q0zgO7x"
      },
      "execution_count": null,
      "outputs": []
    },
    {
      "cell_type": "markdown",
      "metadata": {
        "id": "jFP-3gQ9BO8f"
      },
      "source": [
        "##Testing"
      ]
    },
    {
      "cell_type": "code",
      "execution_count": 75,
      "metadata": {
        "id": "5P0-RG0wjzA6"
      },
      "outputs": [],
      "source": [
        "Ypred=model.predict(X_test)"
      ]
    },
    {
      "cell_type": "code",
      "execution_count": 76,
      "metadata": {
        "id": "J1ra2EoVycvl",
        "colab": {
          "base_uri": "https://localhost:8080/",
          "height": 518
        },
        "outputId": "38904fb5-0e9f-4fb0-e47b-efaaefb1c4d0"
      },
      "outputs": [
        {
          "output_type": "display_data",
          "data": {
            "text/plain": [
              "<Figure size 432x288 with 1 Axes>"
            ],
            "image/png": "[encoded data removed]"
          },
          "metadata": {
            "needs_background": "light"
          }
        },
        {
          "output_type": "display_data",
          "data": {
            "text/plain": [
              "<Figure size 432x288 with 1 Axes>"
            ],
            "image/png": "[encoded data removed]"
          },
          "metadata": {
            "needs_background": "light"
          }
        }
      ],
      "source": [
        "plt.imshow(np.reshape(Ypred[160],(128,128)), cmap=plt.cm.gray)\n",
        "plt.show()\n",
        "plt.imshow(np.reshape(Y_test[160],(128,128)), cmap=plt.cm.gray)\n",
        "plt.show()"
      ]
    },
    {
      "cell_type": "code",
      "execution_count": 78,
      "metadata": {
        "id": "ikB_eI_ZmVtq"
      },
      "outputs": [],
      "source": [
        "def dice(true_mask, pred_mask):\n",
        "    \"\"\"\n",
        "        Computes the Dice coefficient.\n",
        "        Args:\n",
        "            true_mask : Array of arbitrary shape.\n",
        "            pred_mask : Array with the same shape than true_mask.  \n",
        "        \n",
        "        Returns:\n",
        "            A scalar representing the Dice coefficient between the two segmentations. \n",
        "        \n",
        "    \"\"\"\n",
        "    non_seg_score=1.0\n",
        "    if type(pred_mask) != np.ndarray:\n",
        "      t = torch.Tensor([0.5])\n",
        "      pred_mask=(pred_mask > t)\n",
        "    else:\n",
        "      pred_mask[pred_mask>=0.5]=1\n",
        "      pred_mask[pred_mask<0.5]=0\n",
        "\n",
        "    # If both segmentations are all zero, the dice will be 1. (Developer decision)\n",
        "    im_sum = true_mask.sum() + pred_mask.sum()\n",
        "    if im_sum == 0:\n",
        "        return non_seg_score\n",
        "\n",
        "    # Compute Dice coefficient\n",
        "    intersection = np.logical_and(true_mask, pred_mask)\n",
        "    return 2. * intersection.sum() / im_sum"
      ]
    },
    {
      "cell_type": "code",
      "execution_count": 79,
      "metadata": {
        "colab": {
          "base_uri": "https://localhost:8080/"
        },
        "id": "beBVFzRQmXI-",
        "outputId": "ff7ece72-2c55-4971-bd61-4eaef21916c0"
      },
      "outputs": [
        {
          "output_type": "execute_result",
          "data": {
            "text/plain": [
              "0.9644930416996391"
            ]
          },
          "metadata": {},
          "execution_count": 79
        }
      ],
      "source": [
        "diceaux=dice(Y_test[160],Ypred[160])\n",
        "diceaux"
      ]
    },
    {
      "cell_type": "markdown",
      "metadata": {
        "id": "lc2Sj8PPuJBv"
      },
      "source": [
        "## Model Fit Kfold"
      ]
    },
    {
      "cell_type": "code",
      "execution_count": 81,
      "metadata": {
        "id": "Fh7g3mmhuNPV"
      },
      "outputs": [],
      "source": [
        "from sklearn.model_selection import train_test_split\n",
        "from sklearn.model_selection import KFold\n",
        "from sklearn.model_selection import cross_val_score\n",
        "from numpy import mean\n",
        "from numpy import absolute\n",
        "from numpy import sqrt\n",
        "import pandas as pd"
      ]
    },
    {
      "cell_type": "code",
      "execution_count": 82,
      "metadata": {
        "id": "kj7ESdJAuOaW"
      },
      "outputs": [],
      "source": [
        "cv = KFold(n_splits=5, random_state=1, shuffle=True)"
      ]
    },
    {
      "cell_type": "markdown",
      "source": [
        "25 epochs"
      ],
      "metadata": {
        "id": "erWVgdGfhXKu"
      }
    },
    {
      "cell_type": "code",
      "execution_count": 83,
      "metadata": {
        "colab": {
          "base_uri": "https://localhost:8080/"
        },
        "id": "D7gaF3LTvOU-",
        "outputId": "ad5e1ee5-aa54-4157-f0a4-dca106c3c200"
      },
      "outputs": [
        {
          "output_type": "stream",
          "name": "stdout",
          "text": [
            "Score for fold 1: loss of 0.015375291928648949; accuracy of 98.92076849937439% DiceMetric of 85.06117463111877%\n",
            "Score for fold 2: loss of 0.0173810888081789; accuracy of 98.82116317749023% DiceMetric of 86.53574585914612%\n",
            "Score for fold 3: loss of 0.029940396547317505; accuracy of 98.86179566383362% DiceMetric of 80.37702441215515%\n",
            "Score for fold 4: loss of 0.021816927939653397; accuracy of 98.8555908203125% DiceMetric of 80.62856793403625%\n",
            "Score for fold 5: loss of 0.02643907628953457; accuracy of 98.90596866607666% DiceMetric of 81.0717225074768%\n"
          ]
        }
      ],
      "source": [
        "VALIDATION_ACCURACY = []\n",
        "VALIDAITON_LOSS = []\n",
        "nfold=1\n",
        "for train_index, val_index in cv.split(X,Y):\n",
        "  model = tf.keras.Model(inputs=[inputs], outputs=[outputs])\n",
        "  model.compile(optimizer='adam', loss='binary_crossentropy', metrics=['accuracy',DiceMetric])\n",
        "\n",
        "  X_fold=X[train_index,:,:]\n",
        "  Y_fold=Y[train_index,:,:]\n",
        "  \n",
        "  model.fit(X_fold,Y_fold,batch_size=16,epochs=25,validation_split=0.2,verbose=0)\n",
        "\n",
        "  Xtest_fold=X[val_index,:,:]\n",
        "  Ytest_fold=Y[val_index,:,:]\n",
        "  scores= model.evaluate(Xtest_fold, Ytest_fold, verbose=0)\n",
        "  print(f'Score for fold {nfold}: {model.metrics_names[0]} of {scores[0]}; {model.metrics_names[1]} of {scores[1]*100}% {model.metrics_names[2]} of {scores[2]*100}%')\n",
        "  nfold+=1"
      ]
    },
    {
      "cell_type": "markdown",
      "source": [
        "50 epochs"
      ],
      "metadata": {
        "id": "uOWim3VxhZsj"
      }
    },
    {
      "cell_type": "code",
      "source": [
        "VALIDATION_ACCURACY = []\n",
        "VALIDAITON_LOSS = []\n",
        "nfold=1\n",
        "for train_index, val_index in cv.split(X,Y):\n",
        "  model = tf.keras.Model(inputs=[inputs], outputs=[outputs])\n",
        "  model.compile(optimizer='adam', loss='binary_crossentropy', metrics=['accuracy',DiceMetric])\n",
        "\n",
        "  X_fold=X[train_index,:,:]\n",
        "  Y_fold=Y[train_index,:,:]\n",
        "  \n",
        "  model.fit(X_fold,Y_fold,batch_size=16,epochs=50,validation_split=0.2,verbose=0)\n",
        "\n",
        "  Xtest_fold=X[val_index,:,:]\n",
        "  Ytest_fold=Y[val_index,:,:]\n",
        "  scores= model.evaluate(Xtest_fold, Ytest_fold, verbose=0)\n",
        "  print(f'Score for fold {nfold}: {model.metrics_names[0]} of {scores[0]}; {model.metrics_names[1]} of {scores[1]*100}% {model.metrics_names[2]} of {scores[2]*100}%')\n",
        "  nfold+=1"
      ],
      "metadata": {
        "colab": {
          "base_uri": "https://localhost:8080/"
        },
        "id": "QN7om-UlhbP9",
        "outputId": "8107afdc-6668-4c3b-8463-e458f5237e9e"
      },
      "execution_count": 84,
      "outputs": [
        {
          "output_type": "stream",
          "name": "stdout",
          "text": [
            "Score for fold 1: loss of 0.026712991297245026; accuracy of 98.92278909683228% DiceMetric of 85.75470447540283%\n",
            "Score for fold 2: loss of 0.03414676710963249; accuracy of 98.79527688026428% DiceMetric of 84.62190628051758%\n",
            "Score for fold 3: loss of 0.030036412179470062; accuracy of 98.86870980262756% DiceMetric of 83.15788507461548%\n",
            "Score for fold 4: loss of 0.030506402254104614; accuracy of 98.86631369590759% DiceMetric of 85.55557131767273%\n",
            "Score for fold 5: loss of 0.030434055253863335; accuracy of 98.91023635864258% DiceMetric of 82.77513980865479%\n"
          ]
        }
      ]
    }
  ],
  "metadata": {
    "accelerator": "GPU",
    "colab": {
      "name": "Attention Resnet SDP Attention.ipynb",
      "provenance": [],
      "authorship_tag": "ABX9TyO87lDAD13vi6STlkEIVs6N",
      "include_colab_link": true
    },
    "gpuClass": "standard",
    "kernelspec": {
      "display_name": "Python 3",
      "name": "python3"
    },
    "language_info": {
      "name": "python"
    }
  },
  "nbformat": 4,
  "nbformat_minor": 0
}