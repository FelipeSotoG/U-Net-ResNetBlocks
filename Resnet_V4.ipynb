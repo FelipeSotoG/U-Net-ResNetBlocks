{
  "cells": [
    {
      "cell_type": "markdown",
      "metadata": {
        "id": "view-in-github",
        "colab_type": "text"
      },
      "source": [
        "<a href=\"https://colab.research.google.com/github/FelipeSotoG/U-Net-ResNetBlocks/blob/main/Resnet_V4.ipynb\" target=\"_parent\"><img src=\"https://colab.research.google.com/assets/colab-badge.svg\" alt=\"Open In Colab\"/></a>"
      ]
    },
    {
      "cell_type": "markdown",
      "metadata": {
        "id": "FcH2AvTh97gF"
      },
      "source": [
        "##Descarga datos\n",
        "Los datos se encuentran en el drive, por lo que usara gdown para sacarlos directamente y no tener que hacer la coneccion, ya que estamos descargando un zip."
      ]
    },
    {
      "cell_type": "code",
      "execution_count": 1,
      "metadata": {
        "colab": {
          "base_uri": "https://localhost:8080/"
        },
        "id": "t7GLXIiagwH3",
        "outputId": "73cff789-0c0a-4cd4-be6f-f973c1998b79"
      },
      "outputs": [
        {
          "output_type": "stream",
          "name": "stdout",
          "text": [
            "Downloading...\n",
            "From: https://drive.google.com/uc?id=1f3hc0IdnyN60NjGoPO9Za9Vnmj9pk3zt\n",
            "To: /content/input.zip\n",
            "100% 597M/597M [00:08<00:00, 74.4MB/s]\n"
          ]
        }
      ],
      "source": [
        "!gdown https://drive.google.com/uc?id=1f3hc0IdnyN60NjGoPO9Za9Vnmj9pk3zt"
      ]
    },
    {
      "cell_type": "code",
      "execution_count": 2,
      "metadata": {
        "id": "uq8I6BfRhogZ"
      },
      "outputs": [],
      "source": [
        "!unzip -q input.zip"
      ]
    },
    {
      "cell_type": "code",
      "execution_count": 3,
      "metadata": {
        "id": "H9Y2Q3Bce47L"
      },
      "outputs": [],
      "source": [
        "IMG_WIDTH = 128\n",
        "IMG_HEIGHT = 128\n",
        "IMG_CHANNELS = 1"
      ]
    },
    {
      "cell_type": "code",
      "execution_count": 4,
      "metadata": {
        "id": "_jqAPlaMKtpg"
      },
      "outputs": [],
      "source": [
        "import nibabel as nib\n",
        "import os\n",
        "import numpy as np\n",
        "from nibabel.testing import data_path\n",
        "import matplotlib.pyplot as plt\n",
        "import cv2\n",
        "import torch"
      ]
    },
    {
      "cell_type": "code",
      "execution_count": 5,
      "metadata": {
        "id": "hmJoArAEd41C"
      },
      "outputs": [],
      "source": [
        "import imageio as iio\n",
        "import glob\n",
        "from skimage.transform import resize\n",
        "src=\"/content/input/train\"\n",
        "imag=\"/images/\"\n",
        "X=np.zeros((len(glob.glob(src+imag+\"*.png\")),IMG_WIDTH,IMG_HEIGHT,1))\n",
        "for i,x in enumerate(sorted(glob.glob(src+imag+\"*.png\"))):\n",
        "  X[i]=resize(iio.imread(x),(IMG_WIDTH,IMG_HEIGHT,1),mode=\"constant\",preserve_range=True)\n",
        "mas=\"/masks/\"\n",
        "Y=np.zeros((len(glob.glob(src+mas+\"*.png\")),IMG_WIDTH,IMG_HEIGHT,1))\n",
        "for i,x in enumerate(sorted(glob.glob(src+mas+\"*.png\"))):\n",
        "  Y[i]=resize(iio.imread(x),(IMG_WIDTH,IMG_HEIGHT,1),mode=\"constant\",preserve_range=True)/255"
      ]
    },
    {
      "cell_type": "markdown",
      "source": [
        "##Borrar directorio /input en caso de error"
      ],
      "metadata": {
        "id": "3NcX5DC3VvAR"
      }
    },
    {
      "cell_type": "code",
      "source": [
        "!rm -r /content/input"
      ],
      "metadata": {
        "id": "-QywVJIaZjHC"
      },
      "execution_count": null,
      "outputs": []
    },
    {
      "cell_type": "markdown",
      "metadata": {
        "id": "L6IAoTKTuO5B"
      },
      "source": [
        "##Train Test Split"
      ]
    },
    {
      "cell_type": "code",
      "execution_count": 6,
      "metadata": {
        "id": "ub5XKwbdAQ32"
      },
      "outputs": [],
      "source": [
        "from sklearn.model_selection import train_test_split\n",
        "X_train, X_test, Y_train, Y_test = train_test_split(\n",
        "    X, Y, test_size=0.3, random_state=2)"
      ]
    },
    {
      "cell_type": "markdown",
      "metadata": {
        "id": "P6CambWxdEwn"
      },
      "source": [
        "##Resnet"
      ]
    },
    {
      "cell_type": "code",
      "source": [
        "def DiceMetric(y_true, y_pred):\n",
        "  smooth=1e-6 \n",
        "  gama=2\n",
        "  y_true, y_pred = tf.cast(\n",
        "      y_true, dtype=tf.float32), tf.cast(y_pred, tf.float32)\n",
        "  nominator = 2 * \\\n",
        "      tf.reduce_sum(tf.multiply(y_pred, y_true)) + smooth\n",
        "  denominator = tf.reduce_sum(\n",
        "      y_pred ** gama) + tf.reduce_sum(y_true ** gama) + smooth\n",
        "  result = tf.divide(nominator, denominator)\n",
        "  return result\n",
        "def DiceLoss(y_true, y_pred):\n",
        "      result= 1- DiceMetric(y_true, y_pred)\n",
        "      return result"
      ],
      "metadata": {
        "id": "Urgfb0zMWlz-"
      },
      "execution_count": 7,
      "outputs": []
    },
    {
      "cell_type": "code",
      "source": [
        "def conv_block(X,f,d=0.1,group=1):\n",
        "  c = tf.keras.layers.Conv2D(f[0], (2, 2), activation='relu', kernel_initializer='he_normal', padding='same',groups=group)(X)\n",
        "  c = tf.keras.layers.BatchNormalization(axis=3)(c)\n",
        "  c = tf.keras.layers.Dropout(d)(c)\n",
        "  c = tf.keras.layers.Conv2D(f[1], (2, 2), kernel_initializer='he_normal', padding='same', groups=group)(c)\n",
        "  c = tf.keras.layers.BatchNormalization(axis=3)(c)\n",
        "  s = tf.keras.layers.Conv2D(f[1], (2, 2), kernel_initializer='he_normal', padding='same')(X)\n",
        "  s = tf.keras.layers.BatchNormalization(axis=3)(s)\n",
        "  c = tf.keras.layers.Add()([c,s])\n",
        "  c = tf.keras.layers.ReLU()(c)\n",
        "  return c,s"
      ],
      "metadata": {
        "id": "MDQHBprOXZXG"
      },
      "execution_count": 9,
      "outputs": []
    },
    {
      "cell_type": "code",
      "execution_count": 15,
      "metadata": {
        "colab": {
          "base_uri": "https://localhost:8080/"
        },
        "id": "GJgrBPxjiV-c",
        "outputId": "654ac7d1-492e-4d4f-d7e6-47c452ef5d49"
      },
      "outputs": [
        {
          "output_type": "stream",
          "name": "stdout",
          "text": [
            "Model: \"model\"\n",
            "__________________________________________________________________________________________________\n",
            " Layer (type)                   Output Shape         Param #     Connected to                     \n",
            "==================================================================================================\n",
            " input_7 (InputLayer)           [(None, 128, 128, 1  0           []                               \n",
            "                                )]                                                                \n",
            "                                                                                                  \n",
            " lambda_6 (Lambda)              (None, 128, 128, 1)  0           ['input_7[0][0]']                \n",
            "                                                                                                  \n",
            " conv2d_84 (Conv2D)             (None, 128, 128, 16  80          ['lambda_6[0][0]']               \n",
            "                                )                                                                 \n",
            "                                                                                                  \n",
            " batch_normalization_84 (BatchN  (None, 128, 128, 16  64         ['conv2d_84[0][0]']              \n",
            " ormalization)                  )                                                                 \n",
            "                                                                                                  \n",
            " dropout_28 (Dropout)           (None, 128, 128, 16  0           ['batch_normalization_84[0][0]'] \n",
            "                                )                                                                 \n",
            "                                                                                                  \n",
            " conv2d_85 (Conv2D)             (None, 128, 128, 16  1040        ['dropout_28[0][0]']             \n",
            "                                )                                                                 \n",
            "                                                                                                  \n",
            " conv2d_86 (Conv2D)             (None, 128, 128, 16  80          ['lambda_6[0][0]']               \n",
            "                                )                                                                 \n",
            "                                                                                                  \n",
            " batch_normalization_85 (BatchN  (None, 128, 128, 16  64         ['conv2d_85[0][0]']              \n",
            " ormalization)                  )                                                                 \n",
            "                                                                                                  \n",
            " batch_normalization_86 (BatchN  (None, 128, 128, 16  64         ['conv2d_86[0][0]']              \n",
            " ormalization)                  )                                                                 \n",
            "                                                                                                  \n",
            " add_28 (Add)                   (None, 128, 128, 16  0           ['batch_normalization_85[0][0]', \n",
            "                                )                                 'batch_normalization_86[0][0]'] \n",
            "                                                                                                  \n",
            " re_lu_28 (ReLU)                (None, 128, 128, 16  0           ['add_28[0][0]']                 \n",
            "                                )                                                                 \n",
            "                                                                                                  \n",
            " max_pooling2d_20 (MaxPooling2D  (None, 64, 64, 16)  0           ['re_lu_28[0][0]']               \n",
            " )                                                                                                \n",
            "                                                                                                  \n",
            " conv2d_87 (Conv2D)             (None, 64, 64, 32)   2080        ['max_pooling2d_20[0][0]']       \n",
            "                                                                                                  \n",
            " batch_normalization_87 (BatchN  (None, 64, 64, 32)  128         ['conv2d_87[0][0]']              \n",
            " ormalization)                                                                                    \n",
            "                                                                                                  \n",
            " dropout_29 (Dropout)           (None, 64, 64, 32)   0           ['batch_normalization_87[0][0]'] \n",
            "                                                                                                  \n",
            " conv2d_88 (Conv2D)             (None, 64, 64, 32)   4128        ['dropout_29[0][0]']             \n",
            "                                                                                                  \n",
            " conv2d_89 (Conv2D)             (None, 64, 64, 32)   2080        ['max_pooling2d_20[0][0]']       \n",
            "                                                                                                  \n",
            " batch_normalization_88 (BatchN  (None, 64, 64, 32)  128         ['conv2d_88[0][0]']              \n",
            " ormalization)                                                                                    \n",
            "                                                                                                  \n",
            " batch_normalization_89 (BatchN  (None, 64, 64, 32)  128         ['conv2d_89[0][0]']              \n",
            " ormalization)                                                                                    \n",
            "                                                                                                  \n",
            " add_29 (Add)                   (None, 64, 64, 32)   0           ['batch_normalization_88[0][0]', \n",
            "                                                                  'batch_normalization_89[0][0]'] \n",
            "                                                                                                  \n",
            " re_lu_29 (ReLU)                (None, 64, 64, 32)   0           ['add_29[0][0]']                 \n",
            "                                                                                                  \n",
            " max_pooling2d_21 (MaxPooling2D  (None, 32, 32, 32)  0           ['re_lu_29[0][0]']               \n",
            " )                                                                                                \n",
            "                                                                                                  \n",
            " conv2d_90 (Conv2D)             (None, 32, 32, 64)   8256        ['max_pooling2d_21[0][0]']       \n",
            "                                                                                                  \n",
            " batch_normalization_90 (BatchN  (None, 32, 32, 64)  256         ['conv2d_90[0][0]']              \n",
            " ormalization)                                                                                    \n",
            "                                                                                                  \n",
            " dropout_30 (Dropout)           (None, 32, 32, 64)   0           ['batch_normalization_90[0][0]'] \n",
            "                                                                                                  \n",
            " conv2d_91 (Conv2D)             (None, 32, 32, 64)   16448       ['dropout_30[0][0]']             \n",
            "                                                                                                  \n",
            " conv2d_92 (Conv2D)             (None, 32, 32, 64)   8256        ['max_pooling2d_21[0][0]']       \n",
            "                                                                                                  \n",
            " batch_normalization_91 (BatchN  (None, 32, 32, 64)  256         ['conv2d_91[0][0]']              \n",
            " ormalization)                                                                                    \n",
            "                                                                                                  \n",
            " batch_normalization_92 (BatchN  (None, 32, 32, 64)  256         ['conv2d_92[0][0]']              \n",
            " ormalization)                                                                                    \n",
            "                                                                                                  \n",
            " add_30 (Add)                   (None, 32, 32, 64)   0           ['batch_normalization_91[0][0]', \n",
            "                                                                  'batch_normalization_92[0][0]'] \n",
            "                                                                                                  \n",
            " re_lu_30 (ReLU)                (None, 32, 32, 64)   0           ['add_30[0][0]']                 \n",
            "                                                                                                  \n",
            " max_pooling2d_22 (MaxPooling2D  (None, 16, 16, 64)  0           ['re_lu_30[0][0]']               \n",
            " )                                                                                                \n",
            "                                                                                                  \n",
            " conv2d_93 (Conv2D)             (None, 16, 16, 128)  32896       ['max_pooling2d_22[0][0]']       \n",
            "                                                                                                  \n",
            " batch_normalization_93 (BatchN  (None, 16, 16, 128)  512        ['conv2d_93[0][0]']              \n",
            " ormalization)                                                                                    \n",
            "                                                                                                  \n",
            " dropout_31 (Dropout)           (None, 16, 16, 128)  0           ['batch_normalization_93[0][0]'] \n",
            "                                                                                                  \n",
            " conv2d_94 (Conv2D)             (None, 16, 16, 128)  65664       ['dropout_31[0][0]']             \n",
            "                                                                                                  \n",
            " conv2d_95 (Conv2D)             (None, 16, 16, 128)  32896       ['max_pooling2d_22[0][0]']       \n",
            "                                                                                                  \n",
            " batch_normalization_94 (BatchN  (None, 16, 16, 128)  512        ['conv2d_94[0][0]']              \n",
            " ormalization)                                                                                    \n",
            "                                                                                                  \n",
            " batch_normalization_95 (BatchN  (None, 16, 16, 128)  512        ['conv2d_95[0][0]']              \n",
            " ormalization)                                                                                    \n",
            "                                                                                                  \n",
            " add_31 (Add)                   (None, 16, 16, 128)  0           ['batch_normalization_94[0][0]', \n",
            "                                                                  'batch_normalization_95[0][0]'] \n",
            "                                                                                                  \n",
            " re_lu_31 (ReLU)                (None, 16, 16, 128)  0           ['add_31[0][0]']                 \n",
            "                                                                                                  \n",
            " max_pooling2d_23 (MaxPooling2D  (None, 8, 8, 128)   0           ['re_lu_31[0][0]']               \n",
            " )                                                                                                \n",
            "                                                                                                  \n",
            " conv2d_96 (Conv2D)             (None, 8, 8, 256)    131328      ['max_pooling2d_23[0][0]']       \n",
            "                                                                                                  \n",
            " batch_normalization_96 (BatchN  (None, 8, 8, 256)   1024        ['conv2d_96[0][0]']              \n",
            " ormalization)                                                                                    \n",
            "                                                                                                  \n",
            " dropout_32 (Dropout)           (None, 8, 8, 256)    0           ['batch_normalization_96[0][0]'] \n",
            "                                                                                                  \n",
            " conv2d_97 (Conv2D)             (None, 8, 8, 256)    262400      ['dropout_32[0][0]']             \n",
            "                                                                                                  \n",
            " conv2d_98 (Conv2D)             (None, 8, 8, 256)    131328      ['max_pooling2d_23[0][0]']       \n",
            "                                                                                                  \n",
            " batch_normalization_97 (BatchN  (None, 8, 8, 256)   1024        ['conv2d_97[0][0]']              \n",
            " ormalization)                                                                                    \n",
            "                                                                                                  \n",
            " batch_normalization_98 (BatchN  (None, 8, 8, 256)   1024        ['conv2d_98[0][0]']              \n",
            " ormalization)                                                                                    \n",
            "                                                                                                  \n",
            " add_32 (Add)                   (None, 8, 8, 256)    0           ['batch_normalization_97[0][0]', \n",
            "                                                                  'batch_normalization_98[0][0]'] \n",
            "                                                                                                  \n",
            " re_lu_32 (ReLU)                (None, 8, 8, 256)    0           ['add_32[0][0]']                 \n",
            "                                                                                                  \n",
            " conv2d_transpose_8 (Conv2DTran  (None, 16, 16, 128)  131200     ['re_lu_32[0][0]']               \n",
            " spose)                                                                                           \n",
            "                                                                                                  \n",
            " concatenate_5 (Concatenate)    (None, 16, 16, 256)  0           ['conv2d_transpose_8[0][0]',     \n",
            "                                                                  'batch_normalization_95[0][0]'] \n",
            "                                                                                                  \n",
            " conv2d_99 (Conv2D)             (None, 16, 16, 128)  131200      ['concatenate_5[0][0]']          \n",
            "                                                                                                  \n",
            " batch_normalization_99 (BatchN  (None, 16, 16, 128)  512        ['conv2d_99[0][0]']              \n",
            " ormalization)                                                                                    \n",
            "                                                                                                  \n",
            " dropout_33 (Dropout)           (None, 16, 16, 128)  0           ['batch_normalization_99[0][0]'] \n",
            "                                                                                                  \n",
            " conv2d_100 (Conv2D)            (None, 16, 16, 128)  65664       ['dropout_33[0][0]']             \n",
            "                                                                                                  \n",
            " conv2d_101 (Conv2D)            (None, 16, 16, 128)  131200      ['concatenate_5[0][0]']          \n",
            "                                                                                                  \n",
            " batch_normalization_100 (Batch  (None, 16, 16, 128)  512        ['conv2d_100[0][0]']             \n",
            " Normalization)                                                                                   \n",
            "                                                                                                  \n",
            " batch_normalization_101 (Batch  (None, 16, 16, 128)  512        ['conv2d_101[0][0]']             \n",
            " Normalization)                                                                                   \n",
            "                                                                                                  \n",
            " add_33 (Add)                   (None, 16, 16, 128)  0           ['batch_normalization_100[0][0]',\n",
            "                                                                  'batch_normalization_101[0][0]']\n",
            "                                                                                                  \n",
            " re_lu_33 (ReLU)                (None, 16, 16, 128)  0           ['add_33[0][0]']                 \n",
            "                                                                                                  \n",
            " conv2d_transpose_9 (Conv2DTran  (None, 32, 32, 64)  32832       ['re_lu_33[0][0]']               \n",
            " spose)                                                                                           \n",
            "                                                                                                  \n",
            " concatenate_6 (Concatenate)    (None, 32, 32, 128)  0           ['conv2d_transpose_9[0][0]',     \n",
            "                                                                  'batch_normalization_92[0][0]'] \n",
            "                                                                                                  \n",
            " conv2d_102 (Conv2D)            (None, 32, 32, 64)   32832       ['concatenate_6[0][0]']          \n",
            "                                                                                                  \n",
            " batch_normalization_102 (Batch  (None, 32, 32, 64)  256         ['conv2d_102[0][0]']             \n",
            " Normalization)                                                                                   \n",
            "                                                                                                  \n",
            " dropout_34 (Dropout)           (None, 32, 32, 64)   0           ['batch_normalization_102[0][0]']\n",
            "                                                                                                  \n",
            " conv2d_103 (Conv2D)            (None, 32, 32, 64)   16448       ['dropout_34[0][0]']             \n",
            "                                                                                                  \n",
            " conv2d_104 (Conv2D)            (None, 32, 32, 64)   32832       ['concatenate_6[0][0]']          \n",
            "                                                                                                  \n",
            " batch_normalization_103 (Batch  (None, 32, 32, 64)  256         ['conv2d_103[0][0]']             \n",
            " Normalization)                                                                                   \n",
            "                                                                                                  \n",
            " batch_normalization_104 (Batch  (None, 32, 32, 64)  256         ['conv2d_104[0][0]']             \n",
            " Normalization)                                                                                   \n",
            "                                                                                                  \n",
            " add_34 (Add)                   (None, 32, 32, 64)   0           ['batch_normalization_103[0][0]',\n",
            "                                                                  'batch_normalization_104[0][0]']\n",
            "                                                                                                  \n",
            " re_lu_34 (ReLU)                (None, 32, 32, 64)   0           ['add_34[0][0]']                 \n",
            "                                                                                                  \n",
            " conv2d_transpose_10 (Conv2DTra  (None, 64, 64, 32)  8224        ['re_lu_34[0][0]']               \n",
            " nspose)                                                                                          \n",
            "                                                                                                  \n",
            " concatenate_7 (Concatenate)    (None, 64, 64, 64)   0           ['conv2d_transpose_10[0][0]',    \n",
            "                                                                  'batch_normalization_89[0][0]'] \n",
            "                                                                                                  \n",
            " conv2d_105 (Conv2D)            (None, 64, 64, 32)   8224        ['concatenate_7[0][0]']          \n",
            "                                                                                                  \n",
            " batch_normalization_105 (Batch  (None, 64, 64, 32)  128         ['conv2d_105[0][0]']             \n",
            " Normalization)                                                                                   \n",
            "                                                                                                  \n",
            " dropout_35 (Dropout)           (None, 64, 64, 32)   0           ['batch_normalization_105[0][0]']\n",
            "                                                                                                  \n",
            " conv2d_106 (Conv2D)            (None, 64, 64, 32)   4128        ['dropout_35[0][0]']             \n",
            "                                                                                                  \n",
            " conv2d_107 (Conv2D)            (None, 64, 64, 32)   8224        ['concatenate_7[0][0]']          \n",
            "                                                                                                  \n",
            " batch_normalization_106 (Batch  (None, 64, 64, 32)  128         ['conv2d_106[0][0]']             \n",
            " Normalization)                                                                                   \n",
            "                                                                                                  \n",
            " batch_normalization_107 (Batch  (None, 64, 64, 32)  128         ['conv2d_107[0][0]']             \n",
            " Normalization)                                                                                   \n",
            "                                                                                                  \n",
            " add_35 (Add)                   (None, 64, 64, 32)   0           ['batch_normalization_106[0][0]',\n",
            "                                                                  'batch_normalization_107[0][0]']\n",
            "                                                                                                  \n",
            " re_lu_35 (ReLU)                (None, 64, 64, 32)   0           ['add_35[0][0]']                 \n",
            "                                                                                                  \n",
            " conv2d_transpose_11 (Conv2DTra  (None, 128, 128, 16  2064       ['re_lu_35[0][0]']               \n",
            " nspose)                        )                                                                 \n",
            "                                                                                                  \n",
            " concatenate_8 (Concatenate)    (None, 128, 128, 32  0           ['conv2d_transpose_11[0][0]',    \n",
            "                                )                                 'batch_normalization_86[0][0]'] \n",
            "                                                                                                  \n",
            " conv2d_108 (Conv2D)            (None, 128, 128, 16  2064        ['concatenate_8[0][0]']          \n",
            "                                )                                                                 \n",
            "                                                                                                  \n",
            " batch_normalization_108 (Batch  (None, 128, 128, 16  64         ['conv2d_108[0][0]']             \n",
            " Normalization)                 )                                                                 \n",
            "                                                                                                  \n",
            " dropout_36 (Dropout)           (None, 128, 128, 16  0           ['batch_normalization_108[0][0]']\n",
            "                                )                                                                 \n",
            "                                                                                                  \n",
            " conv2d_109 (Conv2D)            (None, 128, 128, 16  1040        ['dropout_36[0][0]']             \n",
            "                                )                                                                 \n",
            "                                                                                                  \n",
            " conv2d_110 (Conv2D)            (None, 128, 128, 16  2064        ['concatenate_8[0][0]']          \n",
            "                                )                                                                 \n",
            "                                                                                                  \n",
            " batch_normalization_109 (Batch  (None, 128, 128, 16  64         ['conv2d_109[0][0]']             \n",
            " Normalization)                 )                                                                 \n",
            "                                                                                                  \n",
            " batch_normalization_110 (Batch  (None, 128, 128, 16  64         ['conv2d_110[0][0]']             \n",
            " Normalization)                 )                                                                 \n",
            "                                                                                                  \n",
            " add_36 (Add)                   (None, 128, 128, 16  0           ['batch_normalization_109[0][0]',\n",
            "                                )                                 'batch_normalization_110[0][0]']\n",
            "                                                                                                  \n",
            " re_lu_36 (ReLU)                (None, 128, 128, 16  0           ['add_36[0][0]']                 \n",
            "                                )                                                                 \n",
            "                                                                                                  \n",
            " conv2d_111 (Conv2D)            (None, 128, 128, 1)  17          ['re_lu_36[0][0]']               \n",
            "                                                                                                  \n",
            "==================================================================================================\n",
            "Total params: 1,318,049\n",
            "Trainable params: 1,313,633\n",
            "Non-trainable params: 4,416\n",
            "__________________________________________________________________________________________________\n"
          ]
        }
      ],
      "source": [
        "import tensorflow as tf\n",
        "\n",
        "IMG_WIDTH = 128\n",
        "IMG_HEIGHT = 128\n",
        "IMG_CHANNELS = 1\n",
        "\n",
        "\n",
        "#Build the model\n",
        "inputs = tf.keras.layers.Input((IMG_HEIGHT, IMG_WIDTH, IMG_CHANNELS))\n",
        "s = tf.keras.layers.Lambda(lambda x: x / 255)(inputs)\n",
        "#s= inputs\n",
        "#Contraction path\n",
        "c1,z1 = conv_block(s,[16,16])\n",
        "p1 = tf.keras.layers.MaxPooling2D((2, 2))(c1)\n",
        "\n",
        "\n",
        "c2,z2 = conv_block(p1,[32,32])\n",
        "p2 = tf.keras.layers.MaxPooling2D((2, 2))(c2)\n",
        "\n",
        "c3,z3 = conv_block(p2,[64,64])\n",
        "p3 = tf.keras.layers.MaxPooling2D((2, 2))(c3)\n",
        " \n",
        "c4,z4 = conv_block(p3,[128,128])\n",
        "p4 = tf.keras.layers.MaxPooling2D(pool_size=(2, 2))(c4)\n",
        " \n",
        "c5,_ = conv_block(p4,[256,256])\n",
        "\n",
        "#Expansive path \n",
        "u6 = tf.keras.layers.Conv2DTranspose(128, (2, 2), strides=(2, 2), padding='same')(c5)\n",
        "u6 = tf.keras.layers.concatenate([u6, z4])\n",
        "c6,_ = conv_block(u6,[128,128])\n",
        " \n",
        "u7 = tf.keras.layers.Conv2DTranspose(64, (2, 2), strides=(2, 2), padding='same')(c6)\n",
        "u7 = tf.keras.layers.concatenate([u7, z3])\n",
        "c7,_ = conv_block(u7,[64,64])\n",
        " \n",
        "u8 = tf.keras.layers.Conv2DTranspose(32, (2, 2), strides=(2, 2), padding='same')(c7)\n",
        "u8 = tf.keras.layers.concatenate([u8, z2])\n",
        "c8,_ = conv_block(u8,[32,32])\n",
        "\n",
        "u9 = tf.keras.layers.Conv2DTranspose(16, (2, 2), strides=(2, 2), padding='same')(c8)\n",
        "u9 = tf.keras.layers.concatenate([u9, z1], axis=3)\n",
        "c9,_ = conv_block(u9,[16,16])\n",
        " \n",
        "outputs = tf.keras.layers.Conv2D(1, (1, 1), activation='sigmoid')(c9)\n",
        " \n",
        "model = tf.keras.Model(inputs=[inputs], outputs=[outputs])\n",
        "model.compile(optimizer='adam', loss='binary_crossentropy', metrics=['accuracy',DiceMetric])\n",
        "model.summary()"
      ]
    },
    {
      "cell_type": "markdown",
      "metadata": {
        "id": "4JFyLMRezeWO"
      },
      "source": [
        "##Model Fit"
      ]
    },
    {
      "cell_type": "code",
      "execution_count": 16,
      "metadata": {
        "colab": {
          "base_uri": "https://localhost:8080/"
        },
        "id": "kCB8atJ1zda4",
        "outputId": "6c768df7-2b46-4f4f-c9c2-8c4a235bb9d3"
      },
      "outputs": [
        {
          "output_type": "stream",
          "name": "stdout",
          "text": [
            "Epoch 1/25\n",
            "124/124 [==============================] - 24s 63ms/step - loss: 0.1116 - accuracy: 0.9783 - DiceMetric: 0.2283 - val_loss: 0.1167 - val_accuracy: 0.9825 - val_DiceMetric: 0.2197\n",
            "Epoch 2/25\n",
            "124/124 [==============================] - 6s 50ms/step - loss: 0.0347 - accuracy: 0.9879 - DiceMetric: 0.5376 - val_loss: 0.0646 - val_accuracy: 0.9831 - val_DiceMetric: 0.4121\n",
            "Epoch 3/25\n",
            "124/124 [==============================] - 6s 50ms/step - loss: 0.0216 - accuracy: 0.9886 - DiceMetric: 0.7186 - val_loss: 0.0265 - val_accuracy: 0.9866 - val_DiceMetric: 0.5473\n",
            "Epoch 4/25\n",
            "124/124 [==============================] - 6s 50ms/step - loss: 0.0163 - accuracy: 0.9889 - DiceMetric: 0.7902 - val_loss: 0.0202 - val_accuracy: 0.9874 - val_DiceMetric: 0.7516\n",
            "Epoch 5/25\n",
            "124/124 [==============================] - 6s 50ms/step - loss: 0.0132 - accuracy: 0.9890 - DiceMetric: 0.8190 - val_loss: 0.0149 - val_accuracy: 0.9874 - val_DiceMetric: 0.8361\n",
            "Epoch 6/25\n",
            "124/124 [==============================] - 6s 52ms/step - loss: 0.0116 - accuracy: 0.9891 - DiceMetric: 0.8485 - val_loss: 0.0119 - val_accuracy: 0.9878 - val_DiceMetric: 0.8592\n",
            "Epoch 7/25\n",
            "124/124 [==============================] - 6s 50ms/step - loss: 0.0100 - accuracy: 0.9892 - DiceMetric: 0.8753 - val_loss: 0.0105 - val_accuracy: 0.9880 - val_DiceMetric: 0.8727\n",
            "Epoch 8/25\n",
            "124/124 [==============================] - 6s 50ms/step - loss: 0.0092 - accuracy: 0.9892 - DiceMetric: 0.8836 - val_loss: 0.0112 - val_accuracy: 0.9875 - val_DiceMetric: 0.8705\n",
            "Epoch 9/25\n",
            "124/124 [==============================] - 6s 50ms/step - loss: 0.0089 - accuracy: 0.9892 - DiceMetric: 0.8864 - val_loss: 0.0102 - val_accuracy: 0.9880 - val_DiceMetric: 0.8721\n",
            "Epoch 10/25\n",
            "124/124 [==============================] - 6s 51ms/step - loss: 0.0081 - accuracy: 0.9893 - DiceMetric: 0.9001 - val_loss: 0.0092 - val_accuracy: 0.9880 - val_DiceMetric: 0.8957\n",
            "Epoch 11/25\n",
            "124/124 [==============================] - 6s 50ms/step - loss: 0.0076 - accuracy: 0.9893 - DiceMetric: 0.9092 - val_loss: 0.0090 - val_accuracy: 0.9880 - val_DiceMetric: 0.8999\n",
            "Epoch 12/25\n",
            "124/124 [==============================] - 6s 50ms/step - loss: 0.0073 - accuracy: 0.9894 - DiceMetric: 0.9138 - val_loss: 0.0094 - val_accuracy: 0.9878 - val_DiceMetric: 0.8950\n",
            "Epoch 13/25\n",
            "124/124 [==============================] - 6s 51ms/step - loss: 0.0073 - accuracy: 0.9893 - DiceMetric: 0.9113 - val_loss: 0.0092 - val_accuracy: 0.9878 - val_DiceMetric: 0.8974\n",
            "Epoch 14/25\n",
            "124/124 [==============================] - 6s 50ms/step - loss: 0.0067 - accuracy: 0.9894 - DiceMetric: 0.9221 - val_loss: 0.0087 - val_accuracy: 0.9879 - val_DiceMetric: 0.9020\n",
            "Epoch 15/25\n",
            "124/124 [==============================] - 7s 53ms/step - loss: 0.0067 - accuracy: 0.9894 - DiceMetric: 0.9236 - val_loss: 0.0083 - val_accuracy: 0.9880 - val_DiceMetric: 0.9075\n",
            "Epoch 16/25\n",
            "124/124 [==============================] - 6s 50ms/step - loss: 0.0064 - accuracy: 0.9895 - DiceMetric: 0.9263 - val_loss: 0.0085 - val_accuracy: 0.9881 - val_DiceMetric: 0.9051\n",
            "Epoch 17/25\n",
            "124/124 [==============================] - 6s 50ms/step - loss: 0.0064 - accuracy: 0.9895 - DiceMetric: 0.9265 - val_loss: 0.0086 - val_accuracy: 0.9879 - val_DiceMetric: 0.9074\n",
            "Epoch 18/25\n",
            "124/124 [==============================] - 6s 51ms/step - loss: 0.0062 - accuracy: 0.9895 - DiceMetric: 0.9296 - val_loss: 0.0092 - val_accuracy: 0.9881 - val_DiceMetric: 0.8959\n",
            "Epoch 19/25\n",
            "124/124 [==============================] - 6s 50ms/step - loss: 0.0061 - accuracy: 0.9895 - DiceMetric: 0.9315 - val_loss: 0.0081 - val_accuracy: 0.9881 - val_DiceMetric: 0.9139\n",
            "Epoch 20/25\n",
            "124/124 [==============================] - 6s 51ms/step - loss: 0.0059 - accuracy: 0.9895 - DiceMetric: 0.9351 - val_loss: 0.0085 - val_accuracy: 0.9880 - val_DiceMetric: 0.9077\n",
            "Epoch 21/25\n",
            "124/124 [==============================] - 6s 51ms/step - loss: 0.0058 - accuracy: 0.9895 - DiceMetric: 0.9379 - val_loss: 0.0083 - val_accuracy: 0.9881 - val_DiceMetric: 0.9108\n",
            "Epoch 22/25\n",
            "124/124 [==============================] - 6s 50ms/step - loss: 0.0057 - accuracy: 0.9895 - DiceMetric: 0.9383 - val_loss: 0.0080 - val_accuracy: 0.9882 - val_DiceMetric: 0.9150\n",
            "Epoch 23/25\n",
            "124/124 [==============================] - 6s 51ms/step - loss: 0.0056 - accuracy: 0.9895 - DiceMetric: 0.9400 - val_loss: 0.0081 - val_accuracy: 0.9881 - val_DiceMetric: 0.9155\n",
            "Epoch 24/25\n",
            "124/124 [==============================] - 7s 53ms/step - loss: 0.0055 - accuracy: 0.9895 - DiceMetric: 0.9424 - val_loss: 0.0080 - val_accuracy: 0.9881 - val_DiceMetric: 0.9138\n",
            "Epoch 25/25\n",
            "124/124 [==============================] - 6s 50ms/step - loss: 0.0054 - accuracy: 0.9896 - DiceMetric: 0.9452 - val_loss: 0.0084 - val_accuracy: 0.9879 - val_DiceMetric: 0.9112\n"
          ]
        },
        {
          "output_type": "execute_result",
          "data": {
            "text/plain": [
              "<keras.callbacks.History at 0x7fe76e091ed0>"
            ]
          },
          "metadata": {},
          "execution_count": 16
        }
      ],
      "source": [
        "model.fit(X_train,Y_train,batch_size=16,epochs=25,validation_split=0.2)"
      ]
    },
    {
      "cell_type": "code",
      "execution_count": 17,
      "metadata": {
        "colab": {
          "base_uri": "https://localhost:8080/"
        },
        "id": "b0yz227RzmyI",
        "outputId": "003e6269-c8c9-4890-8c1a-b0b8acbc5821"
      },
      "outputs": [
        {
          "output_type": "stream",
          "name": "stdout",
          "text": [
            "Score for fold 0: loss of 0.006995582953095436; accuracy of 98.9439308643341% DiceMetric of 91.55274033546448%\n",
            "['loss', 'accuracy', 'DiceMetric']\n"
          ]
        }
      ],
      "source": [
        "scores= model.evaluate(X_test, Y_test, verbose=0)\n",
        "print(f'Score for fold {0}: {model.metrics_names[0]} of {scores[0]}; {model.metrics_names[1]} of {scores[1]*100}% {model.metrics_names[2]} of {scores[2]*100}%')\n",
        "print(model.metrics_names)"
      ]
    },
    {
      "cell_type": "code",
      "source": [
        "print(model.metrics_names)"
      ],
      "metadata": {
        "colab": {
          "base_uri": "https://localhost:8080/"
        },
        "id": "oud92q0zgO7x",
        "outputId": "e77e0fe0-001a-48d3-9aa1-bedfbf3869f0"
      },
      "execution_count": null,
      "outputs": [
        {
          "output_type": "stream",
          "name": "stdout",
          "text": [
            "['loss', 'accuracy', 'mean_io_u_3']\n"
          ]
        }
      ]
    },
    {
      "cell_type": "markdown",
      "metadata": {
        "id": "jFP-3gQ9BO8f"
      },
      "source": [
        "##Testing"
      ]
    },
    {
      "cell_type": "code",
      "execution_count": 18,
      "metadata": {
        "id": "5P0-RG0wjzA6"
      },
      "outputs": [],
      "source": [
        "Ypred=model.predict(X_test)"
      ]
    },
    {
      "cell_type": "code",
      "execution_count": 19,
      "metadata": {
        "colab": {
          "base_uri": "https://localhost:8080/",
          "height": 518
        },
        "id": "J1ra2EoVycvl",
        "outputId": "e325a6d8-f92c-423d-cd24-66059f2878d5"
      },
      "outputs": [
        {
          "output_type": "display_data",
          "data": {
            "text/plain": [
              "<Figure size 432x288 with 1 Axes>"
            ],
            "image/png": "[encoded data removed]"
          },
          "metadata": {
            "needs_background": "light"
          }
        },
        {
          "output_type": "display_data",
          "data": {
            "text/plain": [
              "<Figure size 432x288 with 1 Axes>"
            ],
            "image/png": "[encoded data removed]"
          },
          "metadata": {
            "needs_background": "light"
          }
        }
      ],
      "source": [
        "plt.imshow(np.reshape(Ypred[160],(128,128)), cmap=plt.cm.gray)\n",
        "plt.show()\n",
        "plt.imshow(np.reshape(Y_test[160],(128,128)), cmap=plt.cm.gray)\n",
        "plt.show()"
      ]
    },
    {
      "cell_type": "code",
      "execution_count": 20,
      "metadata": {
        "id": "ikB_eI_ZmVtq"
      },
      "outputs": [],
      "source": [
        "def dice(true_mask, pred_mask):\n",
        "    \"\"\"\n",
        "        Computes the Dice coefficient.\n",
        "        Args:\n",
        "            true_mask : Array of arbitrary shape.\n",
        "            pred_mask : Array with the same shape than true_mask.  \n",
        "        \n",
        "        Returns:\n",
        "            A scalar representing the Dice coefficient between the two segmentations. \n",
        "        \n",
        "    \"\"\"\n",
        "    non_seg_score=1.0\n",
        "    if type(pred_mask) != np.ndarray:\n",
        "      t = torch.Tensor([0.5])\n",
        "      pred_mask=(pred_mask > t)\n",
        "    else:\n",
        "      pred_mask[pred_mask>=0.5]=1\n",
        "      pred_mask[pred_mask<0.5]=0\n",
        "\n",
        "    # If both segmentations are all zero, the dice will be 1. (Developer decision)\n",
        "    im_sum = true_mask.sum() + pred_mask.sum()\n",
        "    if im_sum == 0:\n",
        "        return non_seg_score\n",
        "\n",
        "    # Compute Dice coefficient\n",
        "    intersection = np.logical_and(true_mask, pred_mask)\n",
        "    return 2. * intersection.sum() / im_sum"
      ]
    },
    {
      "cell_type": "code",
      "execution_count": 21,
      "metadata": {
        "colab": {
          "base_uri": "https://localhost:8080/"
        },
        "id": "beBVFzRQmXI-",
        "outputId": "d62152c7-9db1-46df-b82b-67f6ccc34aa3"
      },
      "outputs": [
        {
          "output_type": "execute_result",
          "data": {
            "text/plain": [
              "1.043468708411671"
            ]
          },
          "metadata": {},
          "execution_count": 21
        }
      ],
      "source": [
        "diceaux=dice(Y_test[160],Ypred[160])\n",
        "diceaux"
      ]
    },
    {
      "cell_type": "markdown",
      "metadata": {
        "id": "lc2Sj8PPuJBv"
      },
      "source": [
        "## Model Fit Kfold"
      ]
    },
    {
      "cell_type": "code",
      "execution_count": 22,
      "metadata": {
        "id": "Fh7g3mmhuNPV"
      },
      "outputs": [],
      "source": [
        "from sklearn.model_selection import train_test_split\n",
        "from sklearn.model_selection import KFold\n",
        "from sklearn.model_selection import cross_val_score\n",
        "from numpy import mean\n",
        "from numpy import absolute\n",
        "from numpy import sqrt\n",
        "import pandas as pd"
      ]
    },
    {
      "cell_type": "code",
      "execution_count": 23,
      "metadata": {
        "id": "kj7ESdJAuOaW"
      },
      "outputs": [],
      "source": [
        "cv = KFold(n_splits=5, random_state=1, shuffle=True)"
      ]
    },
    {
      "cell_type": "markdown",
      "source": [
        "25 epochs"
      ],
      "metadata": {
        "id": "erWVgdGfhXKu"
      }
    },
    {
      "cell_type": "code",
      "execution_count": 24,
      "metadata": {
        "colab": {
          "base_uri": "https://localhost:8080/"
        },
        "id": "D7gaF3LTvOU-",
        "outputId": "4ea02850-9c2a-43dc-bdaa-ba664071361a"
      },
      "outputs": [
        {
          "output_type": "stream",
          "name": "stdout",
          "text": [
            "Score for fold 1: loss of 0.013711574487388134; accuracy of 98.9607036113739% DiceMetric of 89.64645862579346%\n",
            "Score for fold 2: loss of 0.016491202637553215; accuracy of 98.84399175643921% DiceMetric of 89.99229669570923%\n",
            "Score for fold 3: loss of 0.02911568433046341; accuracy of 98.89013767242432% DiceMetric of 84.47749614715576%\n",
            "Score for fold 4: loss of 0.024804146960377693; accuracy of 98.87792468070984% DiceMetric of 87.79023885726929%\n",
            "Score for fold 5: loss of 0.024883681908249855; accuracy of 98.93229007720947% DiceMetric of 85.4052186012268%\n"
          ]
        }
      ],
      "source": [
        "VALIDATION_ACCURACY = []\n",
        "VALIDAITON_LOSS = []\n",
        "nfold=1\n",
        "for train_index, val_index in cv.split(X,Y):\n",
        "  model = tf.keras.Model(inputs=[inputs], outputs=[outputs])\n",
        "  model.compile(optimizer='adam', loss='binary_crossentropy', metrics=['accuracy',DiceMetric])\n",
        "\n",
        "  X_fold=X[train_index,:,:]\n",
        "  Y_fold=Y[train_index,:,:]\n",
        "  \n",
        "  model.fit(X_fold,Y_fold,batch_size=16,epochs=25,validation_split=0.2,verbose=0)\n",
        "\n",
        "  Xtest_fold=X[val_index,:,:]\n",
        "  Ytest_fold=Y[val_index,:,:]\n",
        "  scores= model.evaluate(Xtest_fold, Ytest_fold, verbose=0)\n",
        "  print(f'Score for fold {nfold}: {model.metrics_names[0]} of {scores[0]}; {model.metrics_names[1]} of {scores[1]*100}% {model.metrics_names[2]} of {scores[2]*100}%')\n",
        "  nfold+=1"
      ]
    },
    {
      "cell_type": "markdown",
      "source": [
        "50 epochs"
      ],
      "metadata": {
        "id": "uOWim3VxhZsj"
      }
    },
    {
      "cell_type": "code",
      "source": [
        "VALIDATION_ACCURACY = []\n",
        "VALIDAITON_LOSS = []\n",
        "nfold=1\n",
        "for train_index, val_index in cv.split(X,Y):\n",
        "  model = tf.keras.Model(inputs=[inputs], outputs=[outputs])\n",
        "  model.compile(optimizer='adam', loss='binary_crossentropy', metrics=['accuracy',DiceMetric])\n",
        "\n",
        "  X_fold=X[train_index,:,:]\n",
        "  Y_fold=Y[train_index,:,:]\n",
        "  \n",
        "  model.fit(X_fold,Y_fold,batch_size=16,epochs=50,validation_split=0.2,verbose=0)\n",
        "\n",
        "  Xtest_fold=X[val_index,:,:]\n",
        "  Ytest_fold=Y[val_index,:,:]\n",
        "  scores= model.evaluate(Xtest_fold, Ytest_fold, verbose=0)\n",
        "  print(f'Score for fold {nfold}: {model.metrics_names[0]} of {scores[0]}; {model.metrics_names[1]} of {scores[1]*100}% {model.metrics_names[2]} of {scores[2]*100}%')\n",
        "  nfold+=1"
      ],
      "metadata": {
        "colab": {
          "base_uri": "https://localhost:8080/"
        },
        "id": "QN7om-UlhbP9",
        "outputId": "e8e570de-1955-4c6c-d911-39ed9447879b"
      },
      "execution_count": 25,
      "outputs": [
        {
          "output_type": "stream",
          "name": "stdout",
          "text": [
            "Score for fold 1: loss of 0.035441458225250244; accuracy of 98.93199801445007% DiceMetric of 88.60492706298828%\n",
            "Score for fold 2: loss of 0.0388910211622715; accuracy of 98.80289435386658% DiceMetric of 87.82492280006409%\n",
            "Score for fold 3: loss of 0.04442983493208885; accuracy of 98.86915683746338% DiceMetric of 83.60141515731812%\n",
            "Score for fold 4: loss of 0.03743252903223038; accuracy of 98.86673092842102% DiceMetric of 87.42475509643555%\n",
            "Score for fold 5: loss of 0.036050498485565186; accuracy of 98.92160296440125% DiceMetric of 85.15322208404541%\n"
          ]
        }
      ]
    }
  ],
  "metadata": {
    "accelerator": "GPU",
    "colab": {
      "name": "Resnet V4.ipynb",
      "provenance": [],
      "authorship_tag": "ABX9TyNKcL0K+VFIzPfpv/BZEEAK",
      "include_colab_link": true
    },
    "gpuClass": "standard",
    "kernelspec": {
      "display_name": "Python 3",
      "name": "python3"
    },
    "language_info": {
      "name": "python"
    }
  },
  "nbformat": 4,
  "nbformat_minor": 0
}